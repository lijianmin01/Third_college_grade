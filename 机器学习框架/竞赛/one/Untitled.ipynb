{
 "cells": [
  {
   "cell_type": "code",
   "execution_count": 5,
   "metadata": {
    "ExecuteTime": {
     "end_time": "2020-09-30T08:57:49.479444Z",
     "start_time": "2020-09-30T08:57:46.427264Z"
    }
   },
   "outputs": [],
   "source": [
    "import pandas as pd\n",
    "import numpy as np\n",
    "import matplotlib.pyplot as plt\n",
    "import seaborn as sns"
   ]
  },
  {
   "cell_type": "code",
   "execution_count": 2,
   "metadata": {
    "ExecuteTime": {
     "end_time": "2020-09-30T08:54:07.844399Z",
     "start_time": "2020-09-30T08:54:07.777374Z"
    }
   },
   "outputs": [
    {
     "name": "stdout",
     "output_type": "stream",
     "text": [
      "<class 'pandas.core.frame.DataFrame'>\n",
      "RangeIndex: 1100 entries, 0 to 1099\n",
      "Data columns (total 11 columns):\n",
      "Unnamed: 0    1100 non-null int64\n",
      "24            1100 non-null int64\n",
      "2             1100 non-null int64\n",
      "3             1100 non-null int64\n",
      "3.1           1100 non-null int64\n",
      "1             1100 non-null int64\n",
      "1.1           1100 non-null int64\n",
      "2.1           1100 non-null int64\n",
      "3.2           1100 non-null int64\n",
      "0             1100 non-null int64\n",
      "1.2           1100 non-null int64\n",
      "dtypes: int64(11)\n",
      "memory usage: 94.7 KB\n",
      "None\n",
      "<class 'pandas.core.frame.DataFrame'>\n",
      "RangeIndex: 300 entries, 0 to 299\n",
      "Data columns (total 10 columns):\n",
      "Unnamed: 0    300 non-null int64\n",
      "24            300 non-null int64\n",
      "2             300 non-null int64\n",
      "3             300 non-null int64\n",
      "3.1           300 non-null int64\n",
      "1             300 non-null int64\n",
      "1.1           300 non-null int64\n",
      "2.1           300 non-null int64\n",
      "3.2           300 non-null int64\n",
      "0             300 non-null int64\n",
      "dtypes: int64(10)\n",
      "memory usage: 23.6 KB\n",
      "None\n"
     ]
    }
   ],
   "source": [
    "# 导入数据\n",
    "train = pd.read_csv('cmc_train.csv')\n",
    "test = pd.read_csv('test.csv')\n",
    "\n",
    "print(train.info())\n",
    "print(test.info())"
   ]
  },
  {
   "cell_type": "code",
   "execution_count": 4,
   "metadata": {
    "ExecuteTime": {
     "end_time": "2020-09-30T08:55:51.009556Z",
     "start_time": "2020-09-30T08:55:50.950948Z"
    }
   },
   "outputs": [
    {
     "name": "stdout",
     "output_type": "stream",
     "text": [
      "        Unnamed: 0           24            2            3          3.1  \\\n",
      "count  1100.000000  1100.000000  1100.000000  1100.000000  1100.000000   \n",
      "mean    549.500000    32.590909     2.949091     3.410000     3.296364   \n",
      "std     317.686953     8.298893     1.017208     0.833822     2.356604   \n",
      "min       0.000000    16.000000     1.000000     1.000000     0.000000   \n",
      "25%     274.750000    26.000000     2.000000     3.000000     1.000000   \n",
      "50%     549.500000    32.000000     3.000000     4.000000     3.000000   \n",
      "75%     824.250000    39.000000     4.000000     4.000000     5.000000   \n",
      "max    1099.000000    49.000000     4.000000     4.000000    16.000000   \n",
      "\n",
      "                 1          1.1          2.1          3.2            0  \\\n",
      "count  1100.000000  1100.000000  1100.000000  1100.000000  1100.000000   \n",
      "mean      0.849091     0.760000     2.144545     3.111818     0.078182   \n",
      "std       0.358123     0.427277     0.858516     0.983599     0.268580   \n",
      "min       0.000000     0.000000     1.000000     1.000000     0.000000   \n",
      "25%       1.000000     1.000000     1.000000     3.000000     0.000000   \n",
      "50%       1.000000     1.000000     2.000000     3.000000     0.000000   \n",
      "75%       1.000000     1.000000     3.000000     4.000000     0.000000   \n",
      "max       1.000000     1.000000     4.000000     4.000000     1.000000   \n",
      "\n",
      "               1.2  \n",
      "count  1100.000000  \n",
      "mean      1.930000  \n",
      "std       0.878212  \n",
      "min       1.000000  \n",
      "25%       1.000000  \n",
      "50%       2.000000  \n",
      "75%       3.000000  \n",
      "max       3.000000  \n"
     ]
    }
   ],
   "source": [
    "print(train.describe())"
   ]
  },
  {
   "cell_type": "code",
   "execution_count": null,
   "metadata": {},
   "outputs": [],
   "source": [
    "print(test.info())"
   ]
  },
  {
   "cell_type": "code",
   "execution_count": 7,
   "metadata": {
    "ExecuteTime": {
     "end_time": "2020-09-30T09:00:07.740885Z",
     "start_time": "2020-09-30T09:00:06.946972Z"
    }
   },
   "outputs": [
    {
     "data": {
      "text/plain": [
       "<matplotlib.axes._subplots.AxesSubplot at 0x17fa9d76808>"
      ]
     },
     "execution_count": 7,
     "metadata": {},
     "output_type": "execute_result"
    },
    {
     "data": {
      "image/png": "[encoded data removed]",
      "text/plain": [
       "<Figure size 432x288 with 1 Axes>"
      ]
     },
     "metadata": {
      "needs_background": "light"
     },
     "output_type": "display_data"
    }
   ],
   "source": [
    "# 24 跟 1.2之间的关系\n",
    "sns.barplot(x='24',y='1.2',data=train)"
   ]
  },
  {
   "cell_type": "code",
   "execution_count": 8,
   "metadata": {
    "ExecuteTime": {
     "end_time": "2020-09-30T09:05:32.787607Z",
     "start_time": "2020-09-30T09:05:32.780590Z"
    },
    "scrolled": true
   },
   "outputs": [
    {
     "data": {
      "text/plain": [
       "0       44\n",
       "1       36\n",
       "2       27\n",
       "3       20\n",
       "4       29\n",
       "        ..\n",
       "1095    41\n",
       "1096    32\n",
       "1097    37\n",
       "1098    17\n",
       "1099    17\n",
       "Name: 24, Length: 1100, dtype: int64"
      ]
     },
     "execution_count": 8,
     "metadata": {},
     "output_type": "execute_result"
    }
   ],
   "source": [
    "train['24']"
   ]
  },
  {
   "cell_type": "code",
   "execution_count": 14,
   "metadata": {
    "ExecuteTime": {
     "end_time": "2020-09-30T09:11:09.723976Z",
     "start_time": "2020-09-30T09:11:09.715001Z"
    }
   },
   "outputs": [
    {
     "data": {
      "text/plain": [
       "count    1100.000000\n",
       "mean       32.590909\n",
       "std         8.298893\n",
       "min        16.000000\n",
       "25%        26.000000\n",
       "50%        32.000000\n",
       "75%        39.000000\n",
       "max        49.000000\n",
       "Name: 24, dtype: float64"
      ]
     },
     "execution_count": 14,
     "metadata": {},
     "output_type": "execute_result"
    }
   ],
   "source": [
    "train['24'].describe()"
   ]
  },
  {
   "cell_type": "code",
   "execution_count": 10,
   "metadata": {
    "ExecuteTime": {
     "end_time": "2020-09-30T09:09:38.893776Z",
     "start_time": "2020-09-30T09:09:35.334765Z"
    },
    "scrolled": true
   },
   "outputs": [
    {
     "data": {
      "text/plain": [
       "0       1.375398\n",
       "1       0.410976\n",
       "2      -0.674000\n",
       "3      -1.517870\n",
       "4      -0.432894\n",
       "          ...   \n",
       "1095    1.013740\n",
       "1096   -0.071236\n",
       "1097    0.531528\n",
       "1098   -1.879528\n",
       "1099   -1.879528\n",
       "Name: 24_1, Length: 1100, dtype: float64"
      ]
     },
     "execution_count": 10,
     "metadata": {},
     "output_type": "execute_result"
    }
   ],
   "source": [
    "# 对第一个特征标准化处理\n",
    "from sklearn.preprocessing import scale\n",
    "train['24_1']=scale(X=train['24'],with_mean=True,with_std=True,copy=True)\n",
    "train['24_1']"
   ]
  },
  {
   "cell_type": "code",
   "execution_count": 13,
   "metadata": {
    "ExecuteTime": {
     "end_time": "2020-09-30T09:10:31.888595Z",
     "start_time": "2020-09-30T09:10:31.878620Z"
    }
   },
   "outputs": [
    {
     "data": {
      "text/plain": [
       "count    1100.000000\n",
       "mean        2.949091\n",
       "std         1.017208\n",
       "min         1.000000\n",
       "25%         2.000000\n",
       "50%         3.000000\n",
       "75%         4.000000\n",
       "max         4.000000\n",
       "Name: 2, dtype: float64"
      ]
     },
     "execution_count": 13,
     "metadata": {},
     "output_type": "execute_result"
    }
   ],
   "source": [
    "train['2'].describe()"
   ]
  },
  {
   "cell_type": "code",
   "execution_count": null,
   "metadata": {},
   "outputs": [],
   "source": []
  }
 ],
 "metadata": {
  "kernelspec": {
   "display_name": "Python 3",
   "language": "python",
   "name": "python3"
  },
  "language_info": {
   "codemirror_mode": {
    "name": "ipython",
    "version": 3
   },
   "file_extension": ".py",
   "mimetype": "text/x-python",
   "name": "python",
   "nbconvert_exporter": "python",
   "pygments_lexer": "ipython3",
   "version": "3.7.4"
  },
  "toc": {
   "base_numbering": 1,
   "nav_menu": {},
   "number_sections": true,
   "sideBar": true,
   "skip_h1_title": false,
   "title_cell": "Table of Contents",
   "title_sidebar": "Contents",
   "toc_cell": false,
   "toc_position": {},
   "toc_section_display": true,
   "toc_window_display": false
  }
 },
 "nbformat": 4,
 "nbformat_minor": 2
}
