{
 "cells": [
  {
   "cell_type": "code",
   "execution_count": 2,
   "metadata": {
    "ExecuteTime": {
     "end_time": "2020-10-07T07:46:02.073122Z",
     "start_time": "2020-10-07T07:45:58.909060Z"
    }
   },
   "outputs": [],
   "source": [
    "import numpy as np\n",
    "import pandas as pd"
   ]
  },
  {
   "cell_type": "code",
   "execution_count": 3,
   "metadata": {
    "ExecuteTime": {
     "end_time": "2020-10-07T07:46:02.128160Z",
     "start_time": "2020-10-07T07:46:02.082804Z"
    }
   },
   "outputs": [],
   "source": [
    "df = pd.read_csv('cmc_train.csv')"
   ]
  },
  {
   "cell_type": "code",
   "execution_count": 4,
   "metadata": {
    "ExecuteTime": {
     "end_time": "2020-10-07T07:46:02.226203Z",
     "start_time": "2020-10-07T07:46:02.139174Z"
    }
   },
   "outputs": [
    {
     "name": "stdout",
     "output_type": "stream",
     "text": [
      "<class 'pandas.core.frame.DataFrame'>\n",
      "RangeIndex: 1100 entries, 0 to 1099\n",
      "Data columns (total 11 columns):\n",
      " #   Column      Non-Null Count  Dtype\n",
      "---  ------      --------------  -----\n",
      " 0   Unnamed: 0  1100 non-null   int64\n",
      " 1   24          1100 non-null   int64\n",
      " 2   2           1100 non-null   int64\n",
      " 3   3           1100 non-null   int64\n",
      " 4   3.1         1100 non-null   int64\n",
      " 5   1           1100 non-null   int64\n",
      " 6   1.1         1100 non-null   int64\n",
      " 7   2.1         1100 non-null   int64\n",
      " 8   3.2         1100 non-null   int64\n",
      " 9   0           1100 non-null   int64\n",
      " 10  1.2         1100 non-null   int64\n",
      "dtypes: int64(11)\n",
      "memory usage: 94.7 KB\n"
     ]
    }
   ],
   "source": [
    "df.info()"
   ]
  },
  {
   "cell_type": "markdown",
   "metadata": {},
   "source": [
    "## 对应\n",
    "Wifes_age   24                    int64\n",
    "Wifes_education  2               int64\n",
    "Husbands_education  3           int64\n",
    "Number_of_children_ever_born  3.1  int64\n",
    "Wifes_religion   1               int64\n",
    "Wifes_now_working%3F   1.1         int64\n",
    "Husbands_occupation   2.1         int64\n",
    "Standard-of-living_index   3.2     int64\n",
    "Media_exposure     0             int64\n",
    "Contraceptive_method_used   1.2    int64\n",
    "dtype: object"
   ]
  },
  {
   "cell_type": "markdown",
   "metadata": {},
   "source": [
    "### 2.2.2用描述性标签替换标签¶\n",
    "然后将类别属性的标签替换为描述性标签，而不是原始数字标签。 例如，分别由低，中低，中高和高的描述性标签代替了分别表示低，中低，中高和高的原始妻子的教育数据1、2、3和4。 同样，其他类别属性的数字标签已替换为描述性标签。"
   ]
  },
  {
   "cell_type": "code",
   "execution_count": 5,
   "metadata": {
    "ExecuteTime": {
     "end_time": "2020-10-07T07:46:02.341096Z",
     "start_time": "2020-10-07T07:46:02.235540Z"
    }
   },
   "outputs": [],
   "source": [
    "df['2'].replace(1,\"low\",inplace=True)\n",
    "df['2'].replace(2,\"mid low\",inplace=True)\n",
    "df['2'].replace(3,\"mid high\",inplace=True)\n",
    "df['2'].replace(4,\"high\",inplace=True)\n",
    "\n",
    "df['3'].replace(1,\"low\",inplace=True)\n",
    "df['3'].replace(2,\"mid low\",inplace=True)\n",
    "df['3'].replace(3,\"mid high\",inplace=True)\n",
    "df['3'].replace(4,\"high\",inplace=True)\n",
    "\n",
    "df['1'].replace(1, \"Islam\", inplace=True)\n",
    "df['1'].replace(0, \"Other\", inplace=True)\n",
    "\n",
    "df['1.1'].replace(1, \"No\", inplace=True)\n",
    "df['1.1'].replace(0, \"Yes\", inplace=True)\n",
    "\n",
    "df['3.2'].replace(1, \"low\", inplace=True)\n",
    "df['3.2'].replace(2, \"middle low\", inplace=True)\n",
    "df['3.2'].replace(3, \"middle high\", inplace=True)\n",
    "df['3.2'].replace(4, \"high\", inplace=True)\n",
    "\n",
    "df['0'].replace(0, \"bad\", inplace=True)\n",
    "df['0'].replace(1, \"good\", inplace=True)\n",
    "\n",
    "df['1.2'].replace(1, \"No-use\", inplace=True)\n",
    "df['1.2'].replace(2, \"Long-term\", inplace=True)\n",
    "df['1.2'].replace(3, \"Short-term\", inplace=True)"
   ]
  },
  {
   "cell_type": "code",
   "execution_count": 6,
   "metadata": {
    "ExecuteTime": {
     "end_time": "2020-10-07T07:46:02.482746Z",
     "start_time": "2020-10-07T07:46:02.352517Z"
    }
   },
   "outputs": [
    {
     "data": {
      "text/html": [
       "<div>\n",
       "<style scoped>\n",
       "    .dataframe tbody tr th:only-of-type {\n",
       "        vertical-align: middle;\n",
       "    }\n",
       "\n",
       "    .dataframe tbody tr th {\n",
       "        vertical-align: top;\n",
       "    }\n",
       "\n",
       "    .dataframe thead th {\n",
       "        text-align: right;\n",
       "    }\n",
       "</style>\n",
       "<table border=\"1\" class=\"dataframe\">\n",
       "  <thead>\n",
       "    <tr style=\"text-align: right;\">\n",
       "      <th></th>\n",
       "      <th>Unnamed: 0</th>\n",
       "      <th>24</th>\n",
       "      <th>2</th>\n",
       "      <th>3</th>\n",
       "      <th>3.1</th>\n",
       "      <th>1</th>\n",
       "      <th>1.1</th>\n",
       "      <th>2.1</th>\n",
       "      <th>3.2</th>\n",
       "      <th>0</th>\n",
       "      <th>1.2</th>\n",
       "    </tr>\n",
       "  </thead>\n",
       "  <tbody>\n",
       "    <tr>\n",
       "      <th>0</th>\n",
       "      <td>0</td>\n",
       "      <td>44</td>\n",
       "      <td>mid high</td>\n",
       "      <td>high</td>\n",
       "      <td>6</td>\n",
       "      <td>Islam</td>\n",
       "      <td>No</td>\n",
       "      <td>3</td>\n",
       "      <td>high</td>\n",
       "      <td>bad</td>\n",
       "      <td>No-use</td>\n",
       "    </tr>\n",
       "    <tr>\n",
       "      <th>1</th>\n",
       "      <td>1</td>\n",
       "      <td>36</td>\n",
       "      <td>mid low</td>\n",
       "      <td>mid high</td>\n",
       "      <td>7</td>\n",
       "      <td>Islam</td>\n",
       "      <td>No</td>\n",
       "      <td>3</td>\n",
       "      <td>middle high</td>\n",
       "      <td>bad</td>\n",
       "      <td>Short-term</td>\n",
       "    </tr>\n",
       "    <tr>\n",
       "      <th>2</th>\n",
       "      <td>2</td>\n",
       "      <td>27</td>\n",
       "      <td>mid high</td>\n",
       "      <td>mid high</td>\n",
       "      <td>3</td>\n",
       "      <td>Islam</td>\n",
       "      <td>No</td>\n",
       "      <td>2</td>\n",
       "      <td>middle high</td>\n",
       "      <td>bad</td>\n",
       "      <td>Short-term</td>\n",
       "    </tr>\n",
       "    <tr>\n",
       "      <th>3</th>\n",
       "      <td>3</td>\n",
       "      <td>20</td>\n",
       "      <td>mid high</td>\n",
       "      <td>mid high</td>\n",
       "      <td>2</td>\n",
       "      <td>Islam</td>\n",
       "      <td>No</td>\n",
       "      <td>2</td>\n",
       "      <td>middle low</td>\n",
       "      <td>good</td>\n",
       "      <td>Short-term</td>\n",
       "    </tr>\n",
       "    <tr>\n",
       "      <th>4</th>\n",
       "      <td>4</td>\n",
       "      <td>29</td>\n",
       "      <td>mid high</td>\n",
       "      <td>high</td>\n",
       "      <td>4</td>\n",
       "      <td>Islam</td>\n",
       "      <td>Yes</td>\n",
       "      <td>1</td>\n",
       "      <td>middle high</td>\n",
       "      <td>bad</td>\n",
       "      <td>No-use</td>\n",
       "    </tr>\n",
       "    <tr>\n",
       "      <th>...</th>\n",
       "      <td>...</td>\n",
       "      <td>...</td>\n",
       "      <td>...</td>\n",
       "      <td>...</td>\n",
       "      <td>...</td>\n",
       "      <td>...</td>\n",
       "      <td>...</td>\n",
       "      <td>...</td>\n",
       "      <td>...</td>\n",
       "      <td>...</td>\n",
       "      <td>...</td>\n",
       "    </tr>\n",
       "    <tr>\n",
       "      <th>1095</th>\n",
       "      <td>1095</td>\n",
       "      <td>41</td>\n",
       "      <td>low</td>\n",
       "      <td>high</td>\n",
       "      <td>4</td>\n",
       "      <td>Islam</td>\n",
       "      <td>No</td>\n",
       "      <td>3</td>\n",
       "      <td>middle high</td>\n",
       "      <td>bad</td>\n",
       "      <td>No-use</td>\n",
       "    </tr>\n",
       "    <tr>\n",
       "      <th>1096</th>\n",
       "      <td>1096</td>\n",
       "      <td>32</td>\n",
       "      <td>high</td>\n",
       "      <td>high</td>\n",
       "      <td>4</td>\n",
       "      <td>Islam</td>\n",
       "      <td>No</td>\n",
       "      <td>2</td>\n",
       "      <td>middle high</td>\n",
       "      <td>bad</td>\n",
       "      <td>Long-term</td>\n",
       "    </tr>\n",
       "    <tr>\n",
       "      <th>1097</th>\n",
       "      <td>1097</td>\n",
       "      <td>37</td>\n",
       "      <td>mid high</td>\n",
       "      <td>high</td>\n",
       "      <td>7</td>\n",
       "      <td>Islam</td>\n",
       "      <td>No</td>\n",
       "      <td>2</td>\n",
       "      <td>low</td>\n",
       "      <td>bad</td>\n",
       "      <td>No-use</td>\n",
       "    </tr>\n",
       "    <tr>\n",
       "      <th>1098</th>\n",
       "      <td>1098</td>\n",
       "      <td>17</td>\n",
       "      <td>mid high</td>\n",
       "      <td>mid high</td>\n",
       "      <td>1</td>\n",
       "      <td>Islam</td>\n",
       "      <td>No</td>\n",
       "      <td>2</td>\n",
       "      <td>high</td>\n",
       "      <td>bad</td>\n",
       "      <td>Short-term</td>\n",
       "    </tr>\n",
       "    <tr>\n",
       "      <th>1099</th>\n",
       "      <td>1099</td>\n",
       "      <td>17</td>\n",
       "      <td>mid high</td>\n",
       "      <td>mid high</td>\n",
       "      <td>1</td>\n",
       "      <td>Islam</td>\n",
       "      <td>No</td>\n",
       "      <td>2</td>\n",
       "      <td>high</td>\n",
       "      <td>bad</td>\n",
       "      <td>Short-term</td>\n",
       "    </tr>\n",
       "  </tbody>\n",
       "</table>\n",
       "<p>1100 rows × 11 columns</p>\n",
       "</div>"
      ],
      "text/plain": [
       "      Unnamed: 0  24         2         3  3.1      1  1.1  2.1          3.2  \\\n",
       "0              0  44  mid high      high    6  Islam   No    3         high   \n",
       "1              1  36   mid low  mid high    7  Islam   No    3  middle high   \n",
       "2              2  27  mid high  mid high    3  Islam   No    2  middle high   \n",
       "3              3  20  mid high  mid high    2  Islam   No    2   middle low   \n",
       "4              4  29  mid high      high    4  Islam  Yes    1  middle high   \n",
       "...          ...  ..       ...       ...  ...    ...  ...  ...          ...   \n",
       "1095        1095  41       low      high    4  Islam   No    3  middle high   \n",
       "1096        1096  32      high      high    4  Islam   No    2  middle high   \n",
       "1097        1097  37  mid high      high    7  Islam   No    2          low   \n",
       "1098        1098  17  mid high  mid high    1  Islam   No    2         high   \n",
       "1099        1099  17  mid high  mid high    1  Islam   No    2         high   \n",
       "\n",
       "         0         1.2  \n",
       "0      bad      No-use  \n",
       "1      bad  Short-term  \n",
       "2      bad  Short-term  \n",
       "3     good  Short-term  \n",
       "4      bad      No-use  \n",
       "...    ...         ...  \n",
       "1095   bad      No-use  \n",
       "1096   bad   Long-term  \n",
       "1097   bad      No-use  \n",
       "1098   bad  Short-term  \n",
       "1099   bad  Short-term  \n",
       "\n",
       "[1100 rows x 11 columns]"
      ]
     },
     "execution_count": 6,
     "metadata": {},
     "output_type": "execute_result"
    }
   ],
   "source": [
    "df"
   ]
  },
  {
   "cell_type": "markdown",
   "metadata": {},
   "source": [
    "### 在数值特征中检查异常值\n",
    "箱线图是可视化数字属性离群值的最佳方法。 该框捕获了中间50％的数据，该行显示了中间值，图的晶须显示了合理的数据范围。 晶须外的任何点都是异常值的理想选择。 每个数字属性的离群值使用方框图确定，如下所示："
   ]
  },
  {
   "cell_type": "code",
   "execution_count": 7,
   "metadata": {
    "ExecuteTime": {
     "end_time": "2020-10-07T07:46:03.999171Z",
     "start_time": "2020-10-07T07:46:02.492661Z"
    }
   },
   "outputs": [],
   "source": [
    "import matplotlib.pyplot as plt\n",
    "i = 1\n",
    "df.boxplot(column=['24','3.1'],vert=False,figsize=(7,6))\n",
    "plt.title(\"Figure \" + str(i) + \": Boxplots of Wife's Age & Number of Children\",size=13)\n",
    "plt.xticks(size=12)\n",
    "plt.yticks(size=12)\n",
    "\n",
    "i=i+1"
   ]
  },
  {
   "cell_type": "code",
   "execution_count": 8,
   "metadata": {
    "ExecuteTime": {
     "end_time": "2020-10-07T07:46:06.743961Z",
     "start_time": "2020-10-07T07:46:04.005379Z"
    }
   },
   "outputs": [
    {
     "name": "stderr",
     "output_type": "stream",
     "text": [
      "F:\\Anaconda\\lib\\site-packages\\statsmodels\\tools\\_testing.py:19: FutureWarning: pandas.util.testing is deprecated. Use the functions in the public API at pandas.testing instead.\n",
      "  import pandas.util.testing as tm\n"
     ]
    }
   ],
   "source": [
    "# 分析数据\n",
    "import seaborn as sns"
   ]
  },
  {
   "cell_type": "code",
   "execution_count": 9,
   "metadata": {
    "ExecuteTime": {
     "end_time": "2020-10-07T07:46:06.769095Z",
     "start_time": "2020-10-07T07:46:06.753457Z"
    }
   },
   "outputs": [],
   "source": [
    "# 复制数据\n",
    "df1 = df.copy()"
   ]
  },
  {
   "cell_type": "code",
   "execution_count": 10,
   "metadata": {
    "ExecuteTime": {
     "end_time": "2020-10-07T07:46:06.816673Z",
     "start_time": "2020-10-07T07:46:06.779520Z"
    }
   },
   "outputs": [],
   "source": [
    "sns.set(color_codes=True)\n",
    "# 定义画图函数\n",
    "def BarPlot(x):\n",
    "    total = float(len(df))\n",
    "    ax = df[x].value_counts(normalize=True).plot(kind='bar',alpha=0.5)\n",
    "    \n",
    "def BoxHistogramPlot(x):\n",
    "    f, (ax_box, ax_hist) = plt.subplots(2, sharex=True, \n",
    "                                        gridspec_kw={\"height_ratios\": (.2, .9)})\n",
    "    plt.suptitle(\"Figure \" + str(i) + \": Histogram and Box Plot of \" + col,size=12)\n",
    "    sns.boxplot(x, ax=ax_box)\n",
    "    sns.distplot(x, ax=ax_hist)\n",
    "\n",
    "    ax_box.set(yticks=[])\n",
    "    sns.despine(ax=ax_hist)\n",
    "    sns.despine(ax=ax_box, left=True)\n",
    "    plt.show()\n",
    "    "
   ]
  },
  {
   "cell_type": "code",
   "execution_count": 11,
   "metadata": {
    "ExecuteTime": {
     "end_time": "2020-10-07T07:46:07.449302Z",
     "start_time": "2020-10-07T07:46:06.823057Z"
    },
    "scrolled": true
   },
   "outputs": [
    {
     "ename": "NameError",
     "evalue": "name 'col' is not defined",
     "output_type": "error",
     "traceback": [
      "\u001b[1;31m---------------------------------------------------------------------------\u001b[0m",
      "\u001b[1;31mNameError\u001b[0m                                 Traceback (most recent call last)",
      "\u001b[1;32m<ipython-input-11-1ef5fa551ae3>\u001b[0m in \u001b[0;36m<module>\u001b[1;34m\u001b[0m\n\u001b[0;32m      1\u001b[0m \u001b[1;31m# 年龄与孩子数目关系\u001b[0m\u001b[1;33m\u001b[0m\u001b[1;33m\u001b[0m\u001b[1;33m\u001b[0m\u001b[0m\n\u001b[0;32m      2\u001b[0m \u001b[1;33m\u001b[0m\u001b[0m\n\u001b[1;32m----> 3\u001b[1;33m \u001b[0mBoxHistogramPlot\u001b[0m\u001b[1;33m(\u001b[0m\u001b[0mdf\u001b[0m\u001b[1;33m[\u001b[0m\u001b[1;34m'24'\u001b[0m\u001b[1;33m]\u001b[0m\u001b[1;33m)\u001b[0m\u001b[1;33m\u001b[0m\u001b[1;33m\u001b[0m\u001b[0m\n\u001b[0m\u001b[0;32m      4\u001b[0m \u001b[0mplt\u001b[0m\u001b[1;33m.\u001b[0m\u001b[0mshow\u001b[0m\u001b[1;33m(\u001b[0m\u001b[1;33m)\u001b[0m\u001b[1;33m\u001b[0m\u001b[1;33m\u001b[0m\u001b[0m\n\u001b[0;32m      5\u001b[0m \u001b[0mi\u001b[0m\u001b[1;33m+=\u001b[0m\u001b[1;36m1\u001b[0m\u001b[1;33m\u001b[0m\u001b[1;33m\u001b[0m\u001b[0m\n",
      "\u001b[1;32m<ipython-input-10-263662b737d5>\u001b[0m in \u001b[0;36mBoxHistogramPlot\u001b[1;34m(x)\u001b[0m\n\u001b[0;32m      8\u001b[0m     f, (ax_box, ax_hist) = plt.subplots(2, sharex=True, \n\u001b[0;32m      9\u001b[0m                                         gridspec_kw={\"height_ratios\": (.2, .9)})\n\u001b[1;32m---> 10\u001b[1;33m     \u001b[0mplt\u001b[0m\u001b[1;33m.\u001b[0m\u001b[0msuptitle\u001b[0m\u001b[1;33m(\u001b[0m\u001b[1;34m\"Figure \"\u001b[0m \u001b[1;33m+\u001b[0m \u001b[0mstr\u001b[0m\u001b[1;33m(\u001b[0m\u001b[0mi\u001b[0m\u001b[1;33m)\u001b[0m \u001b[1;33m+\u001b[0m \u001b[1;34m\": Histogram and Box Plot of \"\u001b[0m \u001b[1;33m+\u001b[0m \u001b[0mcol\u001b[0m\u001b[1;33m,\u001b[0m\u001b[0msize\u001b[0m\u001b[1;33m=\u001b[0m\u001b[1;36m12\u001b[0m\u001b[1;33m)\u001b[0m\u001b[1;33m\u001b[0m\u001b[1;33m\u001b[0m\u001b[0m\n\u001b[0m\u001b[0;32m     11\u001b[0m     \u001b[0msns\u001b[0m\u001b[1;33m.\u001b[0m\u001b[0mboxplot\u001b[0m\u001b[1;33m(\u001b[0m\u001b[0mx\u001b[0m\u001b[1;33m,\u001b[0m \u001b[0max\u001b[0m\u001b[1;33m=\u001b[0m\u001b[0max_box\u001b[0m\u001b[1;33m)\u001b[0m\u001b[1;33m\u001b[0m\u001b[1;33m\u001b[0m\u001b[0m\n\u001b[0;32m     12\u001b[0m     \u001b[0msns\u001b[0m\u001b[1;33m.\u001b[0m\u001b[0mdistplot\u001b[0m\u001b[1;33m(\u001b[0m\u001b[0mx\u001b[0m\u001b[1;33m,\u001b[0m \u001b[0max\u001b[0m\u001b[1;33m=\u001b[0m\u001b[0max_hist\u001b[0m\u001b[1;33m)\u001b[0m\u001b[1;33m\u001b[0m\u001b[1;33m\u001b[0m\u001b[0m\n",
      "\u001b[1;31mNameError\u001b[0m: name 'col' is not defined"
     ]
    },
    {
     "data": {
      "image/png": "[encoded data removed]",
      "text/plain": [
       "<Figure size 432x288 with 2 Axes>"
      ]
     },
     "metadata": {},
     "output_type": "display_data"
    }
   ],
   "source": [
    "# 年龄与孩子数目关系\n",
    "\n",
    "BoxHistogramPlot(df['24'])\n",
    "plt.show()\n",
    "i+=1"
   ]
  },
  {
   "cell_type": "code",
   "execution_count": null,
   "metadata": {
    "ExecuteTime": {
     "end_time": "2020-10-07T07:46:07.455739Z",
     "start_time": "2020-10-07T07:45:58.960Z"
    }
   },
   "outputs": [],
   "source": [
    "df['24'].describe()"
   ]
  },
  {
   "cell_type": "markdown",
   "metadata": {},
   "source": [
    "#### 分析得出 age 在16~50岁之间    50% 在 32 岁之间"
   ]
  },
  {
   "cell_type": "code",
   "execution_count": null,
   "metadata": {
    "ExecuteTime": {
     "end_time": "2020-10-07T07:46:07.464259Z",
     "start_time": "2020-10-07T07:45:58.966Z"
    }
   },
   "outputs": [],
   "source": [
    "# 分析孩纸数目所占的比例 3.1\n",
    "BoxHistogramPlot(df['3.1'])\n",
    "print(df['3.1'].describe())\n",
    "plt.show()"
   ]
  },
  {
   "cell_type": "markdown",
   "metadata": {},
   "source": [
    "#### 孩纸的数目在 0 ~ 16之间  "
   ]
  },
  {
   "cell_type": "markdown",
   "metadata": {},
   "source": [
    "#### 分类属性的单变量可视化"
   ]
  },
  {
   "cell_type": "code",
   "execution_count": null,
   "metadata": {
    "ExecuteTime": {
     "end_time": "2020-10-07T07:46:07.467363Z",
     "start_time": "2020-10-07T07:45:58.973Z"
    }
   },
   "outputs": [],
   "source": [
    "sns.set_palette(\"husl\", 4)\n",
    "for col in ['24','2','3','3.1','1','1.1','2.1','3.2','0','1.2']:\n",
    "    df[col].value_counts().plot(kind='pie',fontsize=10,autopct='%.1f%%',\n",
    "                                pctdistance=0.6, startangle=90,labels=None,\n",
    "                                wedgeprops={'alpha':0.7,'edgecolor':'white'},\n",
    "                               figsize=(2, 2))\n",
    "    plt.ylabel('')\n",
    "    plt.axis('equal')\n",
    "    plt.legend(labels=df[col].unique(),bbox_to_anchor=(1.8,0.6), loc=\"center right\", \n",
    "               fontsize=10,bbox_transform=plt.gcf().transFigure)\n",
    "    plt.title('Figure ' + str(i) + ':  Box Plot of ' + col, size=10)\n",
    "    plt.subplots_adjust(left=0.0, bottom=0.1, right=1)\n",
    "    plt.show()\n",
    "    i=i+1"
   ]
  },
  {
   "cell_type": "code",
   "execution_count": null,
   "metadata": {},
   "outputs": [],
   "source": []
  },
  {
   "cell_type": "markdown",
   "metadata": {},
   "source": [
    "#### 图5显示了数据集中妻子的低（低组合度和中低）和高（高组合度和中高）教育水平。 相比之下，图6显示，在数据集中，丈夫的受教育程度主要较高（组合较高和中等较高为〜85％）。 图7和图8显示，数据集中的大多数妻子分别是伊斯兰教和没有工作的人。 根据图8和图11，生活水平相当高（组合度高和中级度为〜75％），接触媒体的比例超过90％。 "
   ]
  },
  {
   "cell_type": "markdown",
   "metadata": {},
   "source": [
    "#### 最高比例的低龄和高龄妻子没有使用避孕方法。 相反，比例最高的中年妻子使用的是长期避孕方法，而短期避孕的方法似乎正好根据妻子的年龄分布\n",
    "#### 大多数生育少于三个孩子的妻子倾向于不使用避孕方法，而大多数生育3-5个孩子的妻子倾向于使用长期避孕方法。 同样，短期方法似乎呈正态分布。"
   ]
  },
  {
   "cell_type": "code",
   "execution_count": null,
   "metadata": {
    "ExecuteTime": {
     "end_time": "2020-10-07T07:46:07.473175Z",
     "start_time": "2020-10-07T07:45:58.982Z"
    }
   },
   "outputs": [],
   "source": [
    "# 画出年龄跟孩子数目之间的数据图\n",
    "import numpy as np\n",
    "for col in ['24','3.1']:\n",
    "    data1 = df.loc[df['1.2']=='No-use',col]\n",
    "    data2 = df.loc[df['1.2']==\"Short-term\", col]\n",
    "    data3 = df.loc[df['1.2']==\"Long-term\", col]\n",
    "    plt.figure(figsize=(12,6))\n",
    "    plt.hist(data1, alpha = 0.4, bins = 30,edgecolor=\"darkblue\")\n",
    "    plt.hist(data2, alpha = 0.4, bins = 30)\n",
    "    plt.hist(data3, alpha = 0.4, bins = 30,edgecolor=\"black\")\n",
    "    plt.title(\"Figure \" + str(i) + \": Histogram of \" + col +\n",
    "              \" segregated by Contraceptive Method\",size=14)\n",
    "    i = i + 1\n",
    "    plt.legend(df['1.2'].unique(), bbox_to_anchor=(1.05, 1), loc=2, \n",
    "               borderaxespad=0.5, prop = {'size':'large'})\n",
    "    plt.show()\n",
    "    "
   ]
  },
  {
   "cell_type": "markdown",
   "metadata": {},
   "source": [
    "#### 从第一个密度图中可以看出，在年轻的老年妻子（20至30岁）中，短期避孕方法使用率较高，而在中年妻子中（35至45岁），长期避孕方法使用率较高。年份）。大多数老年妻子（45岁以上）倾向于不使用任何避孕方法。\n",
    "\n",
    "#### 第二个密度图显示，育有少于两个孩子的妻子大多数不使用避孕方法，育有四个以上孩子的妻子则以相当平等的方式使用长期和短期方法。短期避孕方法似乎在育有2至4岁孩子的妻子中更受欢迎"
   ]
  },
  {
   "cell_type": "code",
   "execution_count": null,
   "metadata": {
    "ExecuteTime": {
     "end_time": "2020-10-07T07:46:07.480231Z",
     "start_time": "2020-10-07T07:45:58.987Z"
    }
   },
   "outputs": [],
   "source": [
    "sns.pairplot(df, hue = '1.2', diag_kind = 'kde',\n",
    "             plot_kws = {'alpha': 0.5, 's': 50, 'edgecolor': 'k'},\n",
    "             size = 4)\n",
    "plt.suptitle(\"Figure \" + str(i) +\n",
    "             \": Pair Plot between Wife's Age and Number of children by Contraceptive Method\",\n",
    "             size = 14, verticalalignment='top')\n",
    "plt.subplots_adjust(top=0.9)\n",
    "plt.show()\n",
    "i=i+1"
   ]
  },
  {
   "cell_type": "markdown",
   "metadata": {},
   "source": [
    "### 在高学历的妻子中，长期和短期避孕方法被广泛使用，而大多数低学历的妻子则倾向于不使用避孕方法。 从图17和图18可以看出，丈夫的受教育程度和妻子的工作状况似乎与妻子使用的避孕方法没有关系。 同样，其他计数图也未显示类别特征与目标特征的直接相关性。 但是，如果将这些图转换为比例图，则可以获得更好的洞察力。"
   ]
  },
  {
   "cell_type": "code",
   "execution_count": null,
   "metadata": {
    "ExecuteTime": {
     "end_time": "2020-10-07T07:46:07.485644Z",
     "start_time": "2020-10-07T07:45:58.993Z"
    }
   },
   "outputs": [],
   "source": [
    "wife_age          24\n",
    "wife_edu          2\n",
    "husb_edu          3\n",
    "children          3.1\n",
    "wife_religion     1\n",
    "wife-working     1.1\n",
    "husb-occup        2.1\n",
    "s-living_index    3.2\n",
    "media_exp        0\n",
    "contrac_mthd     1.2\n",
    "dtype: object"
   ]
  },
  {
   "cell_type": "code",
   "execution_count": null,
   "metadata": {
    "ExecuteTime": {
     "end_time": "2020-10-07T07:46:07.490082Z",
     "start_time": "2020-10-07T07:45:58.998Z"
    }
   },
   "outputs": [],
   "source": [
    "# Initialize Figure and Axes object\n",
    "fig, ax = plt.subplots(3, 2, figsize=(15,18))\n",
    "sns.set_palette(\"husl\", 3)\n",
    "\n",
    "\n",
    "for col, ax in zip(['2', '3', '1.1','2.1','3.2','0'], ax.flatten()):\n",
    "    sns.countplot(x=col, hue='1.2', data=df, ax=ax,alpha=0.7,edgecolor=\"black\")\n",
    "    fig.suptitle(\"Count of Contraceptive Methods Used Per Group\", weight='bold', size=14)\n",
    "    ax.set_title(\"Figure \" + str(i) + \": Frequency of contrac_mthd per \" + col,\n",
    "                 weight='bold', size=13)\n",
    "    ax.legend(prop = {'size':'x-small'}).set_title('Contraceptive Methods', prop = {'size':'small'})\n",
    "    i=i+1  "
   ]
  },
  {
   "cell_type": "code",
   "execution_count": null,
   "metadata": {
    "ExecuteTime": {
     "end_time": "2020-10-07T07:46:07.495913Z",
     "start_time": "2020-10-07T07:45:59.002Z"
    }
   },
   "outputs": [],
   "source": [
    "N = 3.5\n",
    "ind = np.arange(N)  # the x locations for the groups\n",
    "width = 0.30        # the width of the bars\n",
    "sns.set(font_scale = 1)\n",
    "sns.set_palette(\"husl\", 3)\n",
    "fig = plt.gcf()\n",
    "fig.set_size_inches( 6, 3)\n",
    "\n",
    "\n",
    "fig=sns.countplot(x='1',hue='1.2',data=df,alpha=0.7,edgecolor=\"black\")\n",
    "\n",
    "fig.set_xlabel('Wifes Religion')\n",
    "fig.set_ylabel('Count')\n",
    "fig.set_title(\"Figure \" + str(i) +\": Countplot of Contraceptive Methods Used by Wife's Religion\", size=10)\n",
    "fig.set_xticks(ind + width / 2)\n",
    "fig.legend().set_title('Contraceptive Methods', prop = {'size':'x-small'})\n",
    "\n",
    "i=i+1"
   ]
  },
  {
   "cell_type": "markdown",
   "metadata": {},
   "source": [
    "#### 未使用避孕方法的妻子比例与妻子和丈夫的教育水平直接相关。夫妻的文化程度越低，不使用避孕方法的比例越高。同样，根据图63，生活水平似乎与目标特征之间具有明显的相关性：这意味着生活水平更高，未使用避孕方法的比例更低。暴露于内侧的避孕方法与所使用的避孕方法之间的关系如图64所示。它还表明，使用短期和长期避孕方法以及暴露于更好的介质的比例有所增加。\n",
    "\n",
    "#### 数据集中的非伊斯兰教妻子使用长期避孕方法的比例较高，而没有使用避孕方法的比例较低。"
   ]
  },
  {
   "cell_type": "code",
   "execution_count": null,
   "metadata": {
    "ExecuteTime": {
     "end_time": "2020-10-07T07:46:07.499485Z",
     "start_time": "2020-10-07T07:45:59.008Z"
    }
   },
   "outputs": [],
   "source": [
    "plt.rcParams[\"font.family\"] = \"DejaVu Sans\"\n",
    "sns.set(font_scale = 1.1)\n",
    "for col in ['24','3.1']:\n",
    "    for k in ['2', '3', '1.1',\n",
    "              '2.1','3.2','0']:\n",
    "        ax = df.groupby('1.2').boxplot(column = col, by = k,\n",
    "                                                vert = False,\n",
    "                                                \n",
    "                                                figsize=(15,10))\n",
    "        plt.suptitle(\"Figure \" + str(i) + \": Box Plot of \" + col + \" grouped by \" + k + \n",
    "                     \" and segregated by Contraceptive Method\"\n",
    "                    )\n",
    "        plt.yticks()\n",
    "        plt.show()\n",
    "        i = 1 + i"
   ]
  },
  {
   "cell_type": "markdown",
   "metadata": {},
   "source": [
    "#### 数据\n",
    "2.0.1.2描述性功能¶\n",
    "以下是数据集中的描述性功能。\n",
    "\n",
    "妻子的年龄：数字\n",
    "妻子的学历：绝对（低，中低，中高，高）\n",
    "丈夫的教育程度：绝对（低，中低，中高，高）\n",
    "独生子女数：数字\n",
    "妻子的宗教：二元（非伊斯兰教，伊斯兰教）\n",
    "妻子现在在工作吗：二进制文件（是，否）\n",
    "丈夫的职业：绝对（类别1，类别2，类别3，类别4）\n",
    "生活水平指数：绝对（低，中低，中高，高）\n",
    "媒体曝光：二进制（好，坏）\n",
    "所有描述性特征都是不言自明的。"
   ]
  },
  {
   "cell_type": "markdown",
   "metadata": {},
   "source": [
    "#### 检查缺失值\n",
    "*细化妻子的年龄特征\n",
    "*使用数字整数编码制作序数分类特征\n",
    "*将数据集分为描述性功能集和目标\n",
    "*使用一键编码制作名义分类特征\n",
    "*编码目标\n",
    "*扩展描述性功能\n",
    "*使用随机森林重要性（RFI）进行特征选择和排名\n",
    "*将数据集分为训练集和测试集\n",
    "*选择评估策略"
   ]
  },
  {
   "cell_type": "code",
   "execution_count": null,
   "metadata": {
    "ExecuteTime": {
     "end_time": "2020-10-07T07:46:07.502217Z",
     "start_time": "2020-10-07T07:45:59.016Z"
    }
   },
   "outputs": [],
   "source": [
    "# 使用决策树模型\n",
    "* K最近邻居（KNN）\n",
    "*（高斯）朴素贝叶斯（NB）\n",
    "*决策树（DT）"
   ]
  },
  {
   "cell_type": "code",
   "execution_count": null,
   "metadata": {
    "ExecuteTime": {
     "end_time": "2020-10-07T07:46:07.504228Z",
     "start_time": "2020-10-07T07:45:59.021Z"
    }
   },
   "outputs": [],
   "source": [
    "数据集（即完整数据集）中的所有观察值均已用于建模，以保持70:30的观察值比例用于训练和测试视角。 对于训练集，这减少到1031个观察，而对于测试集，则减少到442个观察。\n",
    "\n",
    "在建模中使用了流水线技术：首先，考虑了3、4、5，...，9个特征，使用随机森林重要性方法进行了特征选择。 其次，已对每个分类器执行了超参数调整，随后，使用“准确性”方法评估性能。\n",
    "\n",
    "选择最佳模型后，对测试数据进行5倍交叉验证，并进行配对t检验以确定每个模型对在统计上是否存在显着差异。 另外，使用回忆数据和测试数据的混淆矩阵对模型进行了评估。"
   ]
  },
  {
   "cell_type": "code",
   "execution_count": null,
   "metadata": {
    "ExecuteTime": {
     "end_time": "2020-10-07T07:46:07.508593Z",
     "start_time": "2020-10-07T07:45:59.034Z"
    }
   },
   "outputs": [],
   "source": [
    "df = df.drop(columns=['Unnamed: 0'])\n",
    "df"
   ]
  },
  {
   "cell_type": "markdown",
   "metadata": {},
   "source": [
    "#### 因为数据没有缺失值\n",
    "#### 开始处理数据啦"
   ]
  },
  {
   "cell_type": "markdown",
   "metadata": {},
   "source": [
    "#### 离散数值特征\n",
    "由于这是分类任务，因此可以假设将数字年龄特征转换为序数变量将导致模型具有更好的性能。 如下所示，“年龄”特征已转换为具有三个级别的序数变量："
   ]
  },
  {
   "cell_type": "code",
   "execution_count": null,
   "metadata": {
    "ExecuteTime": {
     "end_time": "2020-10-07T07:46:07.513231Z",
     "start_time": "2020-10-07T07:45:59.040Z"
    },
    "scrolled": true
   },
   "outputs": [],
   "source": [
    "contr_df = df.copy()\n",
    "# qcut:传入参数，要将数据分成多少组，即组的个数，具体的组距是由代码计算\n",
    "contr_df['24'] = pd.qcut(contr_df['24'], q=3, labels=['young', 'middle-aged', 'old'])\n",
    "contr_df['24'].value_counts()"
   ]
  },
  {
   "cell_type": "code",
   "execution_count": null,
   "metadata": {
    "ExecuteTime": {
     "end_time": "2020-10-07T07:46:07.516604Z",
     "start_time": "2020-10-07T07:45:59.046Z"
    }
   },
   "outputs": [],
   "source": [
    "contr_df.head()"
   ]
  },
  {
   "cell_type": "markdown",
   "metadata": {},
   "source": [
    "#### 将有序分类特征数值化（使用整数编码）¶\n",
    "为了在Scikit-Learn函数中使用数据集，数据集中的所有描述性属性（包括目标特征和描述性特征）都需要转换为数字特征。 整数编码已针对以下顺序分类特征完成。 值得一提的是，此数据集中的“ wife_edu”，“ husd_edu”，“ husb-occup”，“ s-livinh_index”和“ media_exp”确实具有自然顺序，因此应将其视为序数变量。"
   ]
  },
  {
   "cell_type": "code",
   "execution_count": 14,
   "metadata": {
    "ExecuteTime": {
     "end_time": "2020-10-07T07:48:36.540263Z",
     "start_time": "2020-10-07T07:48:36.508807Z"
    }
   },
   "outputs": [
    {
     "data": {
      "text/html": [
       "<div>\n",
       "<style scoped>\n",
       "    .dataframe tbody tr th:only-of-type {\n",
       "        vertical-align: middle;\n",
       "    }\n",
       "\n",
       "    .dataframe tbody tr th {\n",
       "        vertical-align: top;\n",
       "    }\n",
       "\n",
       "    .dataframe thead th {\n",
       "        text-align: right;\n",
       "    }\n",
       "</style>\n",
       "<table border=\"1\" class=\"dataframe\">\n",
       "  <thead>\n",
       "    <tr style=\"text-align: right;\">\n",
       "      <th></th>\n",
       "      <th>24</th>\n",
       "      <th>2</th>\n",
       "      <th>3</th>\n",
       "      <th>3.1</th>\n",
       "      <th>1</th>\n",
       "      <th>1.1</th>\n",
       "      <th>2.1</th>\n",
       "      <th>3.2</th>\n",
       "      <th>0</th>\n",
       "      <th>1.2</th>\n",
       "    </tr>\n",
       "  </thead>\n",
       "  <tbody>\n",
       "    <tr>\n",
       "      <th>0</th>\n",
       "      <td>44</td>\n",
       "      <td>3</td>\n",
       "      <td>4</td>\n",
       "      <td>6</td>\n",
       "      <td>1</td>\n",
       "      <td>1</td>\n",
       "      <td>3</td>\n",
       "      <td>4</td>\n",
       "      <td>0</td>\n",
       "      <td>1</td>\n",
       "    </tr>\n",
       "    <tr>\n",
       "      <th>1</th>\n",
       "      <td>36</td>\n",
       "      <td>2</td>\n",
       "      <td>3</td>\n",
       "      <td>7</td>\n",
       "      <td>1</td>\n",
       "      <td>1</td>\n",
       "      <td>3</td>\n",
       "      <td>3</td>\n",
       "      <td>0</td>\n",
       "      <td>3</td>\n",
       "    </tr>\n",
       "    <tr>\n",
       "      <th>2</th>\n",
       "      <td>27</td>\n",
       "      <td>3</td>\n",
       "      <td>3</td>\n",
       "      <td>3</td>\n",
       "      <td>1</td>\n",
       "      <td>1</td>\n",
       "      <td>2</td>\n",
       "      <td>3</td>\n",
       "      <td>0</td>\n",
       "      <td>3</td>\n",
       "    </tr>\n",
       "    <tr>\n",
       "      <th>3</th>\n",
       "      <td>20</td>\n",
       "      <td>3</td>\n",
       "      <td>3</td>\n",
       "      <td>2</td>\n",
       "      <td>1</td>\n",
       "      <td>1</td>\n",
       "      <td>2</td>\n",
       "      <td>2</td>\n",
       "      <td>1</td>\n",
       "      <td>3</td>\n",
       "    </tr>\n",
       "    <tr>\n",
       "      <th>4</th>\n",
       "      <td>29</td>\n",
       "      <td>3</td>\n",
       "      <td>4</td>\n",
       "      <td>4</td>\n",
       "      <td>1</td>\n",
       "      <td>0</td>\n",
       "      <td>1</td>\n",
       "      <td>3</td>\n",
       "      <td>0</td>\n",
       "      <td>1</td>\n",
       "    </tr>\n",
       "  </tbody>\n",
       "</table>\n",
       "</div>"
      ],
      "text/plain": [
       "   24  2  3  3.1  1  1.1  2.1  3.2  0  1.2\n",
       "0  44  3  4    6  1    1    3    4  0    1\n",
       "1  36  2  3    7  1    1    3    3  0    3\n",
       "2  27  3  3    3  1    1    2    3  0    3\n",
       "3  20  3  3    2  1    1    2    2  1    3\n",
       "4  29  3  4    4  1    0    1    3  0    1"
      ]
     },
     "execution_count": 14,
     "metadata": {},
     "output_type": "execute_result"
    }
   ],
   "source": [
    "contr_df=pd.read_csv('cmc_train.csv')\n",
    "contr_df = contr_df.drop(columns=['Unnamed: 0'])\n",
    "contr_df.head()"
   ]
  },
  {
   "cell_type": "code",
   "execution_count": 15,
   "metadata": {
    "ExecuteTime": {
     "end_time": "2020-10-07T07:48:41.022480Z",
     "start_time": "2020-10-07T07:48:39.358509Z"
    }
   },
   "outputs": [],
   "source": [
    "# 对年龄进行划分\n",
    "contr_df['24'] = pd.qcut(contr_df['24'], q=3, labels=['young', 'middle-aged', 'old'])"
   ]
  },
  {
   "cell_type": "code",
   "execution_count": 16,
   "metadata": {
    "ExecuteTime": {
     "end_time": "2020-10-07T07:48:41.361241Z",
     "start_time": "2020-10-07T07:48:41.300134Z"
    }
   },
   "outputs": [],
   "source": [
    "contr_df['24'] = pd.qcut(contr_df['24'], q=3, labels=['young', 'middle-aged', 'old'])\n",
    "contr_df['24'].replace('young',1,inplace=True)\n",
    "contr_df['24'].replace('middle-aged',2,inplace=True)\n",
    "contr_df['24'].replace('old',3,inplace=True)"
   ]
  },
  {
   "cell_type": "code",
   "execution_count": 17,
   "metadata": {
    "ExecuteTime": {
     "end_time": "2020-10-07T07:48:46.178056Z",
     "start_time": "2020-10-07T07:48:46.165211Z"
    }
   },
   "outputs": [],
   "source": [
    "# 对宗教进行划分\n",
    "contr_df['1'].replace(1, \"Islam\", inplace=True)\n",
    "contr_df['1'].replace(0, \"Other\", inplace=True)"
   ]
  },
  {
   "cell_type": "code",
   "execution_count": 18,
   "metadata": {
    "ExecuteTime": {
     "end_time": "2020-10-07T07:48:47.980583Z",
     "start_time": "2020-10-07T07:48:47.966573Z"
    }
   },
   "outputs": [],
   "source": [
    "# 对妻子是否工作\n",
    "contr_df['1.1'].replace(1, \"No\", inplace=True)\n",
    "contr_df['1.1'].replace(0, \"Yes\", inplace=True)"
   ]
  },
  {
   "cell_type": "code",
   "execution_count": 19,
   "metadata": {
    "ExecuteTime": {
     "end_time": "2020-10-07T07:48:50.218652Z",
     "start_time": "2020-10-07T07:48:50.192437Z"
    }
   },
   "outputs": [
    {
     "data": {
      "text/html": [
       "<div>\n",
       "<style scoped>\n",
       "    .dataframe tbody tr th:only-of-type {\n",
       "        vertical-align: middle;\n",
       "    }\n",
       "\n",
       "    .dataframe tbody tr th {\n",
       "        vertical-align: top;\n",
       "    }\n",
       "\n",
       "    .dataframe thead th {\n",
       "        text-align: right;\n",
       "    }\n",
       "</style>\n",
       "<table border=\"1\" class=\"dataframe\">\n",
       "  <thead>\n",
       "    <tr style=\"text-align: right;\">\n",
       "      <th></th>\n",
       "      <th>24</th>\n",
       "      <th>2</th>\n",
       "      <th>3</th>\n",
       "      <th>3.1</th>\n",
       "      <th>1</th>\n",
       "      <th>1.1</th>\n",
       "      <th>2.1</th>\n",
       "      <th>3.2</th>\n",
       "      <th>0</th>\n",
       "      <th>1.2</th>\n",
       "    </tr>\n",
       "  </thead>\n",
       "  <tbody>\n",
       "    <tr>\n",
       "      <th>0</th>\n",
       "      <td>3</td>\n",
       "      <td>3</td>\n",
       "      <td>4</td>\n",
       "      <td>6</td>\n",
       "      <td>Islam</td>\n",
       "      <td>No</td>\n",
       "      <td>3</td>\n",
       "      <td>4</td>\n",
       "      <td>0</td>\n",
       "      <td>1</td>\n",
       "    </tr>\n",
       "    <tr>\n",
       "      <th>1</th>\n",
       "      <td>2</td>\n",
       "      <td>2</td>\n",
       "      <td>3</td>\n",
       "      <td>7</td>\n",
       "      <td>Islam</td>\n",
       "      <td>No</td>\n",
       "      <td>3</td>\n",
       "      <td>3</td>\n",
       "      <td>0</td>\n",
       "      <td>3</td>\n",
       "    </tr>\n",
       "    <tr>\n",
       "      <th>2</th>\n",
       "      <td>1</td>\n",
       "      <td>3</td>\n",
       "      <td>3</td>\n",
       "      <td>3</td>\n",
       "      <td>Islam</td>\n",
       "      <td>No</td>\n",
       "      <td>2</td>\n",
       "      <td>3</td>\n",
       "      <td>0</td>\n",
       "      <td>3</td>\n",
       "    </tr>\n",
       "    <tr>\n",
       "      <th>3</th>\n",
       "      <td>1</td>\n",
       "      <td>3</td>\n",
       "      <td>3</td>\n",
       "      <td>2</td>\n",
       "      <td>Islam</td>\n",
       "      <td>No</td>\n",
       "      <td>2</td>\n",
       "      <td>2</td>\n",
       "      <td>1</td>\n",
       "      <td>3</td>\n",
       "    </tr>\n",
       "    <tr>\n",
       "      <th>4</th>\n",
       "      <td>2</td>\n",
       "      <td>3</td>\n",
       "      <td>4</td>\n",
       "      <td>4</td>\n",
       "      <td>Islam</td>\n",
       "      <td>Yes</td>\n",
       "      <td>1</td>\n",
       "      <td>3</td>\n",
       "      <td>0</td>\n",
       "      <td>1</td>\n",
       "    </tr>\n",
       "  </tbody>\n",
       "</table>\n",
       "</div>"
      ],
      "text/plain": [
       "  24  2  3  3.1      1  1.1  2.1  3.2  0  1.2\n",
       "0  3  3  4    6  Islam   No    3    4  0    1\n",
       "1  2  2  3    7  Islam   No    3    3  0    3\n",
       "2  1  3  3    3  Islam   No    2    3  0    3\n",
       "3  1  3  3    2  Islam   No    2    2  1    3\n",
       "4  2  3  4    4  Islam  Yes    1    3  0    1"
      ]
     },
     "execution_count": 19,
     "metadata": {},
     "output_type": "execute_result"
    }
   ],
   "source": [
    "contr_df.head()"
   ]
  },
  {
   "cell_type": "code",
   "execution_count": 20,
   "metadata": {
    "ExecuteTime": {
     "end_time": "2020-10-07T07:48:52.669568Z",
     "start_time": "2020-10-07T07:48:52.613150Z"
    }
   },
   "outputs": [
    {
     "data": {
      "text/plain": [
       "1    465\n",
       "3    388\n",
       "2    247\n",
       "Name: 1.2, dtype: int64"
      ]
     },
     "execution_count": 20,
     "metadata": {},
     "output_type": "execute_result"
    }
   ],
   "source": [
    "contr_df_cat = contr_df.copy()\n",
    "#Splitting data-set into the set of descriptive features and the target\n",
    "Data = contr_df_cat.drop(columns = '1.2')\n",
    "target = contr_df_cat['1.2']\n",
    "\n",
    "# Checking the count of instances in each label\n",
    "target.value_counts()"
   ]
  },
  {
   "cell_type": "markdown",
   "metadata": {},
   "source": [
    "#### 将数据集分为描述性功能集和目标集¶\n",
    "在对目标特征进行编码之前，需要将数据集分为描述性特征和目标特征。 然后，检查目标特征以查看每个标签的分布。 如下所示，“不使用”，“短期”和“长期”的目标特征分别具有629、511和333个实例。"
   ]
  },
  {
   "cell_type": "markdown",
   "metadata": {},
   "source": [
    "#### \n",
    "将名义分类特征数字化（使用一键编码）¶(热编码)\n",
    "在数据集中，“ wife_religion”和“ wife-working”属性被视为名义变量，因为它们不具有自然顺序。 单热编码方法已用于将这些标称变量转换为数值。"
   ]
  },
  {
   "cell_type": "code",
   "execution_count": null,
   "metadata": {
    "ExecuteTime": {
     "end_time": "2020-10-07T07:46:07.542241Z",
     "start_time": "2020-10-07T07:45:59.084Z"
    }
   },
   "outputs": [],
   "source": [
    "categorical_cols = Data.columns[Data.dtypes==object].tolist()\n",
    "categorical_cols"
   ]
  },
  {
   "cell_type": "markdown",
   "metadata": {},
   "source": [
    "#### 对于两级分类特征，将drop_first选项设置为“ True”以将变量编码为0或1的单列。如果存在具有两个以上级别的序数分类特征，则Data = pd.get_dummies（Data）函数 可以使用。"
   ]
  },
  {
   "cell_type": "code",
   "execution_count": null,
   "metadata": {
    "ExecuteTime": {
     "end_time": "2020-10-07T07:46:07.546153Z",
     "start_time": "2020-10-07T07:45:59.092Z"
    }
   },
   "outputs": [],
   "source": [
    "for col in categorical_cols:\n",
    "    n = len(Data[col].unique())\n",
    "    if (n == 2):\n",
    "        Data[col] = pd.get_dummies(Data[col], drop_first=True)"
   ]
  },
  {
   "cell_type": "code",
   "execution_count": null,
   "metadata": {
    "ExecuteTime": {
     "end_time": "2020-10-07T07:46:07.548734Z",
     "start_time": "2020-10-07T07:45:59.098Z"
    }
   },
   "outputs": [],
   "source": [
    "Data"
   ]
  },
  {
   "cell_type": "code",
   "execution_count": null,
   "metadata": {
    "ExecuteTime": {
     "end_time": "2020-10-07T07:46:07.552927Z",
     "start_time": "2020-10-07T07:45:59.101Z"
    }
   },
   "outputs": [],
   "source": [
    "target.head()"
   ]
  },
  {
   "cell_type": "markdown",
   "metadata": {},
   "source": [
    "#### 扩展描述性功能¶\n",
    "执行特征缩放（标准化）以将高度变化的数值数据转换为通用缩放。 尽管缩放仅对某些模型（例如KNN，深度学习和SVM）至关重要，但仍强烈建议对任何模型进行缩放。 因此，此任务中使用了Min-Max Scaling，可以将数值数据转换为0到1之间的通用比例。"
   ]
  },
  {
   "cell_type": "code",
   "execution_count": 13,
   "metadata": {
    "ExecuteTime": {
     "end_time": "2020-10-07T07:48:16.011282Z",
     "start_time": "2020-10-07T07:48:12.865586Z"
    }
   },
   "outputs": [
    {
     "ename": "NameError",
     "evalue": "name 'Data' is not defined",
     "output_type": "error",
     "traceback": [
      "\u001b[1;31m---------------------------------------------------------------------------\u001b[0m",
      "\u001b[1;31mNameError\u001b[0m                                 Traceback (most recent call last)",
      "\u001b[1;32m<ipython-input-13-6c1788f876f2>\u001b[0m in \u001b[0;36m<module>\u001b[1;34m\u001b[0m\n\u001b[0;32m      4\u001b[0m \u001b[1;33m\u001b[0m\u001b[0m\n\u001b[0;32m      5\u001b[0m \u001b[0mData_scaler\u001b[0m \u001b[1;33m=\u001b[0m \u001b[0mpreprocessing\u001b[0m\u001b[1;33m.\u001b[0m\u001b[0mMinMaxScaler\u001b[0m\u001b[1;33m(\u001b[0m\u001b[1;33m)\u001b[0m\u001b[1;33m\u001b[0m\u001b[1;33m\u001b[0m\u001b[0m\n\u001b[1;32m----> 6\u001b[1;33m \u001b[0mData_scaler\u001b[0m\u001b[1;33m.\u001b[0m\u001b[0mfit\u001b[0m\u001b[1;33m(\u001b[0m\u001b[0mData\u001b[0m\u001b[1;33m)\u001b[0m\u001b[1;33m\u001b[0m\u001b[1;33m\u001b[0m\u001b[0m\n\u001b[0m\u001b[0;32m      7\u001b[0m \u001b[0mData\u001b[0m \u001b[1;33m=\u001b[0m \u001b[0mData_scaler\u001b[0m\u001b[1;33m.\u001b[0m\u001b[0mfit_transform\u001b[0m\u001b[1;33m(\u001b[0m\u001b[0mData\u001b[0m\u001b[1;33m)\u001b[0m\u001b[1;33m\u001b[0m\u001b[1;33m\u001b[0m\u001b[0m\n\u001b[0;32m      8\u001b[0m \u001b[1;31m# MinMaxScaler(最小最大值标准化)\u001b[0m\u001b[1;33m\u001b[0m\u001b[1;33m\u001b[0m\u001b[1;33m\u001b[0m\u001b[0m\n",
      "\u001b[1;31mNameError\u001b[0m: name 'Data' is not defined"
     ]
    }
   ],
   "source": [
    "from sklearn import preprocessing\n",
    "\n",
    "#Data_df = Data.copy()\n",
    "\n",
    "Data_scaler = preprocessing.MinMaxScaler()\n",
    "Data_scaler.fit(Data)\n",
    "Data = Data_scaler.fit_transform(Data)\n",
    "# MinMaxScaler(最小最大值标准化)\n",
    "Data"
   ]
  },
  {
   "cell_type": "markdown",
   "metadata": {},
   "source": [
    "#### 功能选择和排名¶\n",
    "在本节中，已使用随机森林重要性（RFI）检查了该数据集的最佳6个功能，以快速了解每个功能的重要性。 但是，在管道内部的超参数调整阶段，使用RFI以更系统和详细的方式执行特征选择，最终确定每个分类器的最佳特征数。"
   ]
  },
  {
   "cell_type": "markdown",
   "metadata": {},
   "source": [
    "#### 使用RFI（随机森林重要性）选择数据集中最好的6个特征"
   ]
  },
  {
   "cell_type": "code",
   "execution_count": null,
   "metadata": {
    "ExecuteTime": {
     "end_time": "2020-10-07T07:46:07.558697Z",
     "start_time": "2020-10-07T07:45:59.110Z"
    }
   },
   "outputs": [],
   "source": [
    "from sklearn.ensemble import RandomForestClassifier\n",
    "num_features = 6\n",
    "model_rfi = RandomForestClassifier(n_estimators=100)\n",
    "model_rfi.fit(Data, target)\n",
    "fs_indices_rfi = np.argsort(model_rfi.feature_importances_)[::-1][0:num_features]\n",
    "\n",
    "best_features_rfi = contr_df_cat.columns[fs_indices_rfi].values\n",
    "best_features_rfi"
   ]
  },
  {
   "cell_type": "markdown",
   "metadata": {},
   "source": [
    "##### ~\n",
    "* array(['children', 's-living_index', 'wife_edu', 'husb-occup', 'wife_age',\n",
    "       'husb_edu'], dtype=object)"
   ]
  },
  {
   "cell_type": "markdown",
   "metadata": {},
   "source": [
    "#### 模型rfi功能重要性"
   ]
  },
  {
   "cell_type": "code",
   "execution_count": null,
   "metadata": {
    "ExecuteTime": {
     "end_time": "2020-10-07T07:46:07.562848Z",
     "start_time": "2020-10-07T07:45:59.114Z"
    }
   },
   "outputs": [],
   "source": [
    "feature_importances_rfi = model_rfi.feature_importances_[fs_indices_rfi]\n",
    "feature_importances_rfi\n",
    "# array([0.32111791, 0.12688624, 0.11956485, 0.1148184 , 0.0992693 ,0.0890704 ])"
   ]
  },
  {
   "cell_type": "code",
   "execution_count": null,
   "metadata": {
    "ExecuteTime": {
     "end_time": "2020-10-07T07:46:07.565841Z",
     "start_time": "2020-10-07T07:45:59.122Z"
    }
   },
   "outputs": [],
   "source": [
    "# 画出随机各个特征的重要性\n",
    "import altair as alt\n",
    "alt.renderers.enable('notebook')\n",
    "\n",
    "def plot_imp(best_features, scores, method_name, color):\n",
    "    \n",
    "    df = pd.DataFrame({'features': best_features, \n",
    "                       'importances': scores})\n",
    "    \n",
    "    chart = alt.Chart(df, \n",
    "                      width=500, \n",
    "                      title=method_name + ' Feature Importances'\n",
    "                     ).mark_bar(opacity=0.85, \n",
    "                                color=color).encode(\n",
    "        alt.X('features', title='Feature', sort=None, axis=alt.AxisConfig(labelAngle=45)),\n",
    "        alt.Y('importances', title='Importance')\n",
    "    )\n",
    "    \n",
    "    return chart\n",
    "\n",
    "#plotting\n",
    "plot_imp(best_features_rfi, feature_importances_rfi, 'Random Forest', 'blue')"
   ]
  },
  {
   "cell_type": "markdown",
   "metadata": {},
   "source": [
    "##### 根据上面的结果，数据集的最佳6个功能是“儿童”，“ s-living_index”，“ wife_edu”，“ husb-occup”，“ wife_age”和“ husb_edu”。"
   ]
  },
  {
   "cell_type": "markdown",
   "metadata": {},
   "source": [
    "#### 将数据分为训练集和测试集\n",
    "\n",
    "不需要数据采样，因为原始数据集并不是一个很大的数据集：该数据集只有1473个观测值。\n",
    "如下所示，该模型已经在1031行训练数据上进行了训练和调整，并在442行测试数据上进行了测试。 这是由数据集中训练与测试观察的比率为70:30构成的。"
   ]
  },
  {
   "cell_type": "code",
   "execution_count": 22,
   "metadata": {
    "ExecuteTime": {
     "end_time": "2020-10-07T07:49:58.521793Z",
     "start_time": "2020-10-07T07:49:58.480952Z"
    }
   },
   "outputs": [
    {
     "data": {
      "text/html": [
       "<div>\n",
       "<style scoped>\n",
       "    .dataframe tbody tr th:only-of-type {\n",
       "        vertical-align: middle;\n",
       "    }\n",
       "\n",
       "    .dataframe tbody tr th {\n",
       "        vertical-align: top;\n",
       "    }\n",
       "\n",
       "    .dataframe thead th {\n",
       "        text-align: right;\n",
       "    }\n",
       "</style>\n",
       "<table border=\"1\" class=\"dataframe\">\n",
       "  <thead>\n",
       "    <tr style=\"text-align: right;\">\n",
       "      <th></th>\n",
       "      <th>24</th>\n",
       "      <th>2</th>\n",
       "      <th>3</th>\n",
       "      <th>3.1</th>\n",
       "      <th>1</th>\n",
       "      <th>1.1</th>\n",
       "      <th>2.1</th>\n",
       "      <th>3.2</th>\n",
       "      <th>0</th>\n",
       "      <th>1.2</th>\n",
       "    </tr>\n",
       "  </thead>\n",
       "  <tbody>\n",
       "    <tr>\n",
       "      <th>0</th>\n",
       "      <td>3</td>\n",
       "      <td>3</td>\n",
       "      <td>4</td>\n",
       "      <td>6</td>\n",
       "      <td>Islam</td>\n",
       "      <td>No</td>\n",
       "      <td>3</td>\n",
       "      <td>4</td>\n",
       "      <td>0</td>\n",
       "      <td>1</td>\n",
       "    </tr>\n",
       "    <tr>\n",
       "      <th>1</th>\n",
       "      <td>2</td>\n",
       "      <td>2</td>\n",
       "      <td>3</td>\n",
       "      <td>7</td>\n",
       "      <td>Islam</td>\n",
       "      <td>No</td>\n",
       "      <td>3</td>\n",
       "      <td>3</td>\n",
       "      <td>0</td>\n",
       "      <td>3</td>\n",
       "    </tr>\n",
       "    <tr>\n",
       "      <th>2</th>\n",
       "      <td>1</td>\n",
       "      <td>3</td>\n",
       "      <td>3</td>\n",
       "      <td>3</td>\n",
       "      <td>Islam</td>\n",
       "      <td>No</td>\n",
       "      <td>2</td>\n",
       "      <td>3</td>\n",
       "      <td>0</td>\n",
       "      <td>3</td>\n",
       "    </tr>\n",
       "    <tr>\n",
       "      <th>3</th>\n",
       "      <td>1</td>\n",
       "      <td>3</td>\n",
       "      <td>3</td>\n",
       "      <td>2</td>\n",
       "      <td>Islam</td>\n",
       "      <td>No</td>\n",
       "      <td>2</td>\n",
       "      <td>2</td>\n",
       "      <td>1</td>\n",
       "      <td>3</td>\n",
       "    </tr>\n",
       "    <tr>\n",
       "      <th>4</th>\n",
       "      <td>2</td>\n",
       "      <td>3</td>\n",
       "      <td>4</td>\n",
       "      <td>4</td>\n",
       "      <td>Islam</td>\n",
       "      <td>Yes</td>\n",
       "      <td>1</td>\n",
       "      <td>3</td>\n",
       "      <td>0</td>\n",
       "      <td>1</td>\n",
       "    </tr>\n",
       "    <tr>\n",
       "      <th>...</th>\n",
       "      <td>...</td>\n",
       "      <td>...</td>\n",
       "      <td>...</td>\n",
       "      <td>...</td>\n",
       "      <td>...</td>\n",
       "      <td>...</td>\n",
       "      <td>...</td>\n",
       "      <td>...</td>\n",
       "      <td>...</td>\n",
       "      <td>...</td>\n",
       "    </tr>\n",
       "    <tr>\n",
       "      <th>1095</th>\n",
       "      <td>3</td>\n",
       "      <td>1</td>\n",
       "      <td>4</td>\n",
       "      <td>4</td>\n",
       "      <td>Islam</td>\n",
       "      <td>No</td>\n",
       "      <td>3</td>\n",
       "      <td>3</td>\n",
       "      <td>0</td>\n",
       "      <td>1</td>\n",
       "    </tr>\n",
       "    <tr>\n",
       "      <th>1096</th>\n",
       "      <td>2</td>\n",
       "      <td>4</td>\n",
       "      <td>4</td>\n",
       "      <td>4</td>\n",
       "      <td>Islam</td>\n",
       "      <td>No</td>\n",
       "      <td>2</td>\n",
       "      <td>3</td>\n",
       "      <td>0</td>\n",
       "      <td>2</td>\n",
       "    </tr>\n",
       "    <tr>\n",
       "      <th>1097</th>\n",
       "      <td>3</td>\n",
       "      <td>3</td>\n",
       "      <td>4</td>\n",
       "      <td>7</td>\n",
       "      <td>Islam</td>\n",
       "      <td>No</td>\n",
       "      <td>2</td>\n",
       "      <td>1</td>\n",
       "      <td>0</td>\n",
       "      <td>1</td>\n",
       "    </tr>\n",
       "    <tr>\n",
       "      <th>1098</th>\n",
       "      <td>1</td>\n",
       "      <td>3</td>\n",
       "      <td>3</td>\n",
       "      <td>1</td>\n",
       "      <td>Islam</td>\n",
       "      <td>No</td>\n",
       "      <td>2</td>\n",
       "      <td>4</td>\n",
       "      <td>0</td>\n",
       "      <td>3</td>\n",
       "    </tr>\n",
       "    <tr>\n",
       "      <th>1099</th>\n",
       "      <td>1</td>\n",
       "      <td>3</td>\n",
       "      <td>3</td>\n",
       "      <td>1</td>\n",
       "      <td>Islam</td>\n",
       "      <td>No</td>\n",
       "      <td>2</td>\n",
       "      <td>4</td>\n",
       "      <td>0</td>\n",
       "      <td>3</td>\n",
       "    </tr>\n",
       "  </tbody>\n",
       "</table>\n",
       "<p>1100 rows × 10 columns</p>\n",
       "</div>"
      ],
      "text/plain": [
       "     24  2  3  3.1      1  1.1  2.1  3.2  0  1.2\n",
       "0     3  3  4    6  Islam   No    3    4  0    1\n",
       "1     2  2  3    7  Islam   No    3    3  0    3\n",
       "2     1  3  3    3  Islam   No    2    3  0    3\n",
       "3     1  3  3    2  Islam   No    2    2  1    3\n",
       "4     2  3  4    4  Islam  Yes    1    3  0    1\n",
       "...  .. .. ..  ...    ...  ...  ...  ... ..  ...\n",
       "1095  3  1  4    4  Islam   No    3    3  0    1\n",
       "1096  2  4  4    4  Islam   No    2    3  0    2\n",
       "1097  3  3  4    7  Islam   No    2    1  0    1\n",
       "1098  1  3  3    1  Islam   No    2    4  0    3\n",
       "1099  1  3  3    1  Islam   No    2    4  0    3\n",
       "\n",
       "[1100 rows x 10 columns]"
      ]
     },
     "execution_count": 22,
     "metadata": {},
     "output_type": "execute_result"
    }
   ],
   "source": [
    "contr_df_cat = contr_df.copy()\n",
    "contr_df_cat"
   ]
  },
  {
   "cell_type": "code",
   "execution_count": 32,
   "metadata": {
    "ExecuteTime": {
     "end_time": "2020-10-07T07:58:48.060505Z",
     "start_time": "2020-10-07T07:58:47.944988Z"
    }
   },
   "outputs": [],
   "source": [
    "train=pd.read_csv('cmc_train.csv')\n",
    "train = train.drop(columns=['Unnamed: 0'])\n",
    "test = pd.read_csv('test.csv')\n",
    "test = test.drop(columns=['Unnamed: 0'])\n",
    "\n",
    "# 将年龄分为三段\n",
    "train['24'] = pd.qcut(train['24'], q=3, labels=['young', 'middle-aged', 'old'])\n",
    "train['24'].replace('young',1,inplace=True)\n",
    "train['24'].replace('middle-aged',2,inplace=True)\n",
    "train['24'].replace('old',3,inplace=True)\n",
    "\n",
    "test['24'] = pd.qcut(test['24'], q=3, labels=['young', 'middle-aged', 'old'])\n",
    "test['24'].replace('young',1,inplace=True)\n",
    "test['24'].replace('middle-aged',2,inplace=True)\n",
    "test['24'].replace('old',3,inplace=True)\n",
    "\n",
    "train_y = train['1.2']\n",
    "train = train.drop(columns=['1.2'])\n"
   ]
  },
  {
   "cell_type": "code",
   "execution_count": null,
   "metadata": {},
   "outputs": [],
   "source": []
  },
  {
   "cell_type": "code",
   "execution_count": null,
   "metadata": {
    "ExecuteTime": {
     "end_time": "2020-10-07T08:08:59.607572Z",
     "start_time": "2020-10-07T08:08:59.518363Z"
    }
   },
   "outputs": [],
   "source": []
  },
  {
   "cell_type": "code",
   "execution_count": null,
   "metadata": {},
   "outputs": [],
   "source": []
  }
 ],
 "metadata": {
  "kernelspec": {
   "display_name": "Python 3",
   "language": "python",
   "name": "python3"
  },
  "language_info": {
   "codemirror_mode": {
    "name": "ipython",
    "version": 3
   },
   "file_extension": ".py",
   "mimetype": "text/x-python",
   "name": "python",
   "nbconvert_exporter": "python",
   "pygments_lexer": "ipython3",
   "version": "3.7.4"
  },
  "toc": {
   "base_numbering": 1,
   "nav_menu": {},
   "number_sections": true,
   "sideBar": true,
   "skip_h1_title": false,
   "title_cell": "Table of Contents",
   "title_sidebar": "Contents",
   "toc_cell": false,
   "toc_position": {},
   "toc_section_display": true,
   "toc_window_display": false
  }
 },
 "nbformat": 4,
 "nbformat_minor": 2
}
