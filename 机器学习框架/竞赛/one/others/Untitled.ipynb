{
 "cells": [
  {
   "cell_type": "code",
   "execution_count": 8,
   "metadata": {
    "ExecuteTime": {
     "end_time": "2020-10-01T02:17:14.932384Z",
     "start_time": "2020-10-01T02:17:14.839194Z"
    },
    "scrolled": true
   },
   "outputs": [
    {
     "name": "stdout",
     "output_type": "stream",
     "text": [
      "        Unnamed: 0           24            2            3          3.1  \\\n",
      "count  1473.000000  1473.000000  1473.000000  1473.000000  1473.000000   \n",
      "mean    736.000000    32.538357     2.958588     3.429735     3.261371   \n",
      "std     425.362786     8.227245     1.014994     0.816349     2.358549   \n",
      "min       0.000000    16.000000     1.000000     1.000000     0.000000   \n",
      "25%     368.000000    26.000000     2.000000     3.000000     1.000000   \n",
      "50%     736.000000    32.000000     3.000000     4.000000     3.000000   \n",
      "75%    1104.000000    39.000000     4.000000     4.000000     4.000000   \n",
      "max    1472.000000    49.000000     4.000000     4.000000    16.000000   \n",
      "\n",
      "                 1          1.1          2.1          3.2            0  \\\n",
      "count  1473.000000  1473.000000  1473.000000  1473.000000  1473.000000   \n",
      "mean      0.850645     0.749491     2.137814     3.133741     0.073999   \n",
      "std       0.356559     0.433453     0.864857     0.976161     0.261858   \n",
      "min       0.000000     0.000000     1.000000     1.000000     0.000000   \n",
      "25%       1.000000     0.000000     1.000000     3.000000     0.000000   \n",
      "50%       1.000000     1.000000     2.000000     3.000000     0.000000   \n",
      "75%       1.000000     1.000000     3.000000     4.000000     0.000000   \n",
      "max       1.000000     1.000000     4.000000     4.000000     1.000000   \n",
      "\n",
      "               1.2  \n",
      "count  1473.000000  \n",
      "mean      1.919891  \n",
      "std       0.876376  \n",
      "min       1.000000  \n",
      "25%       1.000000  \n",
      "50%       2.000000  \n",
      "75%       3.000000  \n",
      "max       3.000000  \n"
     ]
    }
   ],
   "source": [
    "import pandas as pd\n",
    "import numpy as np\n",
    "\n",
    "import operator\n",
    "\n",
    "cmc = pd.read_csv('cmc.csv')\n",
    "train = pd.read_csv('cmc_train.csv')\n",
    "\n",
    "\n",
    "\n",
    "print(cmc.describe())\n"
   ]
  },
  {
   "cell_type": "code",
   "execution_count": 6,
   "metadata": {
    "ExecuteTime": {
     "end_time": "2020-10-01T02:15:51.102496Z",
     "start_time": "2020-10-01T02:15:51.023897Z"
    }
   },
   "outputs": [
    {
     "name": "stdout",
     "output_type": "stream",
     "text": [
      "        Unnamed: 0           24            2            3          3.1  \\\n",
      "count  1100.000000  1100.000000  1100.000000  1100.000000  1100.000000   \n",
      "mean    549.500000    32.590909     2.949091     3.410000     3.296364   \n",
      "std     317.686953     8.298893     1.017208     0.833822     2.356604   \n",
      "min       0.000000    16.000000     1.000000     1.000000     0.000000   \n",
      "25%     274.750000    26.000000     2.000000     3.000000     1.000000   \n",
      "50%     549.500000    32.000000     3.000000     4.000000     3.000000   \n",
      "75%     824.250000    39.000000     4.000000     4.000000     5.000000   \n",
      "max    1099.000000    49.000000     4.000000     4.000000    16.000000   \n",
      "\n",
      "                 1          1.1          2.1          3.2            0  \\\n",
      "count  1100.000000  1100.000000  1100.000000  1100.000000  1100.000000   \n",
      "mean      0.849091     0.760000     2.144545     3.111818     0.078182   \n",
      "std       0.358123     0.427277     0.858516     0.983599     0.268580   \n",
      "min       0.000000     0.000000     1.000000     1.000000     0.000000   \n",
      "25%       1.000000     1.000000     1.000000     3.000000     0.000000   \n",
      "50%       1.000000     1.000000     2.000000     3.000000     0.000000   \n",
      "75%       1.000000     1.000000     3.000000     4.000000     0.000000   \n",
      "max       1.000000     1.000000     4.000000     4.000000     1.000000   \n",
      "\n",
      "               1.2  \n",
      "count  1100.000000  \n",
      "mean      1.930000  \n",
      "std       0.878212  \n",
      "min       1.000000  \n",
      "25%       1.000000  \n",
      "50%       2.000000  \n",
      "75%       3.000000  \n",
      "max       3.000000  \n"
     ]
    }
   ],
   "source": [
    "print(train.describe())"
   ]
  },
  {
   "cell_type": "code",
   "execution_count": 9,
   "metadata": {
    "ExecuteTime": {
     "end_time": "2020-10-01T02:18:51.449942Z",
     "start_time": "2020-10-01T02:18:51.434781Z"
    }
   },
   "outputs": [
    {
     "name": "stdout",
     "output_type": "stream",
     "text": [
      "      Unnamed: 0  24  2  3  3.1  1  1.1  2.1  3.2  0  1.2\n",
      "0              0  24  2  3    3  1    1    2    3  0    1\n",
      "1              1  45  1  3   10  1    1    3    4  0    1\n",
      "2              2  43  2  3    7  1    1    3    4  0    1\n",
      "3              3  42  3  2    9  1    1    3    3  0    1\n",
      "4              4  36  3  3    8  1    1    3    2  0    1\n",
      "...          ...  .. .. ..  ... ..  ...  ...  ... ..  ...\n",
      "1468        1468  33  4  4    2  1    0    2    4  0    3\n",
      "1469        1469  33  4  4    3  1    1    1    4  0    3\n",
      "1470        1470  39  3  3    8  1    0    1    4  0    3\n",
      "1471        1471  33  3  3    4  1    0    2    2  0    3\n",
      "1472        1472  17  3  3    1  1    1    2    4  0    3\n",
      "\n",
      "[1473 rows x 11 columns]\n"
     ]
    }
   ],
   "source": [
    "print(cmc)"
   ]
  },
  {
   "cell_type": "code",
   "execution_count": 10,
   "metadata": {
    "ExecuteTime": {
     "end_time": "2020-10-01T02:19:10.357948Z",
     "start_time": "2020-10-01T02:19:10.327248Z"
    }
   },
   "outputs": [
    {
     "name": "stdout",
     "output_type": "stream",
     "text": [
      "      Unnamed: 0  24  2  3  3.1  1  1.1  2.1  3.2  0  1.2\n",
      "0              0  44  3  4    6  1    1    3    4  0    1\n",
      "1              1  36  2  3    7  1    1    3    3  0    3\n",
      "2              2  27  3  3    3  1    1    2    3  0    3\n",
      "3              3  20  3  3    2  1    1    2    2  1    3\n",
      "4              4  29  3  4    4  1    0    1    3  0    1\n",
      "...          ...  .. .. ..  ... ..  ...  ...  ... ..  ...\n",
      "1095        1095  41  1  4    4  1    1    3    3  0    1\n",
      "1096        1096  32  4  4    4  1    1    2    3  0    2\n",
      "1097        1097  37  3  4    7  1    1    2    1  0    1\n",
      "1098        1098  17  3  3    1  1    1    2    4  0    3\n",
      "1099        1099  17  3  3    1  1    1    2    4  0    3\n",
      "\n",
      "[1100 rows x 11 columns]\n"
     ]
    }
   ],
   "source": [
    "print(train)"
   ]
  },
  {
   "cell_type": "code",
   "execution_count": 13,
   "metadata": {
    "ExecuteTime": {
     "end_time": "2020-10-01T02:19:54.422330Z",
     "start_time": "2020-10-01T02:19:54.414706Z"
    }
   },
   "outputs": [],
   "source": [
    "cmc=cmc.values\n",
    "train=train.values\n"
   ]
  },
  {
   "cell_type": "code",
   "execution_count": 15,
   "metadata": {
    "ExecuteTime": {
     "end_time": "2020-10-01T02:20:56.770239Z",
     "start_time": "2020-10-01T02:20:36.714779Z"
    }
   },
   "outputs": [
    {
     "name": "stdout",
     "output_type": "stream",
     "text": [
      "0\n"
     ]
    }
   ],
   "source": [
    "cnt = 0\n",
    "labels = []\n",
    "for data in train:\n",
    "    for data1 in cmc:\n",
    "        if operator.eq(list(data1[0:]),list(data[0:])):\n",
    "            cnt+=1\n",
    "            break\n",
    "\n",
    "print(cnt)"
   ]
  },
  {
   "cell_type": "code",
   "execution_count": null,
   "metadata": {},
   "outputs": [],
   "source": []
  }
 ],
 "metadata": {
  "kernelspec": {
   "display_name": "Python 3",
   "language": "python",
   "name": "python3"
  },
  "language_info": {
   "codemirror_mode": {
    "name": "ipython",
    "version": 3
   },
   "file_extension": ".py",
   "mimetype": "text/x-python",
   "name": "python",
   "nbconvert_exporter": "python",
   "pygments_lexer": "ipython3",
   "version": "3.7.4"
  },
  "toc": {
   "base_numbering": 1,
   "nav_menu": {},
   "number_sections": true,
   "sideBar": true,
   "skip_h1_title": false,
   "title_cell": "Table of Contents",
   "title_sidebar": "Contents",
   "toc_cell": false,
   "toc_position": {},
   "toc_section_display": true,
   "toc_window_display": false
  }
 },
 "nbformat": 4,
 "nbformat_minor": 2
}
