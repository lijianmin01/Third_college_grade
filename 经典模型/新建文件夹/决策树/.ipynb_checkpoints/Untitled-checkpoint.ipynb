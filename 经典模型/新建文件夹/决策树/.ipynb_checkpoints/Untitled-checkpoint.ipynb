{
 "cells": [
  {
   "cell_type": "code",
   "execution_count": 1,
   "metadata": {
    "ExecuteTime": {
     "end_time": "2020-09-25T06:19:17.345767Z",
     "start_time": "2020-09-25T06:19:17.329020Z"
    }
   },
   "outputs": [],
   "source": [
    "import operator\n",
    "from math import log"
   ]
  },
  {
   "cell_type": "markdown",
   "metadata": {},
   "source": [
    "## 1、准备数据集"
   ]
  },
  {
   "cell_type": "code",
   "execution_count": 2,
   "metadata": {
    "ExecuteTime": {
     "end_time": "2020-09-25T06:44:57.690467Z",
     "start_time": "2020-09-25T06:44:57.674804Z"
    }
   },
   "outputs": [],
   "source": [
    "def create_data():\n",
    "        dataset = [[0, 0, 0, 0, 'no'],\n",
    "             [0, 0, 0, 1, 'no'],\n",
    "             [0, 1, 0, 1, 'yes'],\n",
    "             [0, 1, 1, 0, 'yes'],\n",
    "             [0, 0, 0, 0, 'no'],\n",
    "             [1, 0, 0, 0, 'no'],\n",
    "             [1, 0, 0, 1, 'no'],\n",
    "             [1, 1, 1, 1, 'yes'],\n",
    "             [1, 0, 1, 2, 'yes'],\n",
    "             [1, 0, 1, 2, 'yes'],\n",
    "             [2, 0, 1, 2, 'yes'],\n",
    "             [2, 0, 1, 1, 'yes'],\n",
    "             [2, 1, 0, 1, 'yes'],\n",
    "             [2, 1, 0, 2, 'yes'],\n",
    "             [2, 0, 0, 0, 'no']]\n",
    "        feat_labels =['age','house','work','status']\n",
    "        return dataset,feat_labels\n",
    "        "
   ]
  },
  {
   "cell_type": "code",
   "execution_count": 4,
   "metadata": {
    "ExecuteTime": {
     "end_time": "2020-09-25T06:45:21.511495Z",
     "start_time": "2020-09-25T06:45:21.496625Z"
    }
   },
   "outputs": [
    {
     "data": {
      "text/plain": [
       "['age', 'house', 'work', 'status']"
      ]
     },
     "execution_count": 4,
     "metadata": {},
     "output_type": "execute_result"
    }
   ],
   "source": [
    "dataset,feat_labels = create_data()\n",
    "feat_labels"
   ]
  },
  {
   "cell_type": "markdown",
   "metadata": {},
   "source": [
    "## 2、计算熵"
   ]
  },
  {
   "cell_type": "code",
   "execution_count": 5,
   "metadata": {
    "ExecuteTime": {
     "end_time": "2020-09-25T06:57:00.149112Z",
     "start_time": "2020-09-25T06:57:00.132769Z"
    }
   },
   "outputs": [],
   "source": [
    "def calc_ent(dataset):\n",
    "    \"\"\"\n",
    "    - sum p log2 pi\n",
    "    \"\"\"\n",
    "    n = len(dataset)  # 样本的个数\n",
    "    lable_count ={}\n",
    "    for x in dataset:\n",
    "        lable = x[-1] # 类别\n",
    "        lable_count[lable] = lable_count.get(lable,0)+1\n",
    "    \n",
    "    ent = 0\n",
    "    for key in lable_count:\n",
    "        p = label_count[key] / n\n",
    "        ent -= p*log(p,2)\n",
    "    \n",
    "    return ent\n",
    "    "
   ]
  },
  {
   "cell_type": "markdown",
   "metadata": {},
   "source": [
    "## 3、选最优特征"
   ]
  },
  {
   "cell_type": "code",
   "execution_count": 8,
   "metadata": {
    "ExecuteTime": {
     "end_time": "2020-09-25T07:10:29.141935Z",
     "start_time": "2020-09-25T07:10:29.125387Z"
    }
   },
   "outputs": [],
   "source": [
    "def choose_best_feat(dataset):\n",
    "    best_feat = -1\n",
    "    best_gain = 0  # 最大的信息特征\n",
    "    ent_new = 0\n",
    "    ent_base = calc_ent(dataset)\n",
    "    feat_n = len(dataset[0])-1\n",
    "    for feat_i in range(feat_n):\n",
    "        value_list = [x[feat_i] for x in dataset]\n",
    "        unique_values = set(value_list)\n",
    "        for value in unqiue_values:\n",
    "            sub_dataset = split_dataset(dataset,feat_i,value)\n",
    "            ent_new +=len(sub_dataset)/len(dataset)*calc_ent(sub_dataset)\n",
    "            \n",
    "        gain_i = ent_base-ent_new\n",
    "        if gain_i > best_gain:\n",
    "            best_gain = gain_i\n",
    "            best_feat = feat_i\n",
    "    \n",
    "    return best_feat\n",
    "            "
   ]
  },
  {
   "cell_type": "code",
   "execution_count": null,
   "metadata": {},
   "outputs": [],
   "source": []
  },
  {
   "cell_type": "code",
   "execution_count": null,
   "metadata": {},
   "outputs": [],
   "source": []
  },
  {
   "cell_type": "code",
   "execution_count": null,
   "metadata": {},
   "outputs": [],
   "source": []
  },
  {
   "cell_type": "code",
   "execution_count": null,
   "metadata": {},
   "outputs": [],
   "source": []
  },
  {
   "cell_type": "code",
   "execution_count": null,
   "metadata": {},
   "outputs": [],
   "source": []
  },
  {
   "cell_type": "code",
   "execution_count": null,
   "metadata": {},
   "outputs": [],
   "source": []
  },
  {
   "cell_type": "code",
   "execution_count": null,
   "metadata": {},
   "outputs": [],
   "source": []
  },
  {
   "cell_type": "code",
   "execution_count": null,
   "metadata": {},
   "outputs": [],
   "source": []
  }
 ],
 "metadata": {
  "kernelspec": {
   "display_name": "Python 3",
   "language": "python",
   "name": "python3"
  },
  "language_info": {
   "codemirror_mode": {
    "name": "ipython",
    "version": 3
   },
   "file_extension": ".py",
   "mimetype": "text/x-python",
   "name": "python",
   "nbconvert_exporter": "python",
   "pygments_lexer": "ipython3",
   "version": "3.7.4"
  },
  "toc": {
   "base_numbering": 1,
   "nav_menu": {},
   "number_sections": true,
   "sideBar": true,
   "skip_h1_title": false,
   "title_cell": "Table of Contents",
   "title_sidebar": "Contents",
   "toc_cell": false,
   "toc_position": {},
   "toc_section_display": true,
   "toc_window_display": false
  }
 },
 "nbformat": 4,
 "nbformat_minor": 2
}
