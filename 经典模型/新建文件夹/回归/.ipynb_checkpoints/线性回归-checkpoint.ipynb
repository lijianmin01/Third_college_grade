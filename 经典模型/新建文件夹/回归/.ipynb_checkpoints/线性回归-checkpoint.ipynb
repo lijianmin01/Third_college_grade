{
 "cells": [
  {
   "cell_type": "code",
   "execution_count": 14,
   "metadata": {
    "ExecuteTime": {
     "end_time": "2020-10-02T06:38:46.862410Z",
     "start_time": "2020-10-02T06:38:46.821807Z"
    },
    "code_folding": [
     15
    ]
   },
   "outputs": [
    {
     "name": "stdout",
     "output_type": "stream",
     "text": [
      "[[1.       0.067732]\n",
      " [1.       0.42781 ]\n",
      " [1.       0.995731]\n",
      " [1.       0.738336]\n",
      " [1.       0.981083]\n",
      " [1.       0.526171]\n",
      " [1.       0.378887]\n",
      " [1.       0.033859]\n",
      " [1.       0.132791]\n",
      " [1.       0.138306]\n",
      " [1.       0.247809]\n",
      " [1.       0.64827 ]\n",
      " [1.       0.731209]\n",
      " [1.       0.236833]\n",
      " [1.       0.969788]\n",
      " [1.       0.607492]\n",
      " [1.       0.358622]\n",
      " [1.       0.147846]\n",
      " [1.       0.63782 ]\n",
      " [1.       0.230372]\n",
      " [1.       0.070237]\n",
      " [1.       0.067154]\n",
      " [1.       0.925577]\n",
      " [1.       0.717733]\n",
      " [1.       0.015371]\n",
      " [1.       0.33507 ]\n",
      " [1.       0.040486]\n",
      " [1.       0.212575]\n",
      " [1.       0.617218]\n",
      " [1.       0.541196]\n",
      " [1.       0.045353]\n",
      " [1.       0.126762]\n",
      " [1.       0.556486]\n",
      " [1.       0.901144]\n",
      " [1.       0.958476]\n",
      " [1.       0.274561]\n",
      " [1.       0.394396]\n",
      " [1.       0.87248 ]\n",
      " [1.       0.409932]\n",
      " [1.       0.908969]\n",
      " [1.       0.166819]\n",
      " [1.       0.665016]\n",
      " [1.       0.263727]\n",
      " [1.       0.231214]\n",
      " [1.       0.552928]\n",
      " [1.       0.047744]\n",
      " [1.       0.365746]\n",
      " [1.       0.495002]\n",
      " [1.       0.493466]\n",
      " [1.       0.792101]\n",
      " [1.       0.76966 ]\n",
      " [1.       0.251821]\n",
      " [1.       0.181951]\n",
      " [1.       0.808177]\n",
      " [1.       0.334116]\n",
      " [1.       0.33863 ]\n",
      " [1.       0.452584]\n",
      " [1.       0.69477 ]\n",
      " [1.       0.590902]\n",
      " [1.       0.307928]\n",
      " [1.       0.148364]\n",
      " [1.       0.70218 ]\n",
      " [1.       0.721544]\n",
      " [1.       0.666886]\n",
      " [1.       0.124931]\n",
      " [1.       0.618286]\n",
      " [1.       0.381086]\n",
      " [1.       0.385643]\n",
      " [1.       0.777175]\n",
      " [1.       0.116089]\n",
      " [1.       0.115487]\n",
      " [1.       0.66351 ]\n",
      " [1.       0.254884]\n",
      " [1.       0.993888]\n",
      " [1.       0.295434]\n",
      " [1.       0.952523]\n",
      " [1.       0.307047]\n",
      " [1.       0.277261]\n",
      " [1.       0.279101]\n",
      " [1.       0.175724]\n",
      " [1.       0.156383]\n",
      " [1.       0.733165]\n",
      " [1.       0.848142]\n",
      " [1.       0.771184]\n",
      " [1.       0.429492]\n",
      " [1.       0.162176]\n",
      " [1.       0.917064]\n",
      " [1.       0.315044]\n",
      " [1.       0.201473]\n",
      " [1.       0.297038]\n",
      " [1.       0.336647]\n",
      " [1.       0.666109]\n",
      " [1.       0.583888]\n",
      " [1.       0.085031]\n",
      " [1.       0.687006]\n",
      " [1.       0.949655]\n",
      " [1.       0.189912]\n",
      " [1.       0.844027]\n",
      " [1.       0.333288]\n",
      " [1.       0.427035]\n",
      " [1.       0.466369]\n",
      " [1.       0.550659]\n",
      " [1.       0.278213]\n",
      " [1.       0.918769]\n",
      " [1.       0.886555]\n",
      " [1.       0.569488]\n",
      " [1.       0.066379]\n",
      " [1.       0.335751]\n",
      " [1.       0.426863]\n",
      " [1.       0.395746]\n",
      " [1.       0.694221]\n",
      " [1.       0.27276 ]\n",
      " [1.       0.503495]\n",
      " [1.       0.067119]\n",
      " [1.       0.038326]\n",
      " [1.       0.599122]\n",
      " [1.       0.947054]\n",
      " [1.       0.671279]\n",
      " [1.       0.434811]\n",
      " [1.       0.509381]\n",
      " [1.       0.749442]\n",
      " [1.       0.058014]\n",
      " [1.       0.482978]\n",
      " [1.       0.466776]\n",
      " [1.       0.357767]\n",
      " [1.       0.949123]\n",
      " [1.       0.41732 ]\n",
      " [1.       0.920461]\n",
      " [1.       0.156433]\n",
      " [1.       0.656662]\n",
      " [1.       0.616418]\n",
      " [1.       0.853428]\n",
      " [1.       0.133295]\n",
      " [1.       0.693007]\n",
      " [1.       0.178449]\n",
      " [1.       0.199526]\n",
      " [1.       0.073224]\n",
      " [1.       0.286515]\n",
      " [1.       0.182026]\n",
      " [1.       0.621523]\n",
      " [1.       0.344584]\n",
      " [1.       0.398556]\n",
      " [1.       0.480369]\n",
      " [1.       0.15335 ]\n",
      " [1.       0.171846]\n",
      " [1.       0.867082]\n",
      " [1.       0.223855]\n",
      " [1.       0.528301]\n",
      " [1.       0.890192]\n",
      " [1.       0.106352]\n",
      " [1.       0.917886]\n",
      " [1.       0.014855]\n",
      " [1.       0.567682]\n",
      " [1.       0.068854]\n",
      " [1.       0.603535]\n",
      " [1.       0.53205 ]\n",
      " [1.       0.651362]\n",
      " [1.       0.901225]\n",
      " [1.       0.204337]\n",
      " [1.       0.696081]\n",
      " [1.       0.963924]\n",
      " [1.       0.98139 ]\n",
      " [1.       0.987911]\n",
      " [1.       0.990947]\n",
      " [1.       0.736021]\n",
      " [1.       0.253574]\n",
      " [1.       0.674722]\n",
      " [1.       0.939368]\n",
      " [1.       0.235419]\n",
      " [1.       0.110521]\n",
      " [1.       0.218023]\n",
      " [1.       0.869778]\n",
      " [1.       0.19683 ]\n",
      " [1.       0.958178]\n",
      " [1.       0.972673]\n",
      " [1.       0.745797]\n",
      " [1.       0.445674]\n",
      " [1.       0.470557]\n",
      " [1.       0.549236]\n",
      " [1.       0.335691]\n",
      " [1.       0.884739]\n",
      " [1.       0.918916]\n",
      " [1.       0.441815]\n",
      " [1.       0.116598]\n",
      " [1.       0.359274]\n",
      " [1.       0.814811]\n",
      " [1.       0.387125]\n",
      " [1.       0.982243]\n",
      " [1.       0.78088 ]\n",
      " [1.       0.652565]\n",
      " [1.       0.87003 ]\n",
      " [1.       0.604755]\n",
      " [1.       0.255212]\n",
      " [1.       0.730546]\n",
      " [1.       0.493829]\n",
      " [1.       0.257017]\n",
      " [1.       0.833735]\n",
      " [1.       0.070095]\n",
      " [1.       0.52707 ]\n",
      " [1.       0.116163]] ['3.176513', '3.816464', '4.550095', '4.256571', '4.560815', '3.929515', '3.526170', '3.156393', '3.110301', '3.149813', '3.476346', '4.119688', '4.282233', '3.486582', '4.655492', '3.965162', '3.514900', '3.125947', '4.094115', '3.476039', '3.210610', '3.190612', '4.631504', '4.295890', '3.085028', '3.448080', '3.167440', '3.364266', '3.993482', '3.891471', '3.143259', '3.114204', '3.851484', '4.621899', '4.580768', '3.620992', '3.580501', '4.618706', '3.676867', '4.641845', '3.175939', '4.264980', '3.558448', '3.436632', '3.831052', '3.182853', '3.498906', '3.946833', '3.900583', '4.238522', '4.233080', '3.521557', '3.203344', '4.278105', '3.555705', '3.502661', '3.859776', '4.275956', '3.916191', '3.587961', '3.183004', '4.225236', '4.231083', '4.240544', '3.222372', '4.021445', '3.567479', '3.562580', '4.262059', '3.208813', '3.169825', '4.193949', '3.491678', '4.533306', '3.550108', '4.636427', '3.557078', '3.552874', '3.494159', '3.206828', '3.195266', '4.221292', '4.413372', '4.184347', '3.742878', '3.201878', '4.648964', '3.510117', '3.274434', '3.579622', '3.489244', '4.237386', '3.913749', '3.228990', '4.286286', '4.628614', '3.239536', '4.457997', '3.513384', '3.729674', '3.834274', '3.811155', '3.598316', '4.692514', '4.604859', '3.864912', '3.184236', '3.500796', '3.743365', '3.622905', '4.310796', '3.583357', '3.901852', '3.233521', '3.105266', '3.865544', '4.628625', '4.231213', '3.791149', '3.968271', '4.253910', '3.194710', '3.996503', '3.904358', '3.503976', '4.557545', '3.699876', '4.613614', '3.140401', '4.206717', '3.969524', '4.476096', '3.136528', '4.279071', '3.200603', '3.299012', '3.209873', '3.632942', '3.248361', '3.995783', '3.563262', '3.649712', '3.951845', '3.145031', '3.181577', '4.637087', '3.404964', '3.873188', '4.633648', '3.154768', '4.623637', '3.078132', '3.913596', '3.221817', '3.938071', '3.880822', '4.176436', '4.648161', '3.332312', '4.240614', '4.532224', '4.557105', '4.610072', '4.636569', '4.229813', '3.500860', '4.245514', '4.605182', '3.454340', '3.180775', '3.380820', '4.565020', '3.279973', '4.554241', '4.633520', '4.281037', '3.844426', '3.891601', '3.849728', '3.492215', '4.592374', '4.632025', '3.756750', '3.133555', '3.567919', '4.363382', '3.560165', '4.564305', '4.215055', '4.174999', '4.586640', '3.960008', '3.529963', '4.213412', '3.908685', '3.585821', '4.374394', '3.213817', '3.952681', '3.129283']\n"
     ]
    }
   ],
   "source": [
    "# 标准化回归函数和数据导入函数\n",
    "import numpy as np\n",
    "import matplotlib as plt \n",
    "\n",
    "# def loadDataSet(fileName):\n",
    "#     numFeat = len(open(fileName).readline().split('\\t'))-1\n",
    "#     dataMat = []\n",
    "#     labelMat = []\n",
    "#     fr = open(fileName)\n",
    "#     for line in fr.readline():\n",
    "#         lineArr = []\n",
    "#         curLine = line.strip().split('\\t')\n",
    "#         for i in range(numFeat):\n",
    "#             lineArr.append(float(curLine[i]))\n",
    "#         dataMat.append(lineArr)\n",
    "#         labelMat.append(float(curLine[-1]))\n",
    "    \n",
    "#     return dataMat,labelMat\n",
    "def loadDataSet(filename):\n",
    "    with open(filename,'r') as fr:\n",
    "        lines = fr.readlines()\n",
    "    n = len(lines)\n",
    "    dataX = np.zeros((n,2))\n",
    "    dataY = []\n",
    "    for index,line in enumerate(lines):\n",
    "        line = line.strip()\n",
    "        list_of_line = line.split('\\t')\n",
    "        dataX[index,:]=[float(x) for x in list_of_line[:-1]]\n",
    "        dataY.append(list_of_line[-1])\n",
    "    return dataX,dataY\n",
    "dataX,dataY = loadDataSet('ex0.txt')\n",
    "print(dataX,dataY)"
   ]
  },
  {
   "cell_type": "code",
   "execution_count": 18,
   "metadata": {
    "ExecuteTime": {
     "end_time": "2020-10-02T06:53:39.000691Z",
     "start_time": "2020-10-02T06:53:38.984194Z"
    }
   },
   "outputs": [],
   "source": [
    "def stand_regres(dataX,dataY):\n",
    "    xMat = np.mat(xArr)\n",
    "    yMat = np.mat(yArr).T\n",
    "    xTx = xMat.T * xMat\n",
    "    # 求矩阵的行列式\n",
    "    if np.linalg.det(xTx) == 0.0:\n",
    "        print(\"矩阵为奇异矩阵，不能求逆\")\n",
    "        return\n",
    "    # .I求逆矩阵\n",
    "    ws = (xTx.I) * (xMat.T) * yMat\n",
    "    return ws"
   ]
  },
  {
   "cell_type": "code",
   "execution_count": 19,
   "metadata": {
    "ExecuteTime": {
     "end_time": "2020-10-02T06:53:51.120803Z",
     "start_time": "2020-10-02T06:53:41.219099Z"
    }
   },
   "outputs": [
    {
     "ename": "RecursionError",
     "evalue": "maximum recursion depth exceeded while calling a Python object",
     "output_type": "error",
     "traceback": [
      "\u001b[1;31m------------------------------------------------------------\u001b[0m",
      "\u001b[1;31mRecursionError\u001b[0m             Traceback (most recent call last)",
      "\u001b[1;32m<ipython-input-19-3eff9cd1a7c2>\u001b[0m in \u001b[0;36m<module>\u001b[1;34m\u001b[0m\n\u001b[0;32m      5\u001b[0m     \u001b[0mplt\u001b[0m\u001b[1;33m.\u001b[0m\u001b[0mshow\u001b[0m\u001b[1;33m(\u001b[0m\u001b[1;33m)\u001b[0m\u001b[1;33m\u001b[0m\u001b[1;33m\u001b[0m\u001b[0m\n\u001b[0;32m      6\u001b[0m \u001b[1;33m\u001b[0m\u001b[0m\n\u001b[1;32m----> 7\u001b[1;33m \u001b[0mw\u001b[0m \u001b[1;33m=\u001b[0m \u001b[0mstand_regres\u001b[0m\u001b[1;33m(\u001b[0m\u001b[0mdataX\u001b[0m\u001b[1;33m,\u001b[0m\u001b[0mdataY\u001b[0m\u001b[1;33m)\u001b[0m\u001b[1;33m\u001b[0m\u001b[1;33m\u001b[0m\u001b[0m\n\u001b[0m\u001b[0;32m      8\u001b[0m \u001b[0mplot_dataset\u001b[0m\u001b[1;33m(\u001b[0m\u001b[0mdataX\u001b[0m\u001b[1;33m,\u001b[0m\u001b[0mdataY\u001b[0m\u001b[1;33m,\u001b[0m\u001b[0mw\u001b[0m\u001b[1;33m)\u001b[0m\u001b[1;33m\u001b[0m\u001b[1;33m\u001b[0m\u001b[0m\n",
      "\u001b[1;32m<ipython-input-18-d262efb11755>\u001b[0m in \u001b[0;36mstand_regres\u001b[1;34m(dataX, dataY)\u001b[0m\n\u001b[0;32m      6\u001b[0m         \u001b[0mprint\u001b[0m\u001b[1;33m(\u001b[0m\u001b[1;34m\"奇异矩阵\"\u001b[0m\u001b[1;33m)\u001b[0m\u001b[1;33m\u001b[0m\u001b[1;33m\u001b[0m\u001b[0m\n\u001b[0;32m      7\u001b[0m         \u001b[1;32mreturn\u001b[0m \u001b[1;36m0\u001b[0m\u001b[1;33m\u001b[0m\u001b[1;33m\u001b[0m\u001b[0m\n\u001b[1;32m----> 8\u001b[1;33m     \u001b[0mw\u001b[0m \u001b[1;33m=\u001b[0m \u001b[0mstand_regres\u001b[0m\u001b[1;33m(\u001b[0m\u001b[0mdataX\u001b[0m\u001b[1;33m,\u001b[0m\u001b[0mdataY\u001b[0m\u001b[1;33m)\u001b[0m\u001b[1;33m\u001b[0m\u001b[1;33m\u001b[0m\u001b[0m\n\u001b[0m\u001b[0;32m      9\u001b[0m     \u001b[1;32mreturn\u001b[0m \u001b[0mw\u001b[0m\u001b[1;33m\u001b[0m\u001b[1;33m\u001b[0m\u001b[0m\n",
      "... last 1 frames repeated, from the frame below ...\n",
      "\u001b[1;32m<ipython-input-18-d262efb11755>\u001b[0m in \u001b[0;36mstand_regres\u001b[1;34m(dataX, dataY)\u001b[0m\n\u001b[0;32m      6\u001b[0m         \u001b[0mprint\u001b[0m\u001b[1;33m(\u001b[0m\u001b[1;34m\"奇异矩阵\"\u001b[0m\u001b[1;33m)\u001b[0m\u001b[1;33m\u001b[0m\u001b[1;33m\u001b[0m\u001b[0m\n\u001b[0;32m      7\u001b[0m         \u001b[1;32mreturn\u001b[0m \u001b[1;36m0\u001b[0m\u001b[1;33m\u001b[0m\u001b[1;33m\u001b[0m\u001b[0m\n\u001b[1;32m----> 8\u001b[1;33m     \u001b[0mw\u001b[0m \u001b[1;33m=\u001b[0m \u001b[0mstand_regres\u001b[0m\u001b[1;33m(\u001b[0m\u001b[0mdataX\u001b[0m\u001b[1;33m,\u001b[0m\u001b[0mdataY\u001b[0m\u001b[1;33m)\u001b[0m\u001b[1;33m\u001b[0m\u001b[1;33m\u001b[0m\u001b[0m\n\u001b[0m\u001b[0;32m      9\u001b[0m     \u001b[1;32mreturn\u001b[0m \u001b[0mw\u001b[0m\u001b[1;33m\u001b[0m\u001b[1;33m\u001b[0m\u001b[0m\n",
      "\u001b[1;31mRecursionError\u001b[0m: maximum recursion depth exceeded while calling a Python object"
     ]
    }
   ],
   "source": [
    "import matplotlib.pyplot as plt\n",
    "def plot_dataset(dataX,dataY,w):\n",
    "    plt.figure()\n",
    "    plt.plot(dataX,dataY)\n",
    "    plt.show()\n",
    "\n",
    "w = stand_regres(dataX,dataY)\n",
    "plot_dataset(dataX,dataY,w)"
   ]
  },
  {
   "cell_type": "code",
   "execution_count": 20,
   "metadata": {
    "ExecuteTime": {
     "end_time": "2020-10-02T06:57:40.758322Z",
     "start_time": "2020-10-02T06:57:40.274399Z"
    }
   },
   "outputs": [
    {
     "name": "stdout",
     "output_type": "stream",
     "text": [
      "[[1.         0.98647356]\n",
      " [0.98647356 1.        ]]\n"
     ]
    },
    {
     "data": {
      "image/png": "[encoded data removed]",
      "text/plain": [
       "<Figure size 432x288 with 1 Axes>"
      ]
     },
     "metadata": {
      "needs_background": "light"
     },
     "output_type": "display_data"
    }
   ],
   "source": [
    "import matplotlib.pyplot as plt\n",
    "import numpy as np\n",
    "\n",
    "def loadDataSet(filename):\n",
    "    # 计算特征个数，由于最后一列为y值所以减一\n",
    "    numFeat = len(open(filename).readline().split('\\t')) - 1\n",
    "    xArr = []\n",
    "    yArr = []\n",
    "    fr = open(filename)\n",
    "    for line in fr.readlines():\n",
    "        lineArr = []\n",
    "        curLine = line.strip().split('\\t')\n",
    "        for i in range(numFeat):\n",
    "            lineArr.append(float(curLine[i]))\n",
    "        xArr.append(lineArr)\n",
    "        yArr.append(float(curLine[-1]))\n",
    "    return xArr, yArr\n",
    "\n",
    "def standRegres(xArr, yArr):\n",
    "    xMat = np.mat(xArr)\n",
    "    yMat = np.mat(yArr).T\n",
    "    xTx = xMat.T * xMat\n",
    "    # 求矩阵的行列式\n",
    "    if np.linalg.det(xTx) == 0.0:\n",
    "        print(\"矩阵为奇异矩阵，不能求逆\")\n",
    "        return\n",
    "    # .I求逆矩阵\n",
    "    ws = (xTx.I) * (xMat.T) * yMat\n",
    "    return ws\n",
    "\n",
    "def plotDataSet(xArr, yArr,ws):\n",
    "    # xArr, yArr = loadDataSet('ex0.txt')\n",
    "    # ws = standRegres(xArr, yArr)\n",
    "    xMat = np.mat(xArr)\n",
    "    yMat = np.mat(yArr)\n",
    "    xCopy = xMat.copy()\n",
    "    # 排序\n",
    "    xCopy.sort(0)\n",
    "    yHat = xCopy * ws\n",
    "    # 以下两行是通过corrcoef函数比较预测值和真实值的相关性\n",
    "    # corrcoef函数得到相关系数矩阵\n",
    "    # 得到的结果中对角线上的数据是1.0，因为yMat和自己的匹配是完美的\n",
    "    # 而yHat1和yMat的相关系数为0.98\n",
    "    yHat1 = xMat * ws\n",
    "    print(np.corrcoef(yHat1.T, yMat))\n",
    "    fig = plt.figure()\n",
    "    ax = fig.add_subplot(111)\n",
    "    ax.plot(xCopy[:, 1], yHat, c='red')\n",
    "    # 绘制样本点即\n",
    "    # flatten返回一个折叠成一维的数组。但是该函数只能适用于numpy对象，即array或者mat，普通的list列表是不行的\n",
    "    # 矩阵.A(等效于矩阵.getA())变成了数组\n",
    "    ax.scatter(xMat[:, 1].flatten().A[0], yMat.flatten().A[0], s=20, c='blue', alpha=.5)\n",
    "    plt.title('DataSet')\n",
    "    plt.xlabel('X')\n",
    "    plt.show()\n",
    "    \n",
    "if __name__ == '__main__':\n",
    "    plotDataSet()"
   ]
  },
  {
   "cell_type": "markdown",
   "metadata": {},
   "source": [
    "## 用梯度下降求w"
   ]
  },
  {
   "cell_type": "code",
   "execution_count": 21,
   "metadata": {
    "ExecuteTime": {
     "end_time": "2020-10-02T07:11:08.514170Z",
     "start_time": "2020-10-02T07:11:08.495956Z"
    }
   },
   "outputs": [
    {
     "ename": "SyntaxError",
     "evalue": "invalid syntax (<ipython-input-21-91c75ce414dd>, line 5)",
     "output_type": "error",
     "traceback": [
      "\u001b[1;36m  File \u001b[1;32m\"<ipython-input-21-91c75ce414dd>\"\u001b[1;36m, line \u001b[1;32m5\u001b[0m\n\u001b[1;33m    w = np.ones(np.shape(dataX)[1],1))\u001b[0m\n\u001b[1;37m                                     ^\u001b[0m\n\u001b[1;31mSyntaxError\u001b[0m\u001b[1;31m:\u001b[0m invalid syntax\n"
     ]
    }
   ],
   "source": [
    "def desent_regress(dataX,dataY):\n",
    "    \n",
    "    dataX = np.mat(dataX)\n",
    "    dataY = np.mat(dataY).T\n",
    "    w = np.ones(np.shape(dataX)[1],1))\n",
    "    alpha = 0.001\n",
    "    for k in range(500):\n",
    "        grad = -2*dataX.T * dataY + 2*dataX.T*dataX*w\n",
    "        w = w-grad\n",
    "    return w"
   ]
  },
  {
   "cell_type": "raw",
   "metadata": {},
   "source": [
    "w2 = desent_regres(dataX,dataY)\n",
    "plotDataSet(dataX,dataY,w2)"
   ]
  },
  {
   "cell_type": "code",
   "execution_count": 23,
   "metadata": {
    "ExecuteTime": {
     "end_time": "2020-10-02T07:24:05.281991Z",
     "start_time": "2020-10-02T07:24:05.265964Z"
    }
   },
   "outputs": [],
   "source": [
    "def regularsize(dataX,dataY):\n",
    "    normal = dataX.copy()\n",
    "    stu = np.std(dataX[:,1],0)\n",
    "    normX = (dataX - np.mean(dataX[:,1],0))/std\n",
    "    return normX\n",
    "\n",
    "def redge_regress(normX,dataY,law=0.2):\n",
    "    normX = np.mat(normX)\n",
    "    dataY = np.mat(dataY).T\n",
    "    xTx = normX.T * normX\n",
    "    xTx = xTx*np.eye(np.shape(normX)[1])*law\n",
    "    if np.linalg.det(xTx)==0:\n",
    "        print(\"奇异矩阵，不能求逆矩阵\")\n",
    "        return 0\n",
    "    w = xTx.T * normal * dataY\n",
    "    return w"
   ]
  },
  {
   "cell_type": "code",
   "execution_count": null,
   "metadata": {},
   "outputs": [],
   "source": [
    "normX = regularsize(dataX)\n",
    "w3 = redge_regress(normX,dataY,law=0.2)\n",
    "print(w3)\n"
   ]
  },
  {
   "cell_type": "code",
   "execution_count": null,
   "metadata": {},
   "outputs": [],
   "source": []
  },
  {
   "cell_type": "code",
   "execution_count": 24,
   "metadata": {
    "ExecuteTime": {
     "end_time": "2020-10-02T07:27:57.376015Z",
     "start_time": "2020-10-02T07:27:57.369363Z"
    }
   },
   "outputs": [],
   "source": [
    "import matplotlib.pyplot as plt\n",
    "import numpy as np"
   ]
  },
  {
   "cell_type": "code",
   "execution_count": 25,
   "metadata": {
    "ExecuteTime": {
     "end_time": "2020-10-02T07:46:29.812692Z",
     "start_time": "2020-10-02T07:46:29.796069Z"
    }
   },
   "outputs": [],
   "source": [
    "def loadDataSet(fileName):\n",
    "    # 计算特征数\n",
    "    numFeat = len(open(fileName).readline().split('\\t'))-1\n",
    "    xArr = []\n",
    "    yArr = []\n",
    "    fr = open(filename)\n",
    "    for line in fr.readlines():\n",
    "        lineArr = []\n",
    "        curLine = line.strip().split('\\t')\n",
    "        for i in range(numFeat):\n",
    "            lineArr.append(float(curLine[i]))\n",
    "        xArr.append(lineArr)\n",
    "        yArr.append(float(curLine[-1]))\n",
    "    return xArr,yArr"
   ]
  },
  {
   "cell_type": "code",
   "execution_count": null,
   "metadata": {},
   "outputs": [],
   "source": [
    "w = ( x.T  * x ) **(-1) *  x.T  *  y"
   ]
  },
  {
   "cell_type": "code",
   "execution_count": 27,
   "metadata": {
    "ExecuteTime": {
     "end_time": "2020-10-02T07:54:03.499847Z",
     "start_time": "2020-10-02T07:54:03.491662Z"
    }
   },
   "outputs": [],
   "source": [
    "# 计算回归系数w\n",
    "def standRegres(xArr,yArr):\n",
    "    xMat = np.mat(xArr)\n",
    "    yMat = np.mat(yArr)\n",
    "    xtx = xMat.T*xMat\n",
    "    # 求矩阵的行列式\n",
    "    if np.linalg.det(xtx) == 0.0:\n",
    "        print(\"矩阵为奇异矩阵，不能求逆矩阵\")\n",
    "        return\n",
    "    \n",
    "    # 求w\n",
    "    ws = (xtx.I)*(x.T)*yMat\n",
    "    return ws\n",
    "    "
   ]
  },
  {
   "cell_type": "code",
   "execution_count": null,
   "metadata": {},
   "outputs": [],
   "source": [
    "# 绘制数据集\n",
    "def plotDataSet(xArr,yArr,w):\n",
    "    xMat = np.mat(xArr)\n",
    "    yMat = np.mat(yArr)\n",
    "    xCopy = xMat.copy()\n",
    "    \n",
    "    # 对数据进行排序\n",
    "    xCopy.sort(0)\n",
    "    yHat = xCopy * ws\n",
    "    yHat1 = xMat * ws\n",
    "    # 打印正确率\n",
    "    print(np.corrcoef(yHat1.T, yMat))\n",
    "    # 画图\n",
    "    fig = plt.figure()\n",
    "    ax = fig.add_subplot(111)\n",
    "    ax.plot(xCopy[:, 1], yHat, c='red')\n",
    "    \n",
    "    ax.scatter(xMat[:, 1].flatten().A[0], yMat.flatten().A[0], s=20, c='blue', alpha=.5)\n",
    "    plt.title('DataSet')\n",
    "    plt.xlabel('X')\n",
    "    plt.show()\n",
    "    \n",
    "    "
   ]
  }
 ],
 "metadata": {
  "kernelspec": {
   "display_name": "Python 3",
   "language": "python",
   "name": "python3"
  },
  "language_info": {
   "codemirror_mode": {
    "name": "ipython",
    "version": 3
   },
   "file_extension": ".py",
   "mimetype": "text/x-python",
   "name": "python",
   "nbconvert_exporter": "python",
   "pygments_lexer": "ipython3",
   "version": "3.7.4"
  },
  "toc": {
   "base_numbering": 1,
   "nav_menu": {},
   "number_sections": true,
   "sideBar": true,
   "skip_h1_title": false,
   "title_cell": "Table of Contents",
   "title_sidebar": "Contents",
   "toc_cell": false,
   "toc_position": {},
   "toc_section_display": true,
   "toc_window_display": false
  }
 },
 "nbformat": 4,
 "nbformat_minor": 2
}
