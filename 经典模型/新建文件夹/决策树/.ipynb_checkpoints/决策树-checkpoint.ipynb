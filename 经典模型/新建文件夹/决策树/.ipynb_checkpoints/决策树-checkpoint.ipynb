{
 "cells": [
  {
   "cell_type": "code",
   "execution_count": 5,
   "metadata": {
    "ExecuteTime": {
     "end_time": "2020-09-25T12:10:47.309317Z",
     "start_time": "2020-09-25T12:10:47.303333Z"
    }
   },
   "outputs": [],
   "source": [
    "from math import log\n",
    "\n",
    "# 计算给定数据集的熵\n",
    "\n",
    "def calc_shannon_ent(data_set):\n",
    "    num_entries = len(data_set)  # 样本总个数\n",
    "    label_counts = {}    # 标签的数量\n",
    "    for feat_vec in data_set:\n",
    "        current_label = feat_vec[-1]  # 该样本所属的类别\n",
    "        if current_label not in label_counts.keys():\n",
    "            label_counts[current_label]=0\n",
    "        label_counts[current_label]+=1\n",
    "        shannon_ent = 0.0 # 记录数据集的经验熵yan\n",
    "        for key in label_counts:\n",
    "            # 每个类别 |Ck/D|log2 |Ck/D|\n",
    "            prob = float(label_counts[key])/num_entries\n",
    "            shannon_ent -= prob*log(prob,2)\n",
    "    return shannon_ent"
   ]
  },
  {
   "cell_type": "code",
   "execution_count": 6,
   "metadata": {
    "ExecuteTime": {
     "end_time": "2020-09-25T12:10:49.166780Z",
     "start_time": "2020-09-25T12:10:49.147834Z"
    }
   },
   "outputs": [
    {
     "data": {
      "text/plain": [
       "0.9709505944546686"
      ]
     },
     "execution_count": 6,
     "metadata": {},
     "output_type": "execute_result"
    }
   ],
   "source": [
    "dataset = [[0, 0, 0, 0, 'no'],\n",
    "         [0, 0, 0, 1, 'no'],\n",
    "         [0, 1, 0, 1, 'yes'],\n",
    "         [0, 1, 1, 0, 'yes'],\n",
    "         [0, 0, 0, 0, 'no'],\n",
    "         [1, 0, 0, 0, 'no'],\n",
    "         [1, 0, 0, 1, 'no'],\n",
    "         [1, 1, 1, 1, 'yes'],\n",
    "         [1, 0, 1, 2, 'yes'],\n",
    "         [1, 0, 1, 2, 'yes'],\n",
    "         [2, 0, 1, 2, 'yes'],\n",
    "         [2, 0, 1, 1, 'yes'],\n",
    "         [2, 1, 0, 1, 'yes'],\n",
    "         [2, 1, 0, 2, 'yes'],\n",
    "         [2, 0, 0, 0, 'no']]\n",
    "\n",
    "calc_shannon_ent(dataset)"
   ]
  },
  {
   "cell_type": "code",
   "execution_count": 7,
   "metadata": {
    "ExecuteTime": {
     "end_time": "2020-09-25T12:22:01.280155Z",
     "start_time": "2020-09-25T12:22:01.275131Z"
    }
   },
   "outputs": [],
   "source": [
    "# 按照给定的特征划分数据集\n",
    "\n",
    "# axis 代表特征所在的行  value 代表特征的值\n",
    "def split_dataSet(dataset,axis,value):\n",
    "    ret_dataSet = []\n",
    "    for feat_vec in dataset:\n",
    "        if feat_vec[axis]==value:\n",
    "            # 删去给定的特征\n",
    "            reduced_feat_vec = feat_vec[:axis]\n",
    "            reduced_feat_vec.extend(feat_vec[axis+1:])\n",
    "            ret_dataSet.append(reduced_feat_vec)\n",
    "    return ret_dataSet"
   ]
  },
  {
   "cell_type": "code",
   "execution_count": null,
   "metadata": {},
   "outputs": [],
   "source": [
    "# 选择出信息增益最大的特征，来进行数据集的划分\n",
    "\n",
    "def choose_best_feature_to_split(dataSet):\n",
    "    # 一个样本特征的数量\n",
    "    numFeatures = len(dataset[0])-1\n",
    "    # 计算出数据的经验熵\n",
    "    base_entropy = calc_shannon_ent(dataset)\n",
    "    # 初始化两个变量用来记录 信息增益最大值 和  表现最好的特征\n",
    "    best_info_gain = 0.0\n",
    "    best_feature = -1\n",
    "    \n",
    "    for i in range(numFeatures):\n",
    "        # 记录该特征的所有值\n",
    "        feat_list = [example[i] for example in dataSet]\n",
    "        # 将该特征值划分类别\n",
    "        unique_vals = set(feat_list)\n",
    "        # \n",
    "        new_entropy = 0.0\n",
    "        # 依次求出信息增益\n",
    "        for value in unique_vals:\n",
    "            sub_data_set = split_dataSet(dataset,i,value)\n",
    "            prob = len(sub_data_set)/float(len(dataSet))\n",
    "            new_entropy += prob*calc_shannon_ent(sub_data_set)\n",
    "        info_gain = base_entropy-new_entropy\n",
    "        if (info_gain>best_info_gain):\n",
    "            best_info_gain = info_gain\n",
    "            best_feature = i\n",
    "    return best_feature"
   ]
  },
  {
   "cell_type": "code",
   "execution_count": null,
   "metadata": {},
   "outputs": [],
   "source": []
  },
  {
   "cell_type": "code",
   "execution_count": null,
   "metadata": {},
   "outputs": [],
   "source": []
  },
  {
   "cell_type": "code",
   "execution_count": null,
   "metadata": {},
   "outputs": [],
   "source": []
  }
 ],
 "metadata": {
  "kernelspec": {
   "display_name": "Python 3",
   "language": "python",
   "name": "python3"
  },
  "language_info": {
   "codemirror_mode": {
    "name": "ipython",
    "version": 3
   },
   "file_extension": ".py",
   "mimetype": "text/x-python",
   "name": "python",
   "nbconvert_exporter": "python",
   "pygments_lexer": "ipython3",
   "version": "3.7.4"
  },
  "toc": {
   "base_numbering": 1,
   "nav_menu": {},
   "number_sections": true,
   "sideBar": true,
   "skip_h1_title": false,
   "title_cell": "Table of Contents",
   "title_sidebar": "Contents",
   "toc_cell": false,
   "toc_position": {},
   "toc_section_display": true,
   "toc_window_display": false
  }
 },
 "nbformat": 4,
 "nbformat_minor": 2
}
