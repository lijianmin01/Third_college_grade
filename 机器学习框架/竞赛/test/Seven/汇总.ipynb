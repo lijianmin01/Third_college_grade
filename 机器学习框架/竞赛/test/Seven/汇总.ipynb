{
 "cells": [
  {
   "cell_type": "code",
   "execution_count": 1,
   "metadata": {
    "ExecuteTime": {
     "end_time": "2020-10-02T08:51:11.977812Z",
     "start_time": "2020-10-02T08:51:10.876857Z"
    }
   },
   "outputs": [],
   "source": [
    "# 导入相关的库\n",
    "import re\n",
    "import numpy as np\n",
    "import pandas as pd\n",
    "import matplotlib.pyplot as plt\n",
    "import seaborn as sns\n",
    "\n",
    "import warnings\n",
    "warnings.filterwarnings('ignore')\n",
    "\n",
    "train_csv=pd.read_csv(\"train.csv\")\n",
    "test_csv=pd.read_csv(\"test.csv\")"
   ]
  },
  {
   "cell_type": "code",
   "execution_count": 6,
   "metadata": {
    "ExecuteTime": {
     "end_time": "2020-10-02T08:41:31.466131Z",
     "start_time": "2020-10-02T08:41:31.456158Z"
    }
   },
   "outputs": [
    {
     "name": "stdout",
     "output_type": "stream",
     "text": [
      "<class 'pandas.core.frame.DataFrame'>\n",
      "RangeIndex: 891 entries, 0 to 890\n",
      "Data columns (total 12 columns):\n",
      "PassengerId    891 non-null int64\n",
      "Survived       891 non-null int64\n",
      "Pclass         891 non-null int64\n",
      "Name           891 non-null object\n",
      "Sex            891 non-null object\n",
      "Age            714 non-null float64\n",
      "SibSp          891 non-null int64\n",
      "Parch          891 non-null int64\n",
      "Ticket         891 non-null object\n",
      "Fare           891 non-null float64\n",
      "Cabin          204 non-null object\n",
      "Embarked       889 non-null object\n",
      "dtypes: float64(2), int64(5), object(5)\n",
      "memory usage: 83.7+ KB\n"
     ]
    }
   ],
   "source": [
    "train_csv.info()"
   ]
  },
  {
   "cell_type": "code",
   "execution_count": 7,
   "metadata": {
    "ExecuteTime": {
     "end_time": "2020-10-02T08:41:31.478098Z",
     "start_time": "2020-10-02T08:41:31.469123Z"
    }
   },
   "outputs": [
    {
     "name": "stdout",
     "output_type": "stream",
     "text": [
      "<class 'pandas.core.frame.DataFrame'>\n",
      "RangeIndex: 418 entries, 0 to 417\n",
      "Data columns (total 11 columns):\n",
      "PassengerId    418 non-null int64\n",
      "Pclass         418 non-null int64\n",
      "Name           418 non-null object\n",
      "Sex            418 non-null object\n",
      "Age            332 non-null float64\n",
      "SibSp          418 non-null int64\n",
      "Parch          418 non-null int64\n",
      "Ticket         418 non-null object\n",
      "Fare           417 non-null float64\n",
      "Cabin          91 non-null object\n",
      "Embarked       418 non-null object\n",
      "dtypes: float64(2), int64(4), object(5)\n",
      "memory usage: 36.0+ KB\n"
     ]
    }
   ],
   "source": [
    "test_csv.info()"
   ]
  },
  {
   "cell_type": "code",
   "execution_count": null,
   "metadata": {
    "ExecuteTime": {
     "end_time": "2020-10-02T08:41:05.632953Z",
     "start_time": "2020-10-02T08:41:05.524212Z"
    }
   },
   "outputs": [],
   "source": []
  },
  {
   "cell_type": "code",
   "execution_count": 2,
   "metadata": {
    "ExecuteTime": {
     "end_time": "2020-10-02T08:51:18.717758Z",
     "start_time": "2020-10-02T08:51:16.362271Z"
    }
   },
   "outputs": [],
   "source": [
    "from sklearn.ensemble import RandomForestRegressor\n",
    "\n",
    "def set_missing_ages(df):\n",
    "    # 把已有数值特征取出来丢进Random Forest Regressor（随机森林回归）中\n",
    "    age_df = df[['Age','Fare', 'Parch', 'SibSp', 'Pclass']]\n",
    "    # 乘客分成一直年龄和未知年龄两部分\n",
    "    know_age = age_df[age_df.Age.notnull()].values\n",
    "    unknow_age = age_df[age_df.Age.isnull()].values\n",
    "    \n",
    "    # y即目标年龄\n",
    "    y = know_age[:,0]\n",
    "    # x即特征属性值\n",
    "    x = know_age[:,1:]\n",
    "    # fit到RandomForestRegressor之中\n",
    "    # 构建随机森林模型\n",
    "    rfr = RandomForestRegressor(random_state=0,n_estimators=2000,n_jobs=-1)\n",
    "    rfr.fit(x,y)\n",
    "    # 用得到的模型进行未知年龄结果预测\n",
    "    predictedAges = rfr.predict(unknow_age[:,1:])\n",
    "    #print(\"predictedAges\",predictedAges)\n",
    "    # 用得到的预测结果填补原缺失数据\n",
    "    for i in range(len(predictedAges)):\n",
    "        predictedAges[i] = int(predictedAges[i])\n",
    "    df.loc[(df.Age.isnull()),'Age'] = predictedAges\n",
    "    return df,rfr\n",
    "\n",
    "# 建立一个函数，将有无Cabin'处理数据\n",
    "def set_Cabin_type(df):\n",
    "    df.loc[(df.Cabin.notnull()),'Cabin']=\"Yes\"\n",
    "    df.loc[(df.Cabin.isnull()),'Cabin']=\"No\"\n",
    "    return df\n",
    "\n",
    "train=pd.read_csv('train.csv')\n",
    "train,rfr = set_missing_ages(train)\n",
    "train = set_Cabin_type(train)"
   ]
  },
  {
   "cell_type": "code",
   "execution_count": 3,
   "metadata": {
    "ExecuteTime": {
     "end_time": "2020-10-02T08:51:22.575865Z",
     "start_time": "2020-10-02T08:51:21.643160Z"
    }
   },
   "outputs": [
    {
     "data": {
      "text/plain": [
       "<matplotlib.axes._subplots.AxesSubplot at 0x2b29f298808>"
      ]
     },
     "execution_count": 3,
     "metadata": {},
     "output_type": "execute_result"
    },
    {
     "data": {
      "image/png": "[encoded data removed]",
      "text/plain": [
       "<Figure size 1296x288 with 1 Axes>"
      ]
     },
     "metadata": {
      "needs_background": "light"
     },
     "output_type": "display_data"
    }
   ],
   "source": [
    "# 不同年龄下的平均生存率\n",
    "fig,axis1 = plt.subplots(1,1,figsize=(18,4))\n",
    "train[\"Age_int\"]=train[\"Age\"].astype(int)\n",
    "average_age = train[[\"Age_int\",\"Survived\"]].groupby([\"Age_int\"],as_index=False).mean()\n",
    "sns.barplot(x='Age_int',y='Survived',data=average_age)\n"
   ]
  },
  {
   "cell_type": "code",
   "execution_count": 4,
   "metadata": {
    "ExecuteTime": {
     "end_time": "2020-10-02T08:51:26.009106Z",
     "start_time": "2020-10-02T08:51:26.004145Z"
    }
   },
   "outputs": [],
   "source": [
    "#年龄特征分类\n",
    "train['Age']=train['Age'].map(lambda x: 'child' if x<10 else 'youth' if x<18 else 'youth' if x<30 else 'adlut' if x<46 else 'adlut' if x<60 else 'old' if x<75 else 'tooold' if x>=75 else 'null')\n"
   ]
  },
  {
   "cell_type": "code",
   "execution_count": 5,
   "metadata": {
    "ExecuteTime": {
     "end_time": "2020-10-02T08:51:27.788243Z",
     "start_time": "2020-10-02T08:51:27.582527Z"
    }
   },
   "outputs": [
    {
     "data": {
      "image/png": "[encoded data removed]",
      "text/plain": [
       "<Figure size 432x288 with 1 Axes>"
      ]
     },
     "metadata": {
      "needs_background": "light"
     },
     "output_type": "display_data"
    }
   ],
   "source": [
    "# 看亲友的数量与存活率之间的关系\n",
    "train['Family_Size'] = train['Parch'] + train['SibSp'] + 1\n",
    "train[['Family_Size','Survived']].groupby(['Family_Size']).mean().plot.bar()\n",
    "train['Family_Size'] = train['Family_Size'].map(lambda x:'small' if x<2 else 'mid' if x<5 else 'big' if x<8 else 'bigger' if x>=8 else 'null')\n"
   ]
  },
  {
   "cell_type": "code",
   "execution_count": 6,
   "metadata": {
    "ExecuteTime": {
     "end_time": "2020-10-02T08:51:34.311342Z",
     "start_time": "2020-10-02T08:51:34.304359Z"
    }
   },
   "outputs": [],
   "source": [
    "# 将兄弟姐妹和配偶的数量特征分类\n",
    "train['SibSp']=train['SibSp'].map(lambda x: 'small' if x<1 else 'middle' if x<3 else 'large')\n",
    "\n",
    "# 将有无小孩父母特征分类\n",
    "train['Parch']=train['Parch'].map(lambda x: 'small' if x<1 else 'middle' if x<4 else 'large')\n"
   ]
  },
  {
   "cell_type": "code",
   "execution_count": 7,
   "metadata": {
    "ExecuteTime": {
     "end_time": "2020-10-02T08:51:36.047779Z",
     "start_time": "2020-10-02T08:51:36.040772Z"
    }
   },
   "outputs": [],
   "source": [
    "# 将船费特征分类\n",
    "train['Fare']=train['Fare'].map(lambda x: 'poor' if x<2.5 else 'rich')\n"
   ]
  },
  {
   "cell_type": "code",
   "execution_count": 8,
   "metadata": {
    "ExecuteTime": {
     "end_time": "2020-10-02T08:51:38.023812Z",
     "start_time": "2020-10-02T08:51:38.018827Z"
    }
   },
   "outputs": [],
   "source": [
    "#有编号的的为yes,没有的为no\n",
    "train['Cabin']=train['Cabin'].map(lambda x:'yes' if type(x)==str else 'no')"
   ]
  },
  {
   "cell_type": "code",
   "execution_count": 9,
   "metadata": {
    "ExecuteTime": {
     "end_time": "2020-10-02T08:51:39.673147Z",
     "start_time": "2020-10-02T08:51:39.667163Z"
    }
   },
   "outputs": [],
   "source": [
    "# 对于名字提取名称呼\n",
    "train['Title'] = train['Name'].map(lambda x: re.compile(\", (.*?)\\.\").findall(x)[0])\n"
   ]
  },
  {
   "cell_type": "code",
   "execution_count": 10,
   "metadata": {
    "ExecuteTime": {
     "end_time": "2020-10-02T08:51:41.536235Z",
     "start_time": "2020-10-02T08:51:41.528254Z"
    }
   },
   "outputs": [],
   "source": [
    "# 将各式称呼进行统一化处理：\n",
    "\n",
    "title_Dict = {}\n",
    "title_Dict.update(dict.fromkeys(['Capt', 'Col', 'Major', 'Dr', 'Rev'], 'Officer'))\n",
    "title_Dict.update(dict.fromkeys(['Don', 'Sir', 'the Countess', 'Dona', 'Lady'], 'Royalty'))\n",
    "title_Dict.update(dict.fromkeys(['Mme', 'Ms', 'Mrs'], 'Mrs'))\n",
    "title_Dict.update(dict.fromkeys(['Mlle', 'Miss'], 'Miss'))\n",
    "title_Dict.update(dict.fromkeys(['Mr'], 'Mr'))\n",
    "title_Dict.update(dict.fromkeys(['Master','Jonkheer'], 'Master'))\n",
    "\n",
    "train['Title'] = train['Title'].map(title_Dict)"
   ]
  },
  {
   "cell_type": "code",
   "execution_count": 17,
   "metadata": {
    "ExecuteTime": {
     "end_time": "2020-10-02T08:41:36.407799Z",
     "start_time": "2020-10-02T08:41:36.398822Z"
    }
   },
   "outputs": [],
   "source": [
    "# 导出处理好的数据\n",
    "#train.to_csv(\"deal_with_train.csv\")"
   ]
  },
  {
   "cell_type": "code",
   "execution_count": 11,
   "metadata": {
    "ExecuteTime": {
     "end_time": "2020-10-02T08:51:43.589525Z",
     "start_time": "2020-10-02T08:51:43.583540Z"
    }
   },
   "outputs": [],
   "source": [
    "#将训练数据分成标记和特征两部分\n",
    "labels= train['Survived']\n",
    "# 删掉不需要的数据\n",
    "features= train.drop(['Survived','PassengerId','Name','Ticket','Age_int'],axis=1)"
   ]
  },
  {
   "cell_type": "code",
   "execution_count": 12,
   "metadata": {
    "ExecuteTime": {
     "end_time": "2020-10-02T08:51:45.934495Z",
     "start_time": "2020-10-02T08:51:45.910563Z"
    }
   },
   "outputs": [
    {
     "name": "stdout",
     "output_type": "stream",
     "text": [
      "30 total features after one-hot encoding.\n"
     ]
    }
   ],
   "source": [
    "#对所有特征实现独热编码\n",
    "features = pd.get_dummies(features)\n",
    "encoded = list(features.columns)\n",
    "print (\"{} total features after one-hot encoding.\".format(len(encoded)))"
   ]
  },
  {
   "cell_type": "markdown",
   "metadata": {},
   "source": [
    "## 处理测试数据"
   ]
  },
  {
   "cell_type": "code",
   "execution_count": 13,
   "metadata": {
    "ExecuteTime": {
     "end_time": "2020-10-02T08:51:49.428261Z",
     "start_time": "2020-10-02T08:51:49.173527Z"
    }
   },
   "outputs": [],
   "source": [
    "# 好了，现在训练集的数据已经整理好了，我们现在同法处理测试集的数据：\n",
    "# 重写补全age\n",
    "test=pd.read_csv('test.csv')\n",
    "def set_missing_ages_test(df,rfr):\n",
    "    # 把已有数值特征取出来丢进Random Forest Regressor（随机森林回归）中\n",
    "    age_df = df[['Age','Fare', 'Parch', 'SibSp', 'Pclass']]\n",
    "    # 乘客分成一直年龄和未知年龄两部分\n",
    "    know_age = age_df[age_df.Age.notnull()].values\n",
    "    unknow_age = age_df[age_df.Age.isnull()].values\n",
    "    # 用得到的模型进行未知年龄结果预测\n",
    "    predictedAges = rfr.predict(unknow_age[:,1:])\n",
    "    #print(\"predictedAges\",predictedAges)\n",
    "    # 用得到的预测结果填补原缺失数据\n",
    "    df.loc[(df.Age.isnull()),'Age'] = predictedAges\n",
    "    return df\n",
    "test = set_missing_ages_test(test,rfr)"
   ]
  },
  {
   "cell_type": "code",
   "execution_count": 14,
   "metadata": {
    "ExecuteTime": {
     "end_time": "2020-10-02T08:51:51.119119Z",
     "start_time": "2020-10-02T08:51:51.098199Z"
    }
   },
   "outputs": [],
   "source": [
    "test = set_Cabin_type(test)\n",
    "#年龄特征分类\n",
    "test['Age']=test['Age'].map(lambda x: 'child' if x<10 else 'youth' if x<18 else 'youth' if x<30 else 'adlut' if x<46 else 'adlut' if x<60 else 'old' if x<75 else 'tooold' if x>=75 else 'null')\n",
    "# 看亲友的数量与存活率之间的关系\n",
    "test['Family_Size'] = test['Parch'] + test['SibSp'] + 1\n",
    "#test[['Family_Size','Survived']].groupby(['Family_Size']).mean().plot.bar()\n",
    "test['Family_Size'] = test['Family_Size'].map(lambda x:'small' if x<2 else 'mid' if x<5 else 'big' if x<8 else 'bigger' if x>=8 else 'null')\n",
    "\n",
    "# 将兄弟姐妹和配偶的数量特征分类\n",
    "test['SibSp']=test['SibSp'].map(lambda x: 'small' if x<1 else 'middle' if x<3 else 'large')\n",
    "\n",
    "# 将有无小孩父母特征分类\n",
    "test['Parch']=test['Parch'].map(lambda x: 'small' if x<1 else 'middle' if x<4 else 'large')\n",
    "# 将船费特征分类\n",
    "test['Fare']=test['Fare'].map(lambda x: 'poor' if x<2.5 else 'rich')\n",
    "#有编号的的为yes,没有的为no\n",
    "test['Cabin']=test['Cabin'].map(lambda x:'yes' if type(x)==str else 'no')\n",
    "# 对于名字提取名称呼\n",
    "test['Title'] = test['Name'].map(lambda x: re.compile(\", (.*?)\\.\").findall(x)[0])\n",
    "test['Title'] = test['Title'].map(title_Dict)\n"
   ]
  },
  {
   "cell_type": "code",
   "execution_count": 22,
   "metadata": {
    "ExecuteTime": {
     "end_time": "2020-10-02T08:41:36.805736Z",
     "start_time": "2020-10-02T08:41:36.798754Z"
    }
   },
   "outputs": [],
   "source": [
    "# 将test数据导出\n",
    "#test.to_csv('deal_with_test.csv')"
   ]
  },
  {
   "cell_type": "code",
   "execution_count": 15,
   "metadata": {
    "ExecuteTime": {
     "end_time": "2020-10-02T08:51:53.879472Z",
     "start_time": "2020-10-02T08:51:53.857506Z"
    }
   },
   "outputs": [
    {
     "name": "stdout",
     "output_type": "stream",
     "text": [
      "30 total features after one-hot encoding.\n"
     ]
    }
   ],
   "source": [
    "PassengerId=test['PassengerId']\n",
    "#删除不需要的特征并进行独热编码\n",
    "test=test.drop(['PassengerId','Name','Ticket'],axis=1)\n",
    "test=pd.get_dummies(test)\n",
    "encoded = list(test.columns)\n",
    "print (\"{} total features after one-hot encoding.\".format(len(encoded)))"
   ]
  },
  {
   "cell_type": "code",
   "execution_count": 16,
   "metadata": {
    "ExecuteTime": {
     "end_time": "2020-10-02T08:51:55.882389Z",
     "start_time": "2020-10-02T08:51:55.877403Z"
    }
   },
   "outputs": [],
   "source": [
    "# 导入相关的库\n",
    "#首先引入需要的库和函数\n",
    "from sklearn.model_selection import GridSearchCV\n",
    "from sklearn.metrics import make_scorer\n",
    "from sklearn.metrics import accuracy_score,roc_auc_score\n",
    "from time import time\n",
    "from sklearn.tree import DecisionTreeClassifier\n",
    "from sklearn.svm import SVC\n",
    "from sklearn.ensemble import RandomForestClassifier\n",
    "from sklearn.ensemble import AdaBoostClassifier\n",
    "from sklearn.neighbors import KNeighborsClassifier"
   ]
  },
  {
   "cell_type": "code",
   "execution_count": 17,
   "metadata": {
    "ExecuteTime": {
     "end_time": "2020-10-02T08:51:58.267636Z",
     "start_time": "2020-10-02T08:51:58.250681Z"
    }
   },
   "outputs": [
    {
     "name": "stdout",
     "output_type": "stream",
     "text": [
      "     Pclass  Sex_female  Sex_male  Age_adlut  Age_child  Age_old  Age_tooold  \\\n",
      "0         3           0         1          0          0        0           0   \n",
      "1         1           1         0          1          0        0           0   \n",
      "2         3           1         0          0          0        0           0   \n",
      "3         1           1         0          1          0        0           0   \n",
      "4         3           0         1          1          0        0           0   \n",
      "..      ...         ...       ...        ...        ...      ...         ...   \n",
      "886       2           0         1          0          0        0           0   \n",
      "887       1           1         0          0          0        0           0   \n",
      "888       3           1         0          0          0        0           0   \n",
      "889       1           0         1          0          0        0           0   \n",
      "890       3           0         1          1          0        0           0   \n",
      "\n",
      "     Age_youth  SibSp_large  SibSp_middle  ...  Family_Size_big  \\\n",
      "0            1            0             1  ...                0   \n",
      "1            0            0             1  ...                0   \n",
      "2            1            0             0  ...                0   \n",
      "3            0            0             1  ...                0   \n",
      "4            0            0             0  ...                0   \n",
      "..         ...          ...           ...  ...              ...   \n",
      "886          1            0             0  ...                0   \n",
      "887          1            0             0  ...                0   \n",
      "888          1            0             1  ...                0   \n",
      "889          1            0             0  ...                0   \n",
      "890          0            0             0  ...                0   \n",
      "\n",
      "     Family_Size_bigger  Family_Size_mid  Family_Size_small  Title_Master  \\\n",
      "0                     0                1                  0             0   \n",
      "1                     0                1                  0             0   \n",
      "2                     0                0                  1             0   \n",
      "3                     0                1                  0             0   \n",
      "4                     0                0                  1             0   \n",
      "..                  ...              ...                ...           ...   \n",
      "886                   0                0                  1             0   \n",
      "887                   0                0                  1             0   \n",
      "888                   0                1                  0             0   \n",
      "889                   0                0                  1             0   \n",
      "890                   0                0                  1             0   \n",
      "\n",
      "     Title_Miss  Title_Mr  Title_Mrs  Title_Officer  Title_Royalty  \n",
      "0             0         1          0              0              0  \n",
      "1             0         0          1              0              0  \n",
      "2             1         0          0              0              0  \n",
      "3             0         0          1              0              0  \n",
      "4             0         1          0              0              0  \n",
      "..          ...       ...        ...            ...            ...  \n",
      "886           0         0          0              1              0  \n",
      "887           1         0          0              0              0  \n",
      "888           1         0          0              0              0  \n",
      "889           0         1          0              0              0  \n",
      "890           0         1          0              0              0  \n",
      "\n",
      "[891 rows x 30 columns]\n",
      "0      0\n",
      "1      1\n",
      "2      1\n",
      "3      1\n",
      "4      0\n",
      "      ..\n",
      "886    0\n",
      "887    1\n",
      "888    0\n",
      "889    1\n",
      "890    0\n",
      "Name: Survived, Length: 891, dtype: int64\n"
     ]
    }
   ],
   "source": [
    "print(features)\n",
    "print(labels)"
   ]
  },
  {
   "cell_type": "code",
   "execution_count": 25,
   "metadata": {
    "ExecuteTime": {
     "end_time": "2020-10-02T08:41:36.852609Z",
     "start_time": "2020-10-02T08:41:36.843634Z"
    }
   },
   "outputs": [],
   "source": [
    "# 定义通用函数框架(通过训练数据，得到模型)\n",
    "def fit_model(alg,parameters):\n",
    "    x = features\n",
    "    y = labels # 由于数据较少，使用全部数据进行网格搜索\n",
    "    scorer=make_scorer(roc_auc_score)  #使用roc_auc_score作为评分标准\n",
    "    grid = GridSearchCV(alg,parameters,scoring=scorer,cv=5)##使用网格搜索，出入参数\n",
    "    start = time() # 计时\n",
    "    grid = grid.fit(x,y) # 模型训练\n",
    "    end = time() \n",
    "    t = round(end-start,3)\n",
    "    print (grid.best_params_)  #输出最佳参数\n",
    "    print ('searching time for {} is {} s'.format(alg.__class__.__name__,t)) #输出搜索时间\n",
    "    return grid #返回训练好的模型"
   ]
  },
  {
   "cell_type": "code",
   "execution_count": null,
   "metadata": {},
   "outputs": [],
   "source": []
  },
  {
   "cell_type": "code",
   "execution_count": 26,
   "metadata": {
    "ExecuteTime": {
     "end_time": "2020-10-02T08:41:36.862615Z",
     "start_time": "2020-10-02T08:41:36.854604Z"
    }
   },
   "outputs": [],
   "source": [
    "# 定义初始化函数\n",
    "## 列出需要使用的算法\n",
    "#列出需要使用的算法\n",
    "alg1=DecisionTreeClassifier(random_state=29)\n",
    "alg2=SVC(probability=True,random_state=29)  #由于使用roc_auc_score作为评分标准，需将SVC中的probability参数设置为True\n",
    "alg3=RandomForestClassifier(random_state=29)\n",
    "alg4=AdaBoostClassifier(random_state=29)\n",
    "alg5=KNeighborsClassifier(n_jobs=-1)\n",
    "#alg6=XGBClassifier(random_state=29,n_jobs=-1)"
   ]
  },
  {
   "cell_type": "code",
   "execution_count": 27,
   "metadata": {
    "ExecuteTime": {
     "end_time": "2020-10-02T08:41:36.879541Z",
     "start_time": "2020-10-02T08:41:36.866572Z"
    }
   },
   "outputs": [],
   "source": [
    "# 然后列出我们需要调整的参数及取值范围，这是一个很繁琐的工作，需要大量的尝试和优化。（以下参数范围并非最优，大家可以继续探索）\n",
    "#列出需要调整的参数范围\n",
    "parameters1={'max_depth':range(1,10),'min_samples_split':range(2,10)}\n",
    "parameters2 = {\"C\":range(1,20), \"gamma\": [0.05,0.1,0.15,0.2,0.25]}\n",
    "parameters3_1 = {'n_estimators':range(10,200,10)}\n",
    "parameters3_2 = {'max_depth':range(1,10),'min_samples_split':range(2,10)}  #搜索空间太大，分两次调整参数\n",
    "parameters4 = {'n_estimators':range(10,200,10),'learning_rate':[i/10.0 for i in range(5,15)]}\n",
    "parameters5 = {'n_neighbors':range(2,10),'leaf_size':range(10,80,20)  }\n",
    "parameters6_1 = {'n_estimators':range(10,200,10)}\n",
    "parameters6_2 = {'max_depth':range(1,10),'min_child_weight':range(1,10)}\n",
    "parameters6_3 = {'subsample':[i/10.0 for i in range(1,10)], 'colsample_bytree':[i/10.0 for i in range(1,10)]}#搜索空间太大，分三次调整参数\n"
   ]
  },
  {
   "cell_type": "code",
   "execution_count": null,
   "metadata": {
    "ExecuteTime": {
     "start_time": "2020-10-02T08:42:18.325Z"
    }
   },
   "outputs": [
    {
     "name": "stdout",
     "output_type": "stream",
     "text": [
      "{'max_depth': 4, 'min_samples_split': 2}\n",
      "searching time for DecisionTreeClassifier is 1.46 s\n",
      "{'C': 1, 'gamma': 0.15}\n",
      "searching time for SVC is 36.853 s\n",
      "{'n_estimators': 90}\n",
      "searching time for RandomForestClassifier is 9.282 s\n",
      "{'max_depth': 5, 'min_samples_split': 3}\n",
      "searching time for RandomForestClassifier is 52.668 s\n"
     ]
    }
   ],
   "source": [
    "# 1、DecisonTreeClassifier\n",
    "clf1 = fit_model(alg1,parameters1)\n",
    "\n",
    "# 2、SVM\n",
    "clf2 = fit_model(alg2,parameters2)\n",
    "\n",
    "# 3.RandomForest\n",
    "clf3_m1=fit_model(alg3,parameters3_1)\n",
    "\n",
    "# 3.1第二次调参\n",
    "alg3=RandomForestClassifier(random_state=29,n_estimators=180)\n",
    "clf3=fit_model(alg3,parameters3_2)\n",
    "\n",
    "clf4=fit_model(alg4,parameters4)\n",
    "\n",
    "# 5、KNN\n",
    "clf5=fit_model(alg5,parameters5)"
   ]
  },
  {
   "cell_type": "code",
   "execution_count": 29,
   "metadata": {
    "ExecuteTime": {
     "end_time": "2020-10-02T08:45:26.572289Z",
     "start_time": "2020-10-02T08:45:26.385675Z"
    }
   },
   "outputs": [],
   "source": [
    "#首先我们先定义一个保存函数，将预测的结果保存为可以提交的格式：\n",
    "def save(clf,i):\n",
    "    pred=clf.predict(test)\n",
    "    sub=pd.DataFrame({ 'PassengerId': PassengerId, 'Survived': pred })\n",
    "    sub.to_csv(\"res_tan_{}.csv\".format(i), index=False)\n",
    "\n",
    "# 调用这个函数，完成6个模型的预测：\n",
    "i=1\n",
    "for clf in [clf1,clf2,clf3,clf4,clf5]:\n",
    "    save(clf,i)\n",
    "    i=i+1"
   ]
  },
  {
   "cell_type": "code",
   "execution_count": null,
   "metadata": {},
   "outputs": [],
   "source": []
  }
 ],
 "metadata": {
  "kernelspec": {
   "display_name": "Python 3",
   "language": "python",
   "name": "python3"
  },
  "language_info": {
   "codemirror_mode": {
    "name": "ipython",
    "version": 3
   },
   "file_extension": ".py",
   "mimetype": "text/x-python",
   "name": "python",
   "nbconvert_exporter": "python",
   "pygments_lexer": "ipython3",
   "version": "3.7.4"
  },
  "toc": {
   "base_numbering": 1,
   "nav_menu": {},
   "number_sections": true,
   "sideBar": true,
   "skip_h1_title": false,
   "title_cell": "Table of Contents",
   "title_sidebar": "Contents",
   "toc_cell": false,
   "toc_position": {},
   "toc_section_display": true,
   "toc_window_display": false
  }
 },
 "nbformat": 4,
 "nbformat_minor": 2
}
