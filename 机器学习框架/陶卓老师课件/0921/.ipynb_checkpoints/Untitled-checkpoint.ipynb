{
 "cells": [
  {
   "cell_type": "markdown",
   "metadata": {},
   "source": [
    "## 思路\n",
    "\n",
    "* 创建K个点作为初始的质心点\n",
    "* 当任意一个簇结果发生改变的时候\n",
    "    * * 对数据集中的每一个数据点\n",
    "       * * 对每一个质心\n",
    "        * * 计算质心与数据点的距离\n",
    "       * * 将数据点分配到距离最近的簇中\n",
    "     * * 对每一个簇，计算簇中所有的均值，并将均值作为质心"
   ]
  },
  {
   "cell_type": "code",
   "execution_count": 57,
   "metadata": {
    "ExecuteTime": {
     "end_time": "2020-09-21T08:46:40.134650Z",
     "start_time": "2020-09-21T08:46:40.109683Z"
    }
   },
   "outputs": [
    {
     "name": "stdout",
     "output_type": "stream",
     "text": [
      "[[     nan      nan]\n",
      " [     nan      nan]\n",
      " [     nan      nan]\n",
      " [     nan      nan]\n",
      " [1.658985 4.285136]]\n"
     ]
    },
    {
     "data": {
      "text/plain": [
       "(array([[     nan,      nan],\n",
       "        [     nan,      nan],\n",
       "        [     nan,      nan],\n",
       "        [     nan,      nan],\n",
       "        [1.658985, 4.285136]]), array([[2.        , 2.75209988],\n",
       "        [0.        , 0.        ],\n",
       "        [3.        , 3.09090152],\n",
       "        [4.        , 2.48591107],\n",
       "        [1.        , 3.38090757],\n",
       "        [1.        , 1.65448117],\n",
       "        [3.        , 3.40038189],\n",
       "        [4.        , 1.18219438],\n",
       "        [2.        , 2.69845352],\n",
       "        [0.        , 0.        ],\n",
       "        [3.        , 0.60417962],\n",
       "        [4.        , 0.361083  ],\n",
       "        [2.        , 0.73476273],\n",
       "        [1.        , 1.73831302],\n",
       "        [1.        , 3.14367367],\n",
       "        [4.        , 2.82768621],\n",
       "        [2.        , 2.61705003],\n",
       "        [1.        , 2.42149267],\n",
       "        [3.        , 1.07733842],\n",
       "        [4.        , 0.55170826],\n",
       "        [2.        , 2.17774349],\n",
       "        [1.        , 1.34919508],\n",
       "        [3.        , 2.66262204],\n",
       "        [4.        , 0.44135439],\n",
       "        [2.        , 2.57726997],\n",
       "        [1.        , 1.04766273],\n",
       "        [3.        , 2.31655805],\n",
       "        [4.        , 1.12772707],\n",
       "        [2.        , 2.11581902],\n",
       "        [1.        , 0.85101719],\n",
       "        [3.        , 2.82812949],\n",
       "        [4.        , 0.8834794 ],\n",
       "        [2.        , 2.49939573],\n",
       "        [1.        , 1.36789297],\n",
       "        [3.        , 3.28506359],\n",
       "        [4.        , 0.81006398],\n",
       "        [2.        , 2.87353   ],\n",
       "        [1.        , 1.50177223],\n",
       "        [3.        , 1.67508249],\n",
       "        [4.        , 0.99406136],\n",
       "        [2.        , 2.2599367 ],\n",
       "        [0.        , 0.        ],\n",
       "        [3.        , 0.95439087],\n",
       "        [4.        , 1.67512128],\n",
       "        [2.        , 2.0873286 ],\n",
       "        [0.        , 0.        ],\n",
       "        [3.        , 0.71605415],\n",
       "        [4.        , 0.87383332],\n",
       "        [2.        , 1.22943097],\n",
       "        [0.        , 0.        ],\n",
       "        [3.        , 1.95714055],\n",
       "        [4.        , 1.78529249],\n",
       "        [2.        , 1.53457227],\n",
       "        [0.        , 0.        ],\n",
       "        [3.        , 1.39000862],\n",
       "        [4.        , 1.06516029],\n",
       "        [2.        , 2.54558224],\n",
       "        [1.        , 1.53723666],\n",
       "        [3.        , 2.09455557],\n",
       "        [4.        , 0.81607781],\n",
       "        [2.        , 1.8969564 ],\n",
       "        [0.        , 0.        ],\n",
       "        [3.        , 0.29520804],\n",
       "        [4.        , 0.86735208],\n",
       "        [2.        , 1.05360532],\n",
       "        [1.        , 2.38147945],\n",
       "        [3.        , 2.10615067],\n",
       "        [4.        , 0.44579337],\n",
       "        [2.        , 2.10157697],\n",
       "        [1.        , 1.74463278],\n",
       "        [3.        , 0.85325899],\n",
       "        [4.        , 1.74327909],\n",
       "        [2.        , 2.58385201],\n",
       "        [1.        , 1.88892397],\n",
       "        [3.        , 1.74005677],\n",
       "        [4.        , 0.65601177],\n",
       "        [2.        , 1.60817193],\n",
       "        [0.        , 0.        ],\n",
       "        [3.        , 2.39456991],\n",
       "        [4.        , 1.94769499]]))"
      ]
     },
     "execution_count": 57,
     "metadata": {},
     "output_type": "execute_result"
    }
   ],
   "source": [
    "import numpy as np\n",
    "\n",
    "# 创建距离（计算质心和样本点距离）\n",
    "def euclDistance(v1,v2):\n",
    "    return np.sqrt(np.sum(np.power(v2-v1,2)))\n",
    "\n",
    "\n",
    "def KMeans(dataSet,k):\n",
    "    numSamples = dataSet.shape[0]\n",
    "    n = dataSet.shape[1]\n",
    "    \n",
    "    clusterAssment = np.zeros((numSamples,n))\n",
    "    centroids = np.empty((k,n))\n",
    "    for i in range(n):\n",
    "        centroids[:,i]=dataSet[:,i].min()+ dataSet[:,i].ptp()*np.random.rand(k)\n",
    "        \n",
    "    # 当任意一个点的簇分配结构发生改变时\n",
    "    clusterChanged = True\n",
    "    while(clusterChanged):\n",
    "        clusterChanged = False\n",
    "        # 对每一个数据集中的每一个数据点\n",
    "        for i in range(numSamples):\n",
    "            minDist = 100000\n",
    "            # 最近的质心的坐标\n",
    "            minIndex = 0\n",
    "            # 对每一个质心与数据点的距离\n",
    "            for j in range(k):\n",
    "                distances = euclDistance(dataSet[i],centroids[j,:])\n",
    "                # 判断该质心与样本距离是不是所有质心中最近的\n",
    "                if(distances<minDist):\n",
    "                    minDist = distances\n",
    "                    minIndex=j\n",
    "#             numSamples[i][0]=minIndex\n",
    "#             numSamples[i][1]=minDist\n",
    "            # 将数据点分配到距离最近的簇\n",
    "            if clusterAssment[i,0]!=minIndex:\n",
    "                clusterAssment[i,:]=minIndex,minDist\n",
    "                clusterChanged = True\n",
    "                \n",
    "    # 对每一个簇，计算簇中所有的均值，并将均值作为质心\n",
    "    for j in range(k):\n",
    "        centroids[j,:]=np.mean(dataSet[np.where(int(clusterAssment[i,0])==j)],axis=0)#列\n",
    "    \n",
    "    print(centroids)\n",
    "    return centroids,clusterAssment\n",
    "                \n",
    "#     # 对每一个簇，计算簇中所有的均值，并将均值作为质心\n",
    "#     sum_np = np.zeros((k,2))\n",
    "#     count_np = np.zeros(k)\n",
    "#     avg_np = np.zeros((k,2))\n",
    "#     # print(numSamples)\n",
    "#     for i in range(numSamples):\n",
    "#         cnt_i = int(clusterAssment[i,0])\n",
    "#         #print(cnt_i)\n",
    "#         sum_np[cnt_i]+=dataSet[i]\n",
    "#         count_np[cnt_i]+=1\n",
    "    \n",
    "#     # 求每个簇的均值\n",
    "#     for i in range(k):\n",
    "#         avg_np[i]=sum_np[i]/count_np[i]\n",
    "#         #print(sum_np[i]/count_np[i])\n",
    "#     return avg_np\n",
    "            \n",
    "dataSet = np.loadtxt('testSet.txt')\n",
    "KMeans(dataSet,5)\n",
    "\n"
   ]
  },
  {
   "cell_type": "code",
   "execution_count": 28,
   "metadata": {
    "ExecuteTime": {
     "end_time": "2020-09-21T07:33:44.795786Z",
     "start_time": "2020-09-21T07:33:44.787806Z"
    },
    "code_folding": []
   },
   "outputs": [],
   "source": [
    "def kMeans(dataSet,k): \n",
    "    n=dataSet.shape[1]\n",
    "    numSamples=len(dataSet)\n",
    "    clusterAssment = np.zeros((numSamples,n))\n",
    "    centroids = np.empty((k,n))\n",
    "    for i in range(n):\n",
    "        centroids[:,i]=dataSet[:,i].min()+dataSet[:,i].ptp()*np.random.rand(k)\n",
    "    clusterChanged= True\n",
    "    while clusterChanged:\n",
    "        clusterChanged=False\n",
    "        \n",
    "        for i in range(numSamples):\n",
    "            minIndex = 0\n",
    "            minDist = 99999\n",
    "            for j in range(k):\n",
    "                distance = euclDistance(dataSet[i],centroids[j])\n",
    "                if distance<minDist:\n",
    "                    minDist=distance\n",
    "                    minIndex = j\n",
    "            if clusterAssment[i,0] != minIndex:\n",
    "                clusterAssment[i]=minIndex,minDist\n",
    "                clusterChanged = True\n",
    "                \n",
    "                "
   ]
  },
  {
   "cell_type": "code",
   "execution_count": 3,
   "metadata": {
    "ExecuteTime": {
     "end_time": "2020-09-21T06:34:18.956828Z",
     "start_time": "2020-09-21T06:34:18.948853Z"
    }
   },
   "outputs": [
    {
     "name": "stdout",
     "output_type": "stream",
     "text": [
      "(80, 2)\n"
     ]
    }
   ],
   "source": [
    "import numpy as np\n",
    "\n",
    "def read_data():\n",
    "    data = np.loadtxt('testSet.txt')\n",
    "    return data\n",
    "\n",
    "# k均值\n",
    "def k_means(data,k):\n",
    "    center[]=data[:k,:]\n",
    "    \n",
    "    class_sum_x,class_sum_y=0\n",
    "    \n",
    "    pass\n",
    "\n",
    "\n",
    "def main():\n",
    "    data = read_data()\n",
    "    print(data.shape) # (80, 2)\n",
    "    \n",
    "    pass\n",
    "\n",
    "main()\n",
    "    "
   ]
  },
  {
   "cell_type": "code",
   "execution_count": 31,
   "metadata": {
    "ExecuteTime": {
     "end_time": "2020-09-21T08:18:42.091507Z",
     "start_time": "2020-09-21T08:18:42.081564Z"
    }
   },
   "outputs": [
    {
     "data": {
      "text/plain": [
       "array([[0., 0.],\n",
       "       [0., 0.],\n",
       "       [0., 0.]])"
      ]
     },
     "execution_count": 31,
     "metadata": {},
     "output_type": "execute_result"
    }
   ],
   "source": [
    "np.zeros((3,2))"
   ]
  },
  {
   "cell_type": "code",
   "execution_count": null,
   "metadata": {},
   "outputs": [],
   "source": []
  }
 ],
 "metadata": {
  "kernelspec": {
   "display_name": "Python 3",
   "language": "python",
   "name": "python3"
  },
  "language_info": {
   "codemirror_mode": {
    "name": "ipython",
    "version": 3
   },
   "file_extension": ".py",
   "mimetype": "text/x-python",
   "name": "python",
   "nbconvert_exporter": "python",
   "pygments_lexer": "ipython3",
   "version": "3.7.4"
  },
  "toc": {
   "base_numbering": 1,
   "nav_menu": {},
   "number_sections": true,
   "sideBar": true,
   "skip_h1_title": false,
   "title_cell": "Table of Contents",
   "title_sidebar": "Contents",
   "toc_cell": false,
   "toc_position": {},
   "toc_section_display": true,
   "toc_window_display": false
  }
 },
 "nbformat": 4,
 "nbformat_minor": 2
}
