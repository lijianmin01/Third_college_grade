{
 "cells": [
  {
   "cell_type": "markdown",
   "metadata": {},
   "source": [
    "## 准备数据"
   ]
  },
  {
   "cell_type": "code",
   "execution_count": 49,
   "metadata": {
    "ExecuteTime": {
     "end_time": "2020-09-18T07:59:52.813030Z",
     "start_time": "2020-09-18T07:59:52.806048Z"
    }
   },
   "outputs": [],
   "source": [
    "import numpy as np\n",
    "\n",
    "def file_to_matrix(filename):\n",
    "    \"\"\"\n",
    "    读取文件\n",
    "    filename:文件名\n",
    "    return:\n",
    "        dataX--特征矩阵\n",
    "        dataY--标签\n",
    "    \"\"\"\n",
    "    # 读文件\n",
    "    with open(filename, 'r') as f:\n",
    "        lines = f.readlines()\n",
    "    \n",
    "    #获取数据条数\n",
    "    n = len(lines)\n",
    "    dataX = np.zeros((n, 3))\n",
    "    dataY = []\n",
    "    \n",
    "    for index, line in enumerate(lines):\n",
    "        # 去空白\n",
    "        line = line.strip()  \n",
    "        list_of_line = line.split('\\t')\n",
    "        # 前三个值放入dataX\n",
    "        dataX[index, :] = [float(i) for i in list_of_line[:-1]]\n",
    "        if(list_of_line[-1]==\"didntLike\"):\n",
    "            dataY.append(1)\n",
    "        elif (list_of_line[-1]==\"smallDoses\"):\n",
    "            dataY.append(2)\n",
    "        else:\n",
    "            dataY.append(3)\n",
    "    \n",
    "    return dataX,np.array(dataY)\n",
    "            \n",
    "            "
   ]
  },
  {
   "cell_type": "code",
   "execution_count": 50,
   "metadata": {
    "ExecuteTime": {
     "end_time": "2020-09-18T07:59:55.394059Z",
     "start_time": "2020-09-18T07:59:55.386082Z"
    }
   },
   "outputs": [],
   "source": [
    "dataX ,dataY =file_to_matrix(\"datingTestSet.txt\")\n"
   ]
  },
  {
   "cell_type": "code",
   "execution_count": 57,
   "metadata": {
    "ExecuteTime": {
     "end_time": "2020-09-18T08:17:04.009937Z",
     "start_time": "2020-09-18T08:17:03.981981Z"
    }
   },
   "outputs": [],
   "source": [
    "# me\n",
    "def read_file(file_name):\n",
    "    dataX=[]\n",
    "    dataY=[]\n",
    "    with open(file_name,'r') as f:\n",
    "        for line in f:\n",
    "            # 去空白\n",
    "            line = line.strip() \n",
    "            cnt = line.split('\\t')\n",
    "            dataX.append(cnt[:-1])\n",
    "            dataY.append(cnt[-1])\n",
    "    dataX = np.array(dataX)\n",
    "    Y=[]\n",
    "    # 转换标签\n",
    "    for i in dataY:\n",
    "        if i == \"didntLike\":\n",
    "            Y.append(1)\n",
    "        elif i==\"smallDoses\":\n",
    "            Y.append(2)\n",
    "        else:\n",
    "            Y.append(3)\n",
    "    return dataX,np.array(Y)\n",
    "    \n",
    "dataX ,dataY =read_file(\"datingTestSet.txt\")\n"
   ]
  },
  {
   "cell_type": "code",
   "execution_count": 51,
   "metadata": {
    "ExecuteTime": {
     "end_time": "2020-09-18T08:00:00.878801Z",
     "start_time": "2020-09-18T08:00:00.869819Z"
    }
   },
   "outputs": [
    {
     "data": {
      "text/plain": [
       "array([[0.44832535, 0.39805139, 0.56233353],\n",
       "       [0.15873259, 0.34195467, 0.98724416],\n",
       "       [0.28542943, 0.06892523, 0.47449629],\n",
       "       ...,\n",
       "       [0.29115949, 0.50910294, 0.51079493],\n",
       "       [0.52711097, 0.43665451, 0.4290048 ],\n",
       "       [0.47940793, 0.3768091 , 0.78571804]])"
      ]
     },
     "execution_count": 51,
     "metadata": {},
     "output_type": "execute_result"
    }
   ],
   "source": [
    "# 最大最小规范化\n",
    "\n",
    "def auto_norm(dataX):\n",
    "    \"\"\"规范化处理\n",
    "    参数 dataX矩阵\n",
    "    \n",
    "    标准化后的数据\n",
    "    \"\"\"\n",
    "    \n",
    "    max_vector = dataX.max(0)\n",
    "    min_vector = dataX.min(0)\n",
    "    n = len(dataX)\n",
    "    max_mat = np.tile(max_vector,(n,1))\n",
    "    min_mat = np.tile(min_vector,(n,1))\n",
    "    \n",
    "    normX = (dataX-min_mat)/(max_mat-min_mat)\n",
    "    \n",
    "    return normX\n",
    "\n",
    "auto_norm(dataX)"
   ]
  },
  {
   "cell_type": "code",
   "execution_count": 38,
   "metadata": {
    "ExecuteTime": {
     "end_time": "2020-09-18T07:31:45.320566Z",
     "start_time": "2020-09-18T07:31:45.313553Z"
    }
   },
   "outputs": [
    {
     "data": {
      "text/plain": [
       "array([[0.44832535, 0.39805139, 0.56233353],\n",
       "       [0.15873259, 0.34195467, 0.98724416],\n",
       "       [0.28542943, 0.06892523, 0.47449629],\n",
       "       ...,\n",
       "       [0.29115949, 0.50910294, 0.51079493],\n",
       "       [0.52711097, 0.43665451, 0.4290048 ],\n",
       "       [0.47940793, 0.3768091 , 0.78571804]])"
      ]
     },
     "execution_count": 38,
     "metadata": {},
     "output_type": "execute_result"
    }
   ],
   "source": [
    "# me\n",
    "def max_min_score(data_x):\n",
    "    max = data_x.max(0)\n",
    "    min = data_x.min(0)\n",
    "    \n",
    "    maxmin = (data_x-min)/(max-min)\n",
    "    return maxmin\n",
    "\n",
    "max_min_score(dataX)"
   ]
  },
  {
   "cell_type": "code",
   "execution_count": 32,
   "metadata": {
    "ExecuteTime": {
     "end_time": "2020-09-18T07:21:56.877300Z",
     "start_time": "2020-09-18T07:21:56.864681Z"
    }
   },
   "outputs": [
    {
     "data": {
      "text/plain": [
       "array([[1, 2, 3],\n",
       "       [4, 5, 6],\n",
       "       [1, 2, 3],\n",
       "       [4, 5, 6]])"
      ]
     },
     "execution_count": 32,
     "metadata": {},
     "output_type": "execute_result"
    }
   ],
   "source": [
    "a= np.array([[1,2,3],[4,5,6]])\n",
    "np.tile(a,(2,1))"
   ]
  },
  {
   "cell_type": "markdown",
   "metadata": {},
   "source": [
    "## 找x的K近邻，并预测x的类别\n"
   ]
  },
  {
   "cell_type": "code",
   "execution_count": 55,
   "metadata": {
    "ExecuteTime": {
     "end_time": "2020-09-18T08:02:07.557271Z",
     "start_time": "2020-09-18T08:02:07.543311Z"
    }
   },
   "outputs": [
    {
     "ename": "NameError",
     "evalue": "name 'items' is not defined",
     "output_type": "error",
     "traceback": [
      "\u001b[1;31m------------------------------------------------------------\u001b[0m",
      "\u001b[1;31mNameError\u001b[0m                  Traceback (most recent call last)",
      "\u001b[1;32m<ipython-input-55-6a019482548b>\u001b[0m in \u001b[0;36m<module>\u001b[1;34m\u001b[0m\n\u001b[0;32m     35\u001b[0m \u001b[1;33m\u001b[0m\u001b[0m\n\u001b[0;32m     36\u001b[0m \u001b[0mk\u001b[0m \u001b[1;33m=\u001b[0m\u001b[1;36m1\u001b[0m\u001b[1;33m\u001b[0m\u001b[0m\n\u001b[1;32m---> 37\u001b[1;33m \u001b[0mknn\u001b[0m\u001b[1;33m(\u001b[0m\u001b[0mx\u001b[0m\u001b[1;33m,\u001b[0m\u001b[0mdataX\u001b[0m\u001b[1;33m,\u001b[0m\u001b[0mdataY\u001b[0m\u001b[1;33m,\u001b[0m\u001b[0mk\u001b[0m\u001b[1;33m)\u001b[0m\u001b[1;33m\u001b[0m\u001b[0m\n\u001b[0m",
      "\u001b[1;32m<ipython-input-55-6a019482548b>\u001b[0m in \u001b[0;36mknn\u001b[1;34m(x, train_x, train_y, k)\u001b[0m\n\u001b[0;32m     26\u001b[0m         \u001b[0mclass_count\u001b[0m\u001b[1;33m[\u001b[0m\u001b[0mi_class\u001b[0m\u001b[1;33m]\u001b[0m\u001b[1;33m+=\u001b[0m\u001b[1;36m1\u001b[0m\u001b[1;33m\u001b[0m\u001b[0m\n\u001b[0;32m     27\u001b[0m \u001b[1;33m\u001b[0m\u001b[0m\n\u001b[1;32m---> 28\u001b[1;33m     class_count=sorted(class_count,items(),\n\u001b[0m\u001b[0;32m     29\u001b[0m           key=operator.itemgetter(1),reverse=True)\n\u001b[0;32m     30\u001b[0m \u001b[1;33m\u001b[0m\u001b[0m\n",
      "\u001b[1;31mNameError\u001b[0m: name 'items' is not defined"
     ]
    }
   ],
   "source": [
    "import operator\n",
    "def knn(x,train_x,train_y,k):\n",
    "    \"\"\"\n",
    "    找x的k个近邻，并预测x的类型\n",
    "    \n",
    "    参数：\n",
    "        x 要预测的样本\n",
    "        train_x训练集的特征和矩阵\n",
    "        train_y 训练集的标签向量\n",
    "        k k个近邻\n",
    "    返回值：预测的类别\n",
    "    \"\"\"\n",
    "    n = len(train_x)\n",
    "    #x_mat = np.tile(x,(n,3))\n",
    "    # sum(0) 保留行    sum(0) 保留列\n",
    "    d_vector =((x-train_x)**2).sum(1)**(0.5)\n",
    "    # 对向量从小到大排序(根据坐标来排序)\n",
    "    idxs = d_vector.argsort()\n",
    "    # 统计k个样本的类别\n",
    "    class_count = {}\n",
    "    class_count[1]=0\n",
    "    class_count[2]=0\n",
    "    class_count[3]=0\n",
    "    for i in range(k):\n",
    "        i_class = train_y[idxs[i]] \n",
    "        class_count[i_class]+=1\n",
    "    \n",
    "    class_count=sorted(class_count,items(),\n",
    "          key=operator.itemgetter(1),reverse=True)\n",
    "    \n",
    "    return class_count[0][0]\n",
    "\n",
    "\n",
    "x = np.array([[0.44832535, 0.39805139, 0.56233353]])\n",
    "\n",
    "k =1\n",
    "knn(x,dataX,dataY,k)"
   ]
  },
  {
   "cell_type": "code",
   "execution_count": 58,
   "metadata": {
    "ExecuteTime": {
     "end_time": "2020-09-18T08:17:16.670021Z",
     "start_time": "2020-09-18T08:17:16.633926Z"
    }
   },
   "outputs": [
    {
     "ename": "TypeError",
     "evalue": "ufunc 'subtract' did not contain a loop with signature matching types dtype('<U32') dtype('<U32') dtype('<U32')",
     "output_type": "error",
     "traceback": [
      "\u001b[1;31m------------------------------------------------------------\u001b[0m",
      "\u001b[1;31mTypeError\u001b[0m                  Traceback (most recent call last)",
      "\u001b[1;32m<ipython-input-58-04ead1427dd9>\u001b[0m in \u001b[0;36m<module>\u001b[1;34m\u001b[0m\n\u001b[0;32m     20\u001b[0m \u001b[0mx\u001b[0m \u001b[1;33m=\u001b[0m \u001b[0mmax_min_score\u001b[0m\u001b[1;33m(\u001b[0m\u001b[0mx\u001b[0m\u001b[1;33m)\u001b[0m\u001b[1;33m\u001b[0m\u001b[0m\n\u001b[0;32m     21\u001b[0m \u001b[1;33m\u001b[0m\u001b[0m\n\u001b[1;32m---> 22\u001b[1;33m \u001b[0mknn\u001b[0m\u001b[1;33m(\u001b[0m\u001b[0mx\u001b[0m\u001b[1;33m,\u001b[0m\u001b[0mdataX\u001b[0m\u001b[1;33m,\u001b[0m\u001b[0mdataY\u001b[0m\u001b[1;33m,\u001b[0m\u001b[1;36m1\u001b[0m\u001b[1;33m)\u001b[0m\u001b[1;33m\u001b[0m\u001b[0m\n\u001b[0m",
      "\u001b[1;32m<ipython-input-55-6a019482548b>\u001b[0m in \u001b[0;36mknn\u001b[1;34m(x, train_x, train_y, k)\u001b[0m\n\u001b[0;32m     14\u001b[0m     \u001b[1;31m#x_mat = np.tile(x,(n,3))\u001b[0m\u001b[1;33m\u001b[0m\u001b[1;33m\u001b[0m\u001b[0m\n\u001b[0;32m     15\u001b[0m     \u001b[1;31m# sum(0) 保留行    sum(0) 保留列\u001b[0m\u001b[1;33m\u001b[0m\u001b[1;33m\u001b[0m\u001b[0m\n\u001b[1;32m---> 16\u001b[1;33m     \u001b[0md_vector\u001b[0m \u001b[1;33m=\u001b[0m\u001b[1;33m(\u001b[0m\u001b[1;33m(\u001b[0m\u001b[0mx\u001b[0m\u001b[1;33m-\u001b[0m\u001b[0mtrain_x\u001b[0m\u001b[1;33m)\u001b[0m\u001b[1;33m**\u001b[0m\u001b[1;36m2\u001b[0m\u001b[1;33m)\u001b[0m\u001b[1;33m.\u001b[0m\u001b[0msum\u001b[0m\u001b[1;33m(\u001b[0m\u001b[1;36m1\u001b[0m\u001b[1;33m)\u001b[0m\u001b[1;33m**\u001b[0m\u001b[1;33m(\u001b[0m\u001b[1;36m0.5\u001b[0m\u001b[1;33m)\u001b[0m\u001b[1;33m\u001b[0m\u001b[0m\n\u001b[0m\u001b[0;32m     17\u001b[0m     \u001b[1;31m# 对向量从小到大排序(根据坐标来排序)\u001b[0m\u001b[1;33m\u001b[0m\u001b[1;33m\u001b[0m\u001b[0m\n\u001b[0;32m     18\u001b[0m     \u001b[0midxs\u001b[0m \u001b[1;33m=\u001b[0m \u001b[0md_vector\u001b[0m\u001b[1;33m.\u001b[0m\u001b[0margsort\u001b[0m\u001b[1;33m(\u001b[0m\u001b[1;33m)\u001b[0m\u001b[1;33m\u001b[0m\u001b[0m\n",
      "\u001b[1;31mTypeError\u001b[0m: ufunc 'subtract' did not contain a loop with signature matching types dtype('<U32') dtype('<U32') dtype('<U32')"
     ]
    }
   ],
   "source": [
    "# 书上的\n",
    "def classify(intX,dataSet,labels,k):\n",
    "    dataSetSize = dataSet.shape[0]\n",
    "    diffMat = tile(intX,(dataSetSize,1))-dataSet\n",
    "    sqDiffMat = diffMat**2\n",
    "    sqDistances = sqDiffMat.sum(axis=1)\n",
    "    sqDistances = sqDistances**(0.5)\n",
    "    sortedDistIndicies = distances.argsort()\n",
    "    classCount = []\n",
    "    for i in range(k):\n",
    "        voteiLabel = labels[sortedDistIndicies[i]]\n",
    "        classCount[voteiLabel]=classCount.get(voteiLabel,0)+1\n",
    "    sortedClassCount = sorted(classCount.iteritems(),\n",
    "                             key=operator.itemgetter(1),reverse=True)\n",
    "    return sortedClassCount[0][0]\n",
    "\n",
    "x = np.array([[0.44832535, 0.39805139, 0.56233353],\n",
    "       [0.15873259, 0.34195467, 0.98724416],\n",
    "       [0.28542943, 0.06892523, 0.47449629]])\n",
    "x = max_min_score(x)\n",
    "\n",
    "knn(x,dataX,dataY,1)"
   ]
  },
  {
   "cell_type": "code",
   "execution_count": null,
   "metadata": {},
   "outputs": [],
   "source": []
  },
  {
   "cell_type": "code",
   "execution_count": null,
   "metadata": {},
   "outputs": [],
   "source": [
    "def test(norm_x,data_y,k):\n",
    "    \"\"\"测试并评价模型\n",
    "    参数：\n",
    "        normX 标准化后的特征矩阵\n",
    "        dataY 标签\n",
    "        k k近邻\n",
    "    返回值：\n",
    "        error_rate 错误率\n",
    "    \"\"\"\n",
    "    \n",
    "     n = len(normX)\n",
    "    # 测试集样本的个数\n",
    "    test_n = int(n*0.1)\n",
    "    testX = normX[:test_n,:]\n",
    "    testY = dataY[:test_n]\n",
    "    trainX = normX[test_n,:]\n",
    "    trainY = dataY[test_n:]\n",
    "    error_num = 0\n",
    "    \n",
    "    for x,y in zip(testX,testY):\n",
    "        y_hat = classify(x,trainX,trainY,k)\n",
    "        if (y_hat!=y):\n",
    "            error_num+=1\n",
    "            \n",
    "    error_rate = error_num/test_n\n",
    "    return error_rate\n",
    "            \n",
    "    "
   ]
  },
  {
   "cell_type": "code",
   "execution_count": null,
   "metadata": {},
   "outputs": [],
   "source": []
  },
  {
   "cell_type": "code",
   "execution_count": null,
   "metadata": {},
   "outputs": [],
   "source": []
  },
  {
   "cell_type": "code",
   "execution_count": null,
   "metadata": {},
   "outputs": [],
   "source": []
  },
  {
   "cell_type": "code",
   "execution_count": null,
   "metadata": {},
   "outputs": [],
   "source": []
  },
  {
   "cell_type": "code",
   "execution_count": null,
   "metadata": {},
   "outputs": [],
   "source": []
  },
  {
   "cell_type": "code",
   "execution_count": null,
   "metadata": {},
   "outputs": [],
   "source": []
  },
  {
   "cell_type": "code",
   "execution_count": null,
   "metadata": {},
   "outputs": [],
   "source": []
  },
  {
   "cell_type": "code",
   "execution_count": null,
   "metadata": {},
   "outputs": [],
   "source": []
  },
  {
   "cell_type": "code",
   "execution_count": null,
   "metadata": {},
   "outputs": [],
   "source": []
  },
  {
   "cell_type": "code",
   "execution_count": null,
   "metadata": {},
   "outputs": [],
   "source": []
  },
  {
   "cell_type": "code",
   "execution_count": null,
   "metadata": {},
   "outputs": [],
   "source": []
  },
  {
   "cell_type": "code",
   "execution_count": null,
   "metadata": {},
   "outputs": [],
   "source": []
  },
  {
   "cell_type": "code",
   "execution_count": null,
   "metadata": {},
   "outputs": [],
   "source": []
  },
  {
   "cell_type": "code",
   "execution_count": null,
   "metadata": {},
   "outputs": [],
   "source": []
  },
  {
   "cell_type": "code",
   "execution_count": null,
   "metadata": {},
   "outputs": [],
   "source": []
  },
  {
   "cell_type": "code",
   "execution_count": null,
   "metadata": {},
   "outputs": [],
   "source": []
  },
  {
   "cell_type": "code",
   "execution_count": null,
   "metadata": {},
   "outputs": [],
   "source": []
  },
  {
   "cell_type": "code",
   "execution_count": null,
   "metadata": {},
   "outputs": [],
   "source": []
  },
  {
   "cell_type": "code",
   "execution_count": null,
   "metadata": {},
   "outputs": [],
   "source": []
  },
  {
   "cell_type": "code",
   "execution_count": null,
   "metadata": {},
   "outputs": [],
   "source": []
  },
  {
   "cell_type": "code",
   "execution_count": null,
   "metadata": {},
   "outputs": [],
   "source": []
  },
  {
   "cell_type": "code",
   "execution_count": null,
   "metadata": {},
   "outputs": [],
   "source": []
  },
  {
   "cell_type": "code",
   "execution_count": null,
   "metadata": {},
   "outputs": [],
   "source": []
  },
  {
   "cell_type": "code",
   "execution_count": null,
   "metadata": {},
   "outputs": [],
   "source": []
  },
  {
   "cell_type": "code",
   "execution_count": null,
   "metadata": {},
   "outputs": [],
   "source": []
  },
  {
   "cell_type": "code",
   "execution_count": null,
   "metadata": {},
   "outputs": [],
   "source": []
  },
  {
   "cell_type": "code",
   "execution_count": null,
   "metadata": {},
   "outputs": [],
   "source": []
  },
  {
   "cell_type": "code",
   "execution_count": null,
   "metadata": {},
   "outputs": [],
   "source": []
  },
  {
   "cell_type": "code",
   "execution_count": null,
   "metadata": {},
   "outputs": [],
   "source": []
  },
  {
   "cell_type": "code",
   "execution_count": null,
   "metadata": {},
   "outputs": [],
   "source": []
  },
  {
   "cell_type": "code",
   "execution_count": null,
   "metadata": {},
   "outputs": [],
   "source": []
  },
  {
   "cell_type": "code",
   "execution_count": null,
   "metadata": {},
   "outputs": [],
   "source": []
  },
  {
   "cell_type": "code",
   "execution_count": null,
   "metadata": {},
   "outputs": [],
   "source": []
  }
 ],
 "metadata": {
  "kernelspec": {
   "display_name": "Python 3.7.0 64-bit",
   "language": "python",
   "name": "python37064bit93effaefa84a47fd929df3c37a19f374"
  },
  "language_info": {
   "codemirror_mode": {
    "name": "ipython",
    "version": 3
   },
   "file_extension": ".py",
   "mimetype": "text/x-python",
   "name": "python",
   "nbconvert_exporter": "python",
   "pygments_lexer": "ipython3",
   "version": "3.7.0"
  },
  "toc": {
   "base_numbering": 1,
   "nav_menu": {},
   "number_sections": true,
   "sideBar": true,
   "skip_h1_title": false,
   "title_cell": "Table of Contents",
   "title_sidebar": "Contents",
   "toc_cell": false,
   "toc_position": {},
   "toc_section_display": true,
   "toc_window_display": false
  }
 },
 "nbformat": 4,
 "nbformat_minor": 2
}
