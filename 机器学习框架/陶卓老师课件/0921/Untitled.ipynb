{
 "cells": [
  {
   "cell_type": "markdown",
   "metadata": {},
   "source": [
    "## 思路\n",
    "\n",
    "* 创建K个点作为初始的质心点\n",
    "* 当任意一个簇结果发生改变的时候\n",
    "    * * 对数据集中的每一个数据点\n",
    "       * * 对每一个质心\n",
    "        * * 计算质心与数据点的距离\n",
    "       * * 将数据点分配到距离最近的簇中\n",
    "     * * 对每一个簇，计算簇中所有的均值，并将均值作为质心"
   ]
  },
  {
   "cell_type": "code",
   "execution_count": 1,
   "metadata": {
    "ExecuteTime": {
     "end_time": "2020-09-23T08:39:41.923309Z",
     "start_time": "2020-09-23T08:39:41.621841Z"
    }
   },
   "outputs": [
    {
     "name": "stdout",
     "output_type": "stream",
     "text": [
      "[[     nan      nan]\n",
      " [     nan      nan]\n",
      " [     nan      nan]\n",
      " [     nan      nan]\n",
      " [1.658985 4.285136]]\n"
     ]
    },
    {
     "name": "stderr",
     "output_type": "stream",
     "text": [
      "C:\\Users\\流痕~\\AppData\\Roaming\\Python\\Python37\\site-packages\\numpy\\core\\fromnumeric.py:3118: RuntimeWarning: Mean of empty slice.\n",
      "  out=out, **kwargs)\n",
      "C:\\Users\\流痕~\\AppData\\Roaming\\Python\\Python37\\site-packages\\numpy\\core\\_methods.py:78: RuntimeWarning: invalid value encountered in true_divide\n",
      "  ret, rcount, out=ret, casting='unsafe', subok=False)\n"
     ]
    },
    {
     "data": {
      "text/plain": [
       "(array([[     nan,      nan],\n",
       "        [     nan,      nan],\n",
       "        [     nan,      nan],\n",
       "        [     nan,      nan],\n",
       "        [1.658985, 4.285136]]), array([[2.        , 2.57850189],\n",
       "        [3.        , 1.41065331],\n",
       "        [0.        , 0.        ],\n",
       "        [4.        , 3.46214403],\n",
       "        [2.        , 1.75656014],\n",
       "        [3.        , 2.90399608],\n",
       "        [4.        , 2.54333265],\n",
       "        [4.        , 2.75854615],\n",
       "        [1.        , 3.727818  ],\n",
       "        [3.        , 1.78813131],\n",
       "        [0.        , 0.        ],\n",
       "        [4.        , 1.23475293],\n",
       "        [2.        , 4.9565705 ],\n",
       "        [2.        , 1.44005191],\n",
       "        [1.        , 2.64698971],\n",
       "        [4.        , 1.59343979],\n",
       "        [1.        , 3.70602892],\n",
       "        [2.        , 0.05528489],\n",
       "        [0.        , 0.        ],\n",
       "        [4.        , 2.13158258],\n",
       "        [2.        , 3.10633458],\n",
       "        [2.        , 1.30584528],\n",
       "        [1.        , 0.62440127],\n",
       "        [4.        , 1.89738856],\n",
       "        [2.        , 2.57394734],\n",
       "        [2.        , 1.45499909],\n",
       "        [1.        , 0.19527328],\n",
       "        [4.        , 2.18698175],\n",
       "        [2.        , 2.99459376],\n",
       "        [2.        , 3.20208881],\n",
       "        [1.        , 2.63421288],\n",
       "        [4.        , 2.45215386],\n",
       "        [2.        , 2.84554051],\n",
       "        [3.        , 2.8407606 ],\n",
       "        [0.        , 0.        ],\n",
       "        [4.        , 0.80365672],\n",
       "        [2.        , 3.21736572],\n",
       "        [2.        , 1.14668138],\n",
       "        [1.        , 0.53091147],\n",
       "        [4.        , 2.01264739],\n",
       "        [2.        , 2.8869542 ],\n",
       "        [2.        , 2.01419986],\n",
       "        [0.        , 0.        ],\n",
       "        [4.        , 0.23855858],\n",
       "        [2.        , 3.06957   ],\n",
       "        [3.        , 1.63618463],\n",
       "        [0.        , 0.        ],\n",
       "        [4.        , 2.3955097 ],\n",
       "        [2.        , 4.31380246],\n",
       "        [2.        , 1.35276365],\n",
       "        [1.        , 1.06889541],\n",
       "        [4.        , 2.34183279],\n",
       "        [2.        , 4.874987  ],\n",
       "        [3.        , 0.90659862],\n",
       "        [1.        , 1.13887212],\n",
       "        [4.        , 2.28557603],\n",
       "        [2.        , 3.50716182],\n",
       "        [2.        , 1.9060048 ],\n",
       "        [1.        , 1.38418828],\n",
       "        [4.        , 1.27494971],\n",
       "        [2.        , 3.72677121],\n",
       "        [2.        , 1.87992505],\n",
       "        [0.        , 0.        ],\n",
       "        [4.        , 2.10729986],\n",
       "        [2.        , 4.12125224],\n",
       "        [2.        , 0.91330318],\n",
       "        [1.        , 0.65185348],\n",
       "        [4.        , 1.14808118],\n",
       "        [2.        , 3.06274935],\n",
       "        [2.        , 1.02670046],\n",
       "        [0.        , 0.        ],\n",
       "        [4.        , 3.2046628 ],\n",
       "        [1.        , 3.55574952],\n",
       "        [2.        , 1.41747921],\n",
       "        [0.        , 0.        ],\n",
       "        [4.        , 2.0539457 ],\n",
       "        [2.        , 3.63179044],\n",
       "        [3.        , 2.14896246],\n",
       "        [0.        , 0.        ],\n",
       "        [4.        , 3.13112608]]))"
      ]
     },
     "execution_count": 1,
     "metadata": {},
     "output_type": "execute_result"
    }
   ],
   "source": [
    "import numpy as np\n",
    "\n",
    "# 创建距离（计算质心和样本点距离）\n",
    "def euclDistance(v1,v2):\n",
    "    return np.sqrt(np.sum(np.power(v2-v1,2)))\n",
    "\n",
    "\n",
    "def KMeans(dataSet,k):\n",
    "    numSamples = dataSet.shape[0]\n",
    "    n = dataSet.shape[1]\n",
    "    \n",
    "    clusterAssment = np.zeros((numSamples,n))\n",
    "    centroids = np.empty((k,n))\n",
    "    for i in range(n):\n",
    "        centroids[:,i]=dataSet[:,i].min()+ dataSet[:,i].ptp()*np.random.rand(k)\n",
    "        \n",
    "    # 当任意一个点的簇分配结构发生改变时\n",
    "    clusterChanged = True\n",
    "    while(clusterChanged):\n",
    "        clusterChanged = False\n",
    "        # 对每一个数据集中的每一个数据点\n",
    "        for i in range(numSamples):\n",
    "            minDist = 100000\n",
    "            # 最近的质心的坐标\n",
    "            minIndex = 0\n",
    "            # 对每一个质心与数据点的距离\n",
    "            for j in range(k):\n",
    "                distances = euclDistance(dataSet[i],centroids[j,:])\n",
    "                # 判断该质心与样本距离是不是所有质心中最近的\n",
    "                if(distances<minDist):\n",
    "                    minDist = distances\n",
    "                    minIndex=j\n",
    "#             numSamples[i][0]=minIndex\n",
    "#             numSamples[i][1]=minDist\n",
    "            # 将数据点分配到距离最近的簇\n",
    "            if clusterAssment[i,0]!=minIndex:\n",
    "                clusterAssment[i,:]=minIndex,minDist\n",
    "                clusterChanged = True\n",
    "                \n",
    "    # 对每一个簇，计算簇中所有的均值，并将均值作为质心\n",
    "    for j in range(k):\n",
    "        centroids[j,:]=np.mean(dataSet[np.where(int(clusterAssment[i,0])==j)],axis=0)#列\n",
    "    \n",
    "    print(centroids)\n",
    "    return centroids,clusterAssment\n",
    "                \n",
    "#     # 对每一个簇，计算簇中所有的均值，并将均值作为质心\n",
    "#     sum_np = np.zeros((k,2))\n",
    "#     count_np = np.zeros(k)\n",
    "#     avg_np = np.zeros((k,2))\n",
    "#     # print(numSamples)\n",
    "#     for i in range(numSamples):\n",
    "#         cnt_i = int(clusterAssment[i,0])\n",
    "#         #print(cnt_i)\n",
    "#         sum_np[cnt_i]+=dataSet[i]\n",
    "#         count_np[cnt_i]+=1\n",
    "    \n",
    "#     # 求每个簇的均值\n",
    "#     for i in range(k):\n",
    "#         avg_np[i]=sum_np[i]/count_np[i]\n",
    "#         #print(sum_np[i]/count_np[i])\n",
    "#     return avg_np\n",
    "            \n",
    "dataSet = np.loadtxt('testSet.txt')\n",
    "KMeans(dataSet,5)\n",
    "\n"
   ]
  },
  {
   "cell_type": "code",
   "execution_count": 7,
   "metadata": {
    "ExecuteTime": {
     "end_time": "2020-09-23T08:41:59.272955Z",
     "start_time": "2020-09-23T08:41:59.250328Z"
    },
    "code_folding": []
   },
   "outputs": [],
   "source": [
    "def kMeans(dataSet,k): \n",
    "    n=dataSet.shape[1]\n",
    "    numSamples=len(dataSet)\n",
    "    clusterAssment = np.zeros((numSamples,n))\n",
    "    centroids = np.empty((k,n))\n",
    "    for i in range(n):\n",
    "        centroids[:,i]=dataSet[:,i].min()+dataSet[:,i].ptp()*np.random.rand(k)\n",
    "    clusterChanged= True\n",
    "    while clusterChanged:\n",
    "        clusterChanged=False\n",
    "        \n",
    "        for i in range(numSamples):\n",
    "            minIndex = 0\n",
    "            minDist = 99999\n",
    "            for j in range(k):\n",
    "                distance = euclDistance(dataSet[i],centroids[j])\n",
    "                if distance<minDist:\n",
    "                    minDist=distance\n",
    "                    minIndex = j\n",
    "            if clusterAssment[i,0] != minIndex:\n",
    "                clusterAssment[i]=minIndex,minDist\n",
    "                clusterChanged = True\n",
    "  \n",
    "    # 计算出每个样本的类别\n",
    "    y_labels = []\n",
    "    for i in range(numSamples):\n",
    "        y_labels.append(clusterAssment[i])\n",
    "    \n",
    "    # 对每一个簇，计算簇中所有的均值，并将均值作为质心\n",
    "    sum_np = np.zeros((k,2))\n",
    "    count_np = np.zeros(k)\n",
    "    avg_np = np.zeros((k,2))\n",
    "    # print(numSamples)\n",
    "    for i in range(numSamples):\n",
    "        cnt_i = int(clusterAssment[i,0])\n",
    "        #print(cnt_i)\n",
    "        sum_np[cnt_i]+=dataSet[i]\n",
    "        count_np[cnt_i]+=1\n",
    "    \n",
    "    # 求每个簇的均值\n",
    "    for i in range(k):\n",
    "        avg_np[i]=sum_np[i]/count_np[i]\n",
    "        #print(sum_np[i]/count_np[i])\n",
    "        \n",
    "    return y_labels,avg_np\n",
    "    \n",
    "    \n",
    "                \n",
    "                "
   ]
  },
  {
   "cell_type": "code",
   "execution_count": 9,
   "metadata": {
    "ExecuteTime": {
     "end_time": "2020-09-23T08:43:06.533064Z",
     "start_time": "2020-09-23T08:43:06.468667Z"
    }
   },
   "outputs": [
    {
     "name": "stdout",
     "output_type": "stream",
     "text": [
      "[1.         7.37357969]\n",
      "[0. 0.]\n",
      "[2.         2.00877363]\n",
      "[3.         0.68598431]\n",
      "[1.        6.1571253]\n",
      "[0. 0.]\n",
      "[1.         2.06780699]\n",
      "[3.         1.81993128]\n",
      "[1.         4.63797423]\n",
      "[0. 0.]\n",
      "[1.         1.16688966]\n",
      "[3.         2.04430124]\n",
      "[2.         5.96232072]\n",
      "[0. 0.]\n",
      "[1.        3.1285874]\n",
      "[1.         3.03790923]\n",
      "[1.         4.62592227]\n",
      "[0. 0.]\n",
      "[1.         0.54369402]\n",
      "[3.         1.76373856]\n",
      "[1.         5.91753925]\n",
      "[0. 0.]\n",
      "[1.         1.17614333]\n",
      "[3.         1.43397498]\n",
      "[1.         6.95868224]\n",
      "[0. 0.]\n",
      "[1.         0.98996892]\n",
      "[3.         0.85626394]\n",
      "[1.         6.43231801]\n",
      "[0. 0.]\n",
      "[1.         1.84600086]\n",
      "[3.         1.34563116]\n",
      "[1.         5.79333644]\n",
      "[0. 0.]\n",
      "[2.         2.18462232]\n",
      "[3.         2.31098572]\n",
      "[1.         8.25329873]\n",
      "[0. 0.]\n",
      "[1.         0.50761162]\n",
      "[3.         1.03192319]\n",
      "[1.        6.9379645]\n",
      "[0. 0.]\n",
      "[2.         0.65985508]\n",
      "[3.        2.9904274]\n",
      "[1.         6.22227129]\n",
      "[0. 0.]\n",
      "[1.        0.9739115]\n",
      "[3.         1.18642881]\n",
      "[2.         5.76989173]\n",
      "[0. 0.]\n",
      "[1.         0.37889825]\n",
      "[3.         1.10230839]\n",
      "[2.        8.1117127]\n",
      "[0. 0.]\n",
      "[1.         0.25224357]\n",
      "[3.         0.81714663]\n",
      "[1.         5.00384085]\n",
      "[0. 0.]\n",
      "[1.         0.65175522]\n",
      "[3.         1.76574313]\n",
      "[1.         5.54316396]\n",
      "[0. 0.]\n",
      "[2.         1.09533483]\n",
      "[3.         2.44995425]\n",
      "[2.         6.98774252]\n",
      "[0. 0.]\n",
      "[1.        0.5291041]\n",
      "[3.         2.17985477]\n",
      "[1.         6.19773565]\n",
      "[0. 0.]\n",
      "[1.         0.78528566]\n",
      "[3.         0.80369255]\n",
      "[2.         4.10523105]\n",
      "[0. 0.]\n",
      "[2.         0.79165963]\n",
      "[3.         2.18733066]\n",
      "[1.         6.09556627]\n",
      "[0. 0.]\n",
      "[2.         1.30319787]\n",
      "[3.         0.09168829]\n"
     ]
    }
   ],
   "source": [
    "data = np.loadtxt('testSet.txt')\n",
    "kMeans(data,4)"
   ]
  },
  {
   "cell_type": "code",
   "execution_count": 3,
   "metadata": {
    "ExecuteTime": {
     "end_time": "2020-09-21T06:34:18.956828Z",
     "start_time": "2020-09-21T06:34:18.948853Z"
    }
   },
   "outputs": [
    {
     "name": "stdout",
     "output_type": "stream",
     "text": [
      "(80, 2)\n"
     ]
    }
   ],
   "source": [
    "import numpy as np\n",
    "\n",
    "def read_data():\n",
    "    data = np.loadtxt('testSet.txt')\n",
    "    return data\n",
    "\n",
    "# k均值\n",
    "def k_means(data,k):\n",
    "    center[]=data[:k,:]\n",
    "    \n",
    "    class_sum_x,class_sum_y=0\n",
    "    \n",
    "    pass\n",
    "\n",
    "\n",
    "def main():\n",
    "    data = read_data()\n",
    "    print(data.shape) # (80, 2)\n",
    "    \n",
    "    pass\n",
    "\n",
    "main()\n",
    "    "
   ]
  },
  {
   "cell_type": "code",
   "execution_count": 31,
   "metadata": {
    "ExecuteTime": {
     "end_time": "2020-09-21T08:18:42.091507Z",
     "start_time": "2020-09-21T08:18:42.081564Z"
    }
   },
   "outputs": [
    {
     "data": {
      "text/plain": [
       "array([[0., 0.],\n",
       "       [0., 0.],\n",
       "       [0., 0.]])"
      ]
     },
     "execution_count": 31,
     "metadata": {},
     "output_type": "execute_result"
    }
   ],
   "source": [
    "np.zeros((3,2))"
   ]
  },
  {
   "cell_type": "code",
   "execution_count": 13,
   "metadata": {
    "ExecuteTime": {
     "end_time": "2020-09-23T09:08:26.681428Z",
     "start_time": "2020-09-23T09:08:26.658052Z"
    }
   },
   "outputs": [],
   "source": [
    "def KMeans(dataSet,k):\n",
    "    #创建k个点作为初始的质心点\n",
    "    #生成一个矩阵，矩阵为k个点，范围在最大值和最小值之间，生成的点为质心点\n",
    "    numSamples = dataSet.shape[0]\n",
    "    #保留样本点的最近的质心和距离\n",
    "    clusterAssment = np.zeros((numSamples,2))\n",
    "    n = data.shape[1]\n",
    "    centroids = np.empty((k,n))\n",
    "    for i in range(n):\n",
    "        centroids[:,i] = dataSet[:,i].min() + dataSet[:,i].ptp()*np.random.rand(k)\n",
    "        \n",
    "    #当任意一个点的簇分配结果发生改变时\n",
    "    flag = True\n",
    "    while flag and cnt!=numSamples:\n",
    "        flag = False\n",
    "        cnt=0\n",
    "        minIndex = 0\n",
    "        #对数据集中的每一个数据点\n",
    "        for i in range(numSamples):\n",
    "            minDistance = 99999999\n",
    "            #对每一个质心\n",
    "            for j in range(k):\n",
    "                #计算质心与数据点的距离\n",
    "                distance = euclDistance(centroids[j,:], dataSet[i,:])\n",
    "                #判断该质心与样本的距离是不是所有质心中最近的\n",
    "                if distance < minDistance:\n",
    "                    minDistance = distance\n",
    "                    minIndex = j\n",
    "            #将数据点分配到最近的簇里面去\n",
    "            if clusterAssment[i,0] != minIndex:\n",
    "                clusterAssment[i,:] = minIndex, minDistance\n",
    "                flag = True\n",
    "                cnt+=1\n",
    "        #对每一个簇，计算簇中所有点的均值，并将均值作为质心\n",
    "        for j in range(k):\n",
    "            centroids[j,:] = np.mean(dataSet[np.where(clusterAssment[:,0] == j)],axis = 0)\n",
    "    \n",
    "    return clusterAssment[:,0],centroids"
   ]
  },
  {
   "cell_type": "code",
   "execution_count": 16,
   "metadata": {
    "ExecuteTime": {
     "end_time": "2020-09-23T09:09:35.579356Z",
     "start_time": "2020-09-23T09:09:35.523779Z"
    }
   },
   "outputs": [
    {
     "ename": "UnboundLocalError",
     "evalue": "local variable 'cnt' referenced before assignment",
     "output_type": "error",
     "traceback": [
      "\u001b[1;31m------------------------------------------------------------\u001b[0m",
      "\u001b[1;31mUnboundLocalError\u001b[0m          Traceback (most recent call last)",
      "\u001b[1;32m<ipython-input-16-4fdd9b0850a2>\u001b[0m in \u001b[0;36m<module>\u001b[1;34m\u001b[0m\n\u001b[0;32m      1\u001b[0m \u001b[0mdata\u001b[0m \u001b[1;33m=\u001b[0m \u001b[0mnp\u001b[0m\u001b[1;33m.\u001b[0m\u001b[0mloadtxt\u001b[0m\u001b[1;33m(\u001b[0m\u001b[1;34m'testSet.txt'\u001b[0m\u001b[1;33m)\u001b[0m\u001b[1;33m\u001b[0m\u001b[1;33m\u001b[0m\u001b[0m\n\u001b[1;32m----> 2\u001b[1;33m \u001b[0my_labels\u001b[0m\u001b[1;33m,\u001b[0m\u001b[0mavg_np\u001b[0m \u001b[1;33m=\u001b[0m \u001b[0mKMeans\u001b[0m\u001b[1;33m(\u001b[0m\u001b[0mdata\u001b[0m\u001b[1;33m,\u001b[0m\u001b[1;36m4\u001b[0m\u001b[1;33m)\u001b[0m\u001b[1;33m\u001b[0m\u001b[1;33m\u001b[0m\u001b[0m\n\u001b[0m\u001b[0;32m      3\u001b[0m \u001b[0mprint\u001b[0m\u001b[1;33m(\u001b[0m\u001b[0my_labels\u001b[0m\u001b[1;33m)\u001b[0m\u001b[1;33m\u001b[0m\u001b[1;33m\u001b[0m\u001b[0m\n\u001b[0;32m      4\u001b[0m \u001b[0mprint\u001b[0m\u001b[1;33m(\u001b[0m\u001b[0mavg_np\u001b[0m\u001b[1;33m)\u001b[0m\u001b[1;33m\u001b[0m\u001b[1;33m\u001b[0m\u001b[0m\n\u001b[0;32m      5\u001b[0m \u001b[1;33m\u001b[0m\u001b[0m\n",
      "\u001b[1;32m<ipython-input-13-faecd5b88b26>\u001b[0m in \u001b[0;36mKMeans\u001b[1;34m(dataSet, k)\u001b[0m\n\u001b[0;32m     12\u001b[0m     \u001b[1;31m#当任意一个点的簇分配结果发生改变时\u001b[0m\u001b[1;33m\u001b[0m\u001b[1;33m\u001b[0m\u001b[1;33m\u001b[0m\u001b[0m\n\u001b[0;32m     13\u001b[0m     \u001b[0mflag\u001b[0m \u001b[1;33m=\u001b[0m \u001b[1;32mTrue\u001b[0m\u001b[1;33m\u001b[0m\u001b[1;33m\u001b[0m\u001b[0m\n\u001b[1;32m---> 14\u001b[1;33m     \u001b[1;32mwhile\u001b[0m \u001b[0mflag\u001b[0m \u001b[1;32mand\u001b[0m \u001b[0mcnt\u001b[0m\u001b[1;33m!=\u001b[0m\u001b[0mnumSamples\u001b[0m\u001b[1;33m:\u001b[0m\u001b[1;33m\u001b[0m\u001b[1;33m\u001b[0m\u001b[0m\n\u001b[0m\u001b[0;32m     15\u001b[0m         \u001b[0mflag\u001b[0m \u001b[1;33m=\u001b[0m \u001b[1;32mFalse\u001b[0m\u001b[1;33m\u001b[0m\u001b[1;33m\u001b[0m\u001b[0m\n\u001b[0;32m     16\u001b[0m         \u001b[0mcnt\u001b[0m\u001b[1;33m=\u001b[0m\u001b[1;36m0\u001b[0m\u001b[1;33m\u001b[0m\u001b[1;33m\u001b[0m\u001b[0m\n",
      "\u001b[1;31mUnboundLocalError\u001b[0m: local variable 'cnt' referenced before assignment"
     ]
    }
   ],
   "source": [
    "data = np.loadtxt('testSet.txt')\n",
    "y_labels,avg_np = KMeans(data,4)\n",
    "print(y_labels)\n",
    "print(avg_np)\n",
    "\n",
    "class_x = [[],[],[],[]]\n",
    "\n",
    "class_y = [[],[],[],[]]\n",
    "\n",
    "\n",
    "\n",
    "for i in range(len(data)):\n",
    "    if y_labels[i]==0:\n",
    "        class_x[0].append(data[i][0])\n",
    "        class_y[0].append(data[i][1])\n",
    "    elif y_labels[i]==1:\n",
    "        class_x[1].append(data[i][0])\n",
    "        class_y[1].append(data[i][1])\n",
    "    elif y_labels[i]==2:\n",
    "        class_x[2].append(data[i][0])\n",
    "        class_y[2].append(data[i][1])\n",
    "    else:\n",
    "        class_x[3].append(data[i][0])\n",
    "        class_y[3].append(data[i][1])\n",
    "\n",
    "plt.figure()\n",
    "for i in range(4):\n",
    "    plt.scatter(class_x[i],class_y[i])\n",
    "\n",
    "plt.show()"
   ]
  },
  {
   "cell_type": "code",
   "execution_count": null,
   "metadata": {},
   "outputs": [],
   "source": []
  },
  {
   "cell_type": "code",
   "execution_count": null,
   "metadata": {},
   "outputs": [],
   "source": []
  }
 ],
 "metadata": {
  "kernelspec": {
   "display_name": "Python 3",
   "language": "python",
   "name": "python3"
  },
  "language_info": {
   "codemirror_mode": {
    "name": "ipython",
    "version": 3
   },
   "file_extension": ".py",
   "mimetype": "text/x-python",
   "name": "python",
   "nbconvert_exporter": "python",
   "pygments_lexer": "ipython3",
   "version": "3.7.4"
  },
  "toc": {
   "base_numbering": 1,
   "nav_menu": {},
   "number_sections": true,
   "sideBar": true,
   "skip_h1_title": false,
   "title_cell": "Table of Contents",
   "title_sidebar": "Contents",
   "toc_cell": false,
   "toc_position": {},
   "toc_section_display": true,
   "toc_window_display": false
  }
 },
 "nbformat": 4,
 "nbformat_minor": 2
}
