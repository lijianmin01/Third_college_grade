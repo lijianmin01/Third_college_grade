{
 "cells": [
  {
   "cell_type": "code",
   "execution_count": 1,
   "metadata": {
    "ExecuteTime": {
     "end_time": "2020-10-14T07:15:01.451199Z",
     "start_time": "2020-10-14T07:15:00.420613Z"
    }
   },
   "outputs": [],
   "source": [
    "import numpy as np\n",
    "\n",
    "import matplotlib.pyplot as plt"
   ]
  },
  {
   "cell_type": "markdown",
   "metadata": {},
   "source": [
    "## 最小二乘法"
   ]
  },
  {
   "cell_type": "code",
   "execution_count": 3,
   "metadata": {
    "ExecuteTime": {
     "end_time": "2020-10-14T07:22:05.327457Z",
     "start_time": "2020-10-14T07:22:05.300639Z"
    }
   },
   "outputs": [
    {
     "data": {
      "text/plain": [
       "array([0.5, 0.5])"
      ]
     },
     "execution_count": 3,
     "metadata": {},
     "output_type": "execute_result"
    }
   ],
   "source": [
    "from sklearn import linear_model\n",
    "\n",
    "reg = linear_model.LinearRegression()\n",
    "reg.fit([[1,1],[0,0],[1,1],[2,2]],[1,2,3,4])\n",
    "reg.coef_"
   ]
  },
  {
   "cell_type": "markdown",
   "metadata": {},
   "source": [
    "## 糖尿病数据集"
   ]
  },
  {
   "cell_type": "code",
   "execution_count": 5,
   "metadata": {
    "ExecuteTime": {
     "end_time": "2020-10-14T07:28:13.104474Z",
     "start_time": "2020-10-14T07:28:12.501451Z"
    }
   },
   "outputs": [],
   "source": [
    "from sklearn import datasets\n",
    "diabetes = datasets.load_diabetes()\n"
   ]
  },
  {
   "cell_type": "code",
   "execution_count": 9,
   "metadata": {
    "ExecuteTime": {
     "end_time": "2020-10-14T07:31:36.276465Z",
     "start_time": "2020-10-14T07:31:36.267489Z"
    }
   },
   "outputs": [
    {
     "data": {
      "text/plain": [
       "array([[ 0.06169621, -0.05147406,  0.04445121, -0.01159501, -0.03638469,\n",
       "        -0.04069594, -0.04716281, -0.00189471,  0.06169621,  0.03906215,\n",
       "        -0.08380842,  0.01750591, -0.02884001, -0.00189471, -0.02560657,\n",
       "        -0.01806189,  0.04229559,  0.01211685, -0.0105172 , -0.01806189,\n",
       "        -0.05686312, -0.02237314, -0.00405033,  0.06061839,  0.03582872,\n",
       "        -0.01267283, -0.07734155,  0.05954058, -0.02129532, -0.00620595,\n",
       "         0.04445121, -0.06548562,  0.12528712, -0.05039625, -0.06332999,\n",
       "        -0.03099563,  0.02289497,  0.01103904,  0.07139652,  0.01427248,\n",
       "        -0.00836158, -0.06764124, -0.0105172 , -0.02345095,  0.06816308,\n",
       "        -0.03530688, -0.01159501, -0.0730303 , -0.04177375,  0.01427248,\n",
       "        -0.00728377,  0.0164281 , -0.00943939, -0.01590626,  0.0250506 ,\n",
       "        -0.04931844,  0.04121778, -0.06332999, -0.06440781, -0.02560657,\n",
       "        -0.00405033,  0.00457217, -0.00728377, -0.0374625 , -0.02560657,\n",
       "        -0.02452876, -0.01806189, -0.01482845, -0.02991782, -0.046085  ,\n",
       "        -0.06979687,  0.03367309, -0.00405033, -0.02021751,  0.00241654,\n",
       "        -0.03099563,  0.02828403, -0.03638469, -0.05794093, -0.0374625 ,\n",
       "         0.01211685, -0.02237314, -0.03530688,  0.00996123, -0.03961813,\n",
       "         0.07139652, -0.07518593, -0.00620595, -0.04069594, -0.04824063,\n",
       "        -0.02560657,  0.0519959 ,  0.00457217, -0.06440781, -0.01698407,\n",
       "        -0.05794093,  0.00996123,  0.08864151, -0.00512814, -0.06440781,\n",
       "         0.01750591, -0.04500719,  0.02828403,  0.04121778,  0.06492964,\n",
       "        -0.03207344, -0.07626374,  0.04984027,  0.04552903, -0.00943939,\n",
       "        -0.03207344,  0.00457217,  0.02073935,  0.01427248,  0.11019775,\n",
       "         0.00133873,  0.05846277, -0.02129532, -0.0105172 , -0.04716281,\n",
       "         0.00457217,  0.01750591,  0.08109682,  0.0347509 ,  0.02397278,\n",
       "        -0.00836158, -0.06117437, -0.00189471, -0.06225218,  0.0164281 ,\n",
       "         0.09618619, -0.06979687, -0.02129532, -0.05362969,  0.0433734 ,\n",
       "         0.05630715, -0.0816528 ,  0.04984027,  0.11127556,  0.06169621,\n",
       "         0.01427248,  0.04768465,  0.01211685,  0.00564998,  0.04660684,\n",
       "         0.12852056,  0.05954058,  0.09295276,  0.01535029, -0.00512814,\n",
       "         0.0703187 , -0.00405033, -0.00081689, -0.04392938,  0.02073935,\n",
       "         0.06061839, -0.0105172 , -0.03315126, -0.06548562,  0.0433734 ,\n",
       "        -0.06225218,  0.06385183,  0.03043966,  0.07247433, -0.0191397 ,\n",
       "        -0.06656343, -0.06009656,  0.06924089,  0.05954058, -0.02668438,\n",
       "        -0.02021751, -0.046085  ,  0.07139652, -0.07949718,  0.00996123,\n",
       "        -0.03854032,  0.01966154,  0.02720622, -0.00836158, -0.01590626,\n",
       "         0.00457217, -0.04285156,  0.00564998, -0.03530688,  0.02397278,\n",
       "        -0.01806189,  0.04229559, -0.0547075 , -0.00297252, -0.06656343,\n",
       "        -0.01267283, -0.04177375, -0.03099563, -0.00512814, -0.05901875,\n",
       "         0.0250506 , -0.046085  ,  0.00349435,  0.05415152, -0.04500719,\n",
       "        -0.05794093, -0.05578531,  0.00133873,  0.03043966,  0.00672779,\n",
       "         0.04660684,  0.02612841,  0.04552903,  0.04013997, -0.01806189,\n",
       "         0.01427248,  0.03690653,  0.00349435, -0.07087468, -0.03315126,\n",
       "         0.09403057,  0.03582872,  0.03151747, -0.06548562, -0.04177375,\n",
       "        -0.03961813, -0.03854032, -0.02560657, -0.02345095, -0.06656343,\n",
       "         0.03259528, -0.046085  , -0.02991782, -0.01267283, -0.01590626,\n",
       "         0.07139652, -0.03099563,  0.00026092,  0.03690653,  0.03906215,\n",
       "        -0.01482845,  0.00672779, -0.06871905, -0.00943939,  0.01966154,\n",
       "         0.07462995, -0.00836158, -0.02345095, -0.046085  ,  0.05415152,\n",
       "        -0.03530688, -0.03207344, -0.0816528 ,  0.04768465,  0.06061839,\n",
       "         0.05630715,  0.09834182,  0.05954058,  0.03367309,  0.05630715,\n",
       "        -0.06548562,  0.16085492, -0.05578531, -0.02452876, -0.03638469,\n",
       "        -0.00836158, -0.04177375,  0.12744274, -0.07734155,  0.02828403,\n",
       "        -0.02560657, -0.06225218, -0.00081689,  0.08864151, -0.03207344,\n",
       "         0.03043966,  0.00888341,  0.00672779, -0.02021751, -0.02452876,\n",
       "        -0.01159501,  0.02612841, -0.05901875, -0.03638469, -0.02452876,\n",
       "         0.01858372, -0.0902753 , -0.00512814, -0.05255187, -0.02237314,\n",
       "        -0.02021751, -0.0547075 , -0.00620595, -0.01698407,  0.05522933,\n",
       "         0.07678558,  0.01858372, -0.02237314,  0.09295276, -0.03099563,\n",
       "         0.03906215, -0.06117437, -0.00836158, -0.0374625 , -0.01375064,\n",
       "         0.07355214, -0.02452876,  0.03367309,  0.0347509 , -0.03854032,\n",
       "        -0.03961813, -0.00189471, -0.03099563, -0.046085  ,  0.00133873,\n",
       "         0.06492964,  0.04013997, -0.02345095,  0.05307371,  0.04013997,\n",
       "        -0.02021751,  0.01427248, -0.03422907,  0.00672779,  0.00457217,\n",
       "         0.03043966,  0.0519959 ,  0.06169621, -0.00728377,  0.00564998,\n",
       "         0.05415152, -0.00836158,  0.114509  ,  0.06708527, -0.05578531,\n",
       "         0.03043966, -0.02560657,  0.10480869, -0.00620595, -0.04716281,\n",
       "        -0.04824063,  0.08540807, -0.01267283, -0.03315126, -0.00728377,\n",
       "        -0.01375064,  0.05954058,  0.02181716,  0.01858372, -0.01159501,\n",
       "        -0.00297252,  0.01750591, -0.02991782, -0.02021751, -0.05794093,\n",
       "         0.06061839, -0.04069594, -0.07195249, -0.05578531,  0.04552903,\n",
       "        -0.00943939, -0.03315126,  0.04984027, -0.08488624,  0.00564998,\n",
       "         0.02073935, -0.00728377,  0.10480869, -0.02452876, -0.00620595,\n",
       "        -0.03854032,  0.13714305,  0.17055523,  0.00241654,  0.03798434,\n",
       "        -0.05794093, -0.00943939, -0.02345095, -0.0105172 , -0.03422907,\n",
       "        -0.00297252,  0.06816308,  0.00996123,  0.00241654, -0.03854032,\n",
       "         0.02612841, -0.08919748,  0.06061839, -0.02884001, -0.02991782,\n",
       "        -0.0191397 , -0.04069594,  0.01535029, -0.02452876,  0.00133873,\n",
       "         0.06924089, -0.06979687, -0.02991782, -0.046085  ,  0.01858372,\n",
       "         0.00133873, -0.03099563, -0.00405033,  0.01535029,  0.02289497,\n",
       "         0.04552903, -0.04500719, -0.03315126,  0.097264  ,  0.05415152,\n",
       "         0.12313149, -0.08057499,  0.09295276, -0.05039625, -0.01159501,\n",
       "        -0.0277622 ,  0.05846277,  0.08540807, -0.00081689,  0.00672779,\n",
       "         0.00888341,  0.08001901,  0.07139652, -0.02452876, -0.0547075 ,\n",
       "        -0.03638469,  0.0164281 ,  0.07786339, -0.03961813,  0.01103904,\n",
       "        -0.04069594, -0.03422907,  0.00564998,  0.08864151, -0.03315126,\n",
       "        -0.05686312, -0.03099563,  0.05522933, -0.06009656,  0.00133873,\n",
       "        -0.02345095, -0.07410811,  0.01966154, -0.01590626, -0.01590626,\n",
       "         0.03906215, -0.0730303 ]])"
      ]
     },
     "execution_count": 9,
     "metadata": {},
     "output_type": "execute_result"
    }
   ],
   "source": [
    "diabetes.data[:,2][np.newaxis,:]"
   ]
  },
  {
   "cell_type": "code",
   "execution_count": 14,
   "metadata": {
    "ExecuteTime": {
     "end_time": "2020-10-14T07:37:56.106069Z",
     "start_time": "2020-10-14T07:37:56.102079Z"
    }
   },
   "outputs": [],
   "source": [
    "diabetes_X = diabetes.data[:,2][:,np.newaxis]"
   ]
  },
  {
   "cell_type": "code",
   "execution_count": 15,
   "metadata": {
    "ExecuteTime": {
     "end_time": "2020-10-14T07:37:58.833140Z",
     "start_time": "2020-10-14T07:37:58.830148Z"
    }
   },
   "outputs": [],
   "source": [
    "reg = linear_model.LinearRegression()\n"
   ]
  },
  {
   "cell_type": "code",
   "execution_count": 16,
   "metadata": {
    "ExecuteTime": {
     "end_time": "2020-10-14T07:38:00.587750Z",
     "start_time": "2020-10-14T07:38:00.529457Z"
    }
   },
   "outputs": [
    {
     "data": {
      "text/plain": [
       "LinearRegression(copy_X=True, fit_intercept=True, n_jobs=None, normalize=False)"
      ]
     },
     "execution_count": 16,
     "metadata": {},
     "output_type": "execute_result"
    }
   ],
   "source": [
    "from sklearn.model_selection import train_test_split\n",
    "x_train,x_test,y_train,y_test = train_test_split(diabetes_X,diabetes.target,test_size = 0.1)\n",
    "reg.fit(x_train,y_train)"
   ]
  },
  {
   "cell_type": "code",
   "execution_count": 18,
   "metadata": {
    "ExecuteTime": {
     "end_time": "2020-10-14T07:54:51.109546Z",
     "start_time": "2020-10-14T07:54:51.102935Z"
    }
   },
   "outputs": [],
   "source": [
    "y_prv = reg.predict(x_test)"
   ]
  },
  {
   "cell_type": "code",
   "execution_count": 19,
   "metadata": {
    "ExecuteTime": {
     "end_time": "2020-10-14T07:54:53.348671Z",
     "start_time": "2020-10-14T07:54:53.326189Z"
    }
   },
   "outputs": [
    {
     "ename": "NameError",
     "evalue": "name 'ref' is not defined",
     "output_type": "error",
     "traceback": [
      "\u001b[1;31m------------------------------------------------------------\u001b[0m",
      "\u001b[1;31mNameError\u001b[0m                  Traceback (most recent call last)",
      "\u001b[1;32m<ipython-input-19-dad65bfaa2f9>\u001b[0m in \u001b[0;36m<module>\u001b[1;34m\u001b[0m\n\u001b[1;32m----> 1\u001b[1;33m \u001b[0mref\u001b[0m\u001b[1;33m.\u001b[0m\u001b[0mscore\u001b[0m\u001b[1;33m(\u001b[0m\u001b[0mx_test\u001b[0m\u001b[1;33m,\u001b[0m\u001b[0my_test\u001b[0m\u001b[1;33m)\u001b[0m\u001b[1;33m\u001b[0m\u001b[1;33m\u001b[0m\u001b[0m\n\u001b[0m",
      "\u001b[1;31mNameError\u001b[0m: name 'ref' is not defined"
     ]
    }
   ],
   "source": [
    "ref.score(x_test,y_test)"
   ]
  },
  {
   "cell_type": "code",
   "execution_count": 20,
   "metadata": {
    "ExecuteTime": {
     "end_time": "2020-10-14T07:55:01.347548Z",
     "start_time": "2020-10-14T07:55:00.901869Z"
    }
   },
   "outputs": [
    {
     "data": {
      "text/plain": [
       "[<matplotlib.lines.Line2D at 0x2801a93ee88>]"
      ]
     },
     "execution_count": 20,
     "metadata": {},
     "output_type": "execute_result"
    },
    {
     "data": {
      "image/png": "[encoded data removed]",
      "text/plain": [
       "<Figure size 432x288 with 1 Axes>"
      ]
     },
     "metadata": {
      "needs_background": "light"
     },
     "output_type": "display_data"
    }
   ],
   "source": [
    "plt.scatter(x_test,y_test,c='r')\n",
    "plt.plot(x_test,y_prv)"
   ]
  },
  {
   "cell_type": "markdown",
   "metadata": {},
   "source": [
    "## 决策树"
   ]
  },
  {
   "cell_type": "code",
   "execution_count": 22,
   "metadata": {
    "ExecuteTime": {
     "end_time": "2020-10-14T07:58:32.762075Z",
     "start_time": "2020-10-14T07:58:32.745250Z"
    }
   },
   "outputs": [
    {
     "data": {
      "text/plain": [
       "array([1])"
      ]
     },
     "execution_count": 22,
     "metadata": {},
     "output_type": "execute_result"
    }
   ],
   "source": [
    "from sklearn import tree\n",
    "x = [[0,0],[1,1]]\n",
    "y = [0,1]\n",
    "clf = tree.DecisionTreeClassifier()\n",
    "\n",
    "clf.fit(x,y)\n",
    "clf.predict([[2,2]])"
   ]
  },
  {
   "cell_type": "code",
   "execution_count": 23,
   "metadata": {
    "ExecuteTime": {
     "end_time": "2020-10-14T08:01:38.505942Z",
     "start_time": "2020-10-14T08:01:38.423961Z"
    }
   },
   "outputs": [
    {
     "data": {
      "text/plain": [
       "array([1])"
      ]
     },
     "execution_count": 23,
     "metadata": {},
     "output_type": "execute_result"
    }
   ],
   "source": [
    "iris = datasets.load_iris()\n",
    "\n",
    "clf_i = tree.DecisionTreeClassifier()\n",
    "clf_i.fit(iris.data,iris.target)\n",
    "clf_i.predict([[1,2,3,4]])"
   ]
  },
  {
   "cell_type": "code",
   "execution_count": 25,
   "metadata": {
    "ExecuteTime": {
     "end_time": "2020-10-14T08:08:08.324693Z",
     "start_time": "2020-10-14T08:08:08.291696Z"
    }
   },
   "outputs": [
    {
     "data": {
      "text/plain": [
       "0.9444444444444444"
      ]
     },
     "execution_count": 25,
     "metadata": {},
     "output_type": "execute_result"
    }
   ],
   "source": [
    "wine = datasets.load_wine()\n",
    "x_train,x_test,y_train,y_test = train_test_split(wine.data,wine.target,test_size = 0.3)\n",
    "\n",
    "clf_w = tree.DecisionTreeClassifier()\n",
    "clf_w.fit(x_train,y_train)\n",
    "clf_w.score(x_test,y_test)\n"
   ]
  },
  {
   "cell_type": "code",
   "execution_count": 28,
   "metadata": {
    "ExecuteTime": {
     "end_time": "2020-10-14T08:13:37.533422Z",
     "start_time": "2020-10-14T08:13:37.513482Z"
    }
   },
   "outputs": [
    {
     "data": {
      "text/plain": [
       "1.0"
      ]
     },
     "execution_count": 28,
     "metadata": {},
     "output_type": "execute_result"
    }
   ],
   "source": [
    "from sklearn.neighbors import KNeighborsClassifier\n",
    "\n",
    "knn = KNeighborsClassifier()\n",
    "x_train,x_test,y_train,y_test = train_test_split(iris.data,iris.target,test_size = 0.25)\n",
    "knn.fit(x_train,y_train)\n",
    "knn.score(x_test,y_test)"
   ]
  },
  {
   "cell_type": "markdown",
   "metadata": {},
   "source": [
    "## 神经网络"
   ]
  },
  {
   "cell_type": "code",
   "execution_count": 30,
   "metadata": {
    "ExecuteTime": {
     "end_time": "2020-10-14T08:21:31.389949Z",
     "start_time": "2020-10-14T08:21:31.203382Z"
    }
   },
   "outputs": [
    {
     "name": "stderr",
     "output_type": "stream",
     "text": [
      "F:\\Anaconda\\lib\\site-packages\\sklearn\\neural_network\\multilayer_perceptron.py:566: ConvergenceWarning: Stochastic Optimizer: Maximum iterations (200) reached and the optimization hasn't converged yet.\n",
      "  % self.max_iter, ConvergenceWarning)\n"
     ]
    },
    {
     "data": {
      "text/plain": [
       "array([1])"
      ]
     },
     "execution_count": 30,
     "metadata": {},
     "output_type": "execute_result"
    }
   ],
   "source": [
    "from sklearn import neural_network\n",
    "x = [[0,0],[1,1]]\n",
    "y = [0,1]\n",
    "\n",
    "clf = neural_network.MLPClassifier()\n",
    "clf.fit(x,y)\n",
    "\n",
    "clf.predict([[2,1]])"
   ]
  },
  {
   "cell_type": "code",
   "execution_count": 32,
   "metadata": {
    "ExecuteTime": {
     "end_time": "2020-10-14T08:24:32.221498Z",
     "start_time": "2020-10-14T08:24:32.206122Z"
    }
   },
   "outputs": [
    {
     "data": {
      "text/plain": [
       "[(2, 100), (100, 1)]"
      ]
     },
     "execution_count": 32,
     "metadata": {},
     "output_type": "execute_result"
    }
   ],
   "source": [
    "[coef.shape for coef in clf.coefs_]"
   ]
  },
  {
   "cell_type": "markdown",
   "metadata": {},
   "source": [
    "## 聚类"
   ]
  },
  {
   "cell_type": "code",
   "execution_count": 33,
   "metadata": {
    "ExecuteTime": {
     "end_time": "2020-10-14T08:32:38.873903Z",
     "start_time": "2020-10-14T08:32:37.647102Z"
    }
   },
   "outputs": [
    {
     "data": {
      "text/plain": [
       "KMeans(algorithm='auto', copy_x=True, init='k-means++', max_iter=300,\n",
       "       n_clusters=4, n_init=10, n_jobs=None, precompute_distances='auto',\n",
       "       random_state=None, tol=0.0001, verbose=0)"
      ]
     },
     "execution_count": 33,
     "metadata": {},
     "output_type": "execute_result"
    }
   ],
   "source": [
    "from sklearn import cluster\n",
    "x,y = datasets.make_blobs(n_samples=300,n_features=2,centers=4)\n",
    "kmeans = cluster.KMeans(n_clusters=4)\n",
    "kmeans.fit(x)"
   ]
  },
  {
   "cell_type": "code",
   "execution_count": 34,
   "metadata": {
    "ExecuteTime": {
     "end_time": "2020-10-14T08:34:09.946706Z",
     "start_time": "2020-10-14T08:34:09.932192Z"
    }
   },
   "outputs": [
    {
     "data": {
      "text/plain": [
       "array([2, 0, 0, 1, 2, 1, 2, 3, 2, 2, 2, 2, 0, 0, 2, 0, 3, 0, 0, 0, 1, 0,\n",
       "       2, 3, 2, 3, 0, 3, 3, 2, 2, 0, 0, 1, 0, 3, 2, 1, 1, 2, 1, 1, 2, 3,\n",
       "       2, 2, 0, 3, 2, 1, 1, 2, 3, 3, 2, 1, 3, 2, 2, 2, 2, 2, 2, 2, 1, 0,\n",
       "       3, 3, 1, 1, 0, 3, 2, 3, 3, 3, 0, 2, 2, 1, 2, 0, 3, 0, 1, 0, 0, 3,\n",
       "       3, 1, 3, 3, 3, 2, 2, 3, 2, 2, 0, 2, 0, 2, 3, 2, 3, 1, 3, 0, 0, 2,\n",
       "       0, 1, 3, 0, 3, 3, 1, 1, 3, 2, 3, 2, 2, 0, 0, 1, 0, 2, 3, 3, 2, 3,\n",
       "       2, 2, 0, 1, 1, 1, 2, 1, 2, 0, 0, 2, 2, 1, 1, 1, 0, 2, 2, 0, 2, 3,\n",
       "       2, 1, 3, 0, 1, 1, 2, 0, 0, 2, 1, 0, 1, 0, 3, 1, 0, 3, 3, 0, 3, 2,\n",
       "       1, 3, 1, 2, 3, 2, 1, 1, 1, 1, 0, 2, 2, 0, 3, 2, 0, 1, 3, 2, 1, 0,\n",
       "       0, 0, 1, 2, 3, 2, 2, 3, 0, 2, 0, 2, 1, 0, 0, 1, 1, 0, 0, 3, 1, 2,\n",
       "       0, 3, 3, 3, 0, 0, 3, 2, 1, 2, 1, 2, 0, 3, 3, 0, 0, 2, 2, 3, 1, 2,\n",
       "       3, 2, 0, 1, 3, 3, 0, 3, 0, 1, 0, 3, 0, 0, 3, 3, 1, 2, 0, 1, 2, 3,\n",
       "       0, 2, 0, 2, 0, 3, 2, 3, 1, 0, 2, 0, 0, 3, 1, 3, 3, 0, 1, 1, 3, 1,\n",
       "       2, 3, 3, 1, 0, 2, 3, 1, 1, 1, 1, 3, 1, 3])"
      ]
     },
     "execution_count": 34,
     "metadata": {},
     "output_type": "execute_result"
    }
   ],
   "source": [
    "kmeans.labels_"
   ]
  },
  {
   "cell_type": "code",
   "execution_count": 39,
   "metadata": {
    "ExecuteTime": {
     "end_time": "2020-10-14T08:41:04.578970Z",
     "start_time": "2020-10-14T08:41:04.235033Z"
    }
   },
   "outputs": [
    {
     "data": {
      "text/plain": [
       "<matplotlib.collections.PathCollection at 0x2801cdd6bc8>"
      ]
     },
     "execution_count": 39,
     "metadata": {},
     "output_type": "execute_result"
    },
    {
     "data": {
      "image/png": "[encoded data removed]",
      "text/plain": [
       "<Figure size 432x288 with 1 Axes>"
      ]
     },
     "metadata": {
      "needs_background": "light"
     },
     "output_type": "display_data"
    }
   ],
   "source": [
    "plt.scatter(x[kmeans.labels_==0][:,0],x[kmeans.labels_==0][:,1],c='r')\n",
    "plt.scatter(x[kmeans.labels_==1][:,0],x[kmeans.labels_==1][:,1],c='g')\n",
    "plt.scatter(x[kmeans.labels_==2][:,0],x[kmeans.labels_==2][:,1],c='b')\n",
    "plt.scatter(x[kmeans.labels_==3][:,0],x[kmeans.labels_==3][:,1],c='black')"
   ]
  },
  {
   "cell_type": "markdown",
   "metadata": {},
   "source": [
    "## 密度聚类"
   ]
  },
  {
   "cell_type": "code",
   "execution_count": 40,
   "metadata": {
    "ExecuteTime": {
     "end_time": "2020-10-14T08:54:42.819782Z",
     "start_time": "2020-10-14T08:54:42.803523Z"
    }
   },
   "outputs": [
    {
     "data": {
      "text/plain": [
       "DBSCAN(algorithm='auto', eps=1.0, leaf_size=30, metric='euclidean',\n",
       "       metric_params=None, min_samples=4, n_jobs=None, p=None)"
      ]
     },
     "execution_count": 40,
     "metadata": {},
     "output_type": "execute_result"
    }
   ],
   "source": [
    "from sklearn.cluster import DBSCAN\n",
    "dbs = DBSCAN(eps=1.0,min_samples=4)\n",
    "dbs.fit(x)"
   ]
  },
  {
   "cell_type": "code",
   "execution_count": 41,
   "metadata": {
    "ExecuteTime": {
     "end_time": "2020-10-14T08:55:31.566474Z",
     "start_time": "2020-10-14T08:55:31.211067Z"
    }
   },
   "outputs": [
    {
     "data": {
      "text/plain": [
       "<matplotlib.collections.PathCollection at 0x2801ce62288>"
      ]
     },
     "execution_count": 41,
     "metadata": {},
     "output_type": "execute_result"
    },
    {
     "data": {
      "image/png": "[encoded data removed]",
      "text/plain": [
       "<Figure size 432x288 with 1 Axes>"
      ]
     },
     "metadata": {
      "needs_background": "light"
     },
     "output_type": "display_data"
    }
   ],
   "source": [
    "plt.scatter(x[dbs.labels_==0][:,0],x[dbs.labels_==0][:,1],c='r')\n",
    "plt.scatter(x[dbs.labels_==1][:,0],x[dbs.labels_==1][:,1],c='g')\n",
    "plt.scatter(x[dbs.labels_==2][:,0],x[dbs.labels_==2][:,1],c='b')\n",
    "plt.scatter(x[dbs.labels_==3][:,0],x[dbs.labels_==3][:,1],c='black')"
   ]
  }
 ],
 "metadata": {
  "kernelspec": {
   "display_name": "Python 3",
   "language": "python",
   "name": "python3"
  },
  "language_info": {
   "codemirror_mode": {
    "name": "ipython",
    "version": 3
   },
   "file_extension": ".py",
   "mimetype": "text/x-python",
   "name": "python",
   "nbconvert_exporter": "python",
   "pygments_lexer": "ipython3",
   "version": "3.7.4"
  },
  "toc": {
   "base_numbering": 1,
   "nav_menu": {},
   "number_sections": true,
   "sideBar": true,
   "skip_h1_title": false,
   "title_cell": "Table of Contents",
   "title_sidebar": "Contents",
   "toc_cell": false,
   "toc_position": {},
   "toc_section_display": true,
   "toc_window_display": false
  }
 },
 "nbformat": 4,
 "nbformat_minor": 2
}
