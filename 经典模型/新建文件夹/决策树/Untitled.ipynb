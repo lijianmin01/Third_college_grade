{
 "cells": [
  {
   "cell_type": "code",
   "execution_count": 12,
   "metadata": {
    "ExecuteTime": {
     "end_time": "2020-09-25T07:40:06.126232Z",
     "start_time": "2020-09-25T07:40:06.119215Z"
    }
   },
   "outputs": [],
   "source": [
    "import operator\n",
    "from math import log"
   ]
  },
  {
   "cell_type": "markdown",
   "metadata": {},
   "source": [
    "## 1、准备数据集"
   ]
  },
  {
   "cell_type": "code",
   "execution_count": 13,
   "metadata": {
    "ExecuteTime": {
     "end_time": "2020-09-25T07:40:08.750239Z",
     "start_time": "2020-09-25T07:40:08.724787Z"
    }
   },
   "outputs": [],
   "source": [
    "def create_data():\n",
    "        dataset = [[0, 0, 0, 0, 'no'],\n",
    "             [0, 0, 0, 1, 'no'],\n",
    "             [0, 1, 0, 1, 'yes'],\n",
    "             [0, 1, 1, 0, 'yes'],\n",
    "             [0, 0, 0, 0, 'no'],\n",
    "             [1, 0, 0, 0, 'no'],\n",
    "             [1, 0, 0, 1, 'no'],\n",
    "             [1, 1, 1, 1, 'yes'],\n",
    "             [1, 0, 1, 2, 'yes'],\n",
    "             [1, 0, 1, 2, 'yes'],\n",
    "             [2, 0, 1, 2, 'yes'],\n",
    "             [2, 0, 1, 1, 'yes'],\n",
    "             [2, 1, 0, 1, 'yes'],\n",
    "             [2, 1, 0, 2, 'yes'],\n",
    "             [2, 0, 0, 0, 'no']]\n",
    "        feat_labels =['age','house','work','status']\n",
    "        return dataset,feat_labels\n",
    "        "
   ]
  },
  {
   "cell_type": "code",
   "execution_count": 4,
   "metadata": {
    "ExecuteTime": {
     "end_time": "2020-09-25T06:45:21.511495Z",
     "start_time": "2020-09-25T06:45:21.496625Z"
    }
   },
   "outputs": [
    {
     "data": {
      "text/plain": [
       "['age', 'house', 'work', 'status']"
      ]
     },
     "execution_count": 4,
     "metadata": {},
     "output_type": "execute_result"
    }
   ],
   "source": [
    "dataset,feat_labels = create_data()\n",
    "feat_labels"
   ]
  },
  {
   "cell_type": "markdown",
   "metadata": {},
   "source": [
    "## 2、计算熵"
   ]
  },
  {
   "cell_type": "code",
   "execution_count": 14,
   "metadata": {
    "ExecuteTime": {
     "end_time": "2020-09-25T07:40:10.783865Z",
     "start_time": "2020-09-25T07:40:10.767424Z"
    }
   },
   "outputs": [],
   "source": [
    "def calc_ent(dataset):\n",
    "    \"\"\"\n",
    "    - sum p log2 pi\n",
    "    \"\"\"\n",
    "    n = len(dataset)  # 样本的个数\n",
    "    lable_count ={}\n",
    "    for x in dataset:\n",
    "        lable = x[-1] # 类别\n",
    "        lable_count[lable] = lable_count.get(lable,0)+1\n",
    "    \n",
    "    ent = 0\n",
    "    for key in lable_count:\n",
    "        p = label_count[key] / n\n",
    "        ent -= p*log(p,2)\n",
    "    \n",
    "    return ent\n",
    "    "
   ]
  },
  {
   "cell_type": "markdown",
   "metadata": {},
   "source": [
    "## 4、划分子集"
   ]
  },
  {
   "cell_type": "code",
   "execution_count": 15,
   "metadata": {
    "ExecuteTime": {
     "end_time": "2020-09-25T07:40:13.309877Z",
     "start_time": "2020-09-25T07:40:13.302137Z"
    }
   },
   "outputs": [],
   "source": [
    "def split_dataset(dataset,feat_i,value):\n",
    "    sub_dataset = []\n",
    "    for x in dataset:\n",
    "        if x[feat_i]==value:\n",
    "            x_a = x[:feat_i]\n",
    "            x_a.extend(x[feat_i+1:])\n",
    "            sub_dataset.append(x)\n",
    "    return sub_dataset"
   ]
  },
  {
   "cell_type": "markdown",
   "metadata": {},
   "source": [
    "## 3、选最优特征"
   ]
  },
  {
   "cell_type": "code",
   "execution_count": 16,
   "metadata": {
    "ExecuteTime": {
     "end_time": "2020-09-25T07:40:15.451467Z",
     "start_time": "2020-09-25T07:40:15.434260Z"
    }
   },
   "outputs": [],
   "source": [
    "def choose_best_feat(dataset):\n",
    "    best_feat = -1\n",
    "    best_gain = 0  # 最大的信息特征\n",
    "    ent_new = 0\n",
    "    ent_base = calc_ent(dataset)\n",
    "    feat_n = len(dataset[0])-1\n",
    "    for feat_i in range(feat_n):\n",
    "        value_list = [x[feat_i] for x in dataset]\n",
    "        unique_values = set(value_list)\n",
    "        for value in unqiue_values:\n",
    "            sub_dataset = split_dataset(dataset,feat_i,value)\n",
    "            ent_new +=len(sub_dataset)/len(dataset)*calc_ent(sub_dataset)\n",
    "            \n",
    "        gain_i = ent_base-ent_new\n",
    "        if gain_i > best_gain:\n",
    "            best_gain = gain_i\n",
    "            best_feat = feat_i\n",
    "    \n",
    "    return best_feat\n",
    "            "
   ]
  },
  {
   "cell_type": "markdown",
   "metadata": {},
   "source": []
  },
  {
   "cell_type": "code",
   "execution_count": 20,
   "metadata": {
    "ExecuteTime": {
     "end_time": "2020-09-25T07:44:54.436882Z",
     "start_time": "2020-09-25T07:44:54.410707Z"
    }
   },
   "outputs": [
    {
     "ename": "IndentationError",
     "evalue": "expected an indented block (<ipython-input-20-7a04e1af4297>, line 8)",
     "output_type": "error",
     "traceback": [
      "\u001b[1;36m  File \u001b[1;32m\"<ipython-input-20-7a04e1af4297>\"\u001b[1;36m, line \u001b[1;32m8\u001b[0m\n\u001b[1;33m    class_count = []\u001b[0m\n\u001b[1;37m              ^\u001b[0m\n\u001b[1;31mIndentationError\u001b[0m\u001b[1;31m:\u001b[0m expected an indented block\n"
     ]
    }
   ],
   "source": [
    "## 5、创建树\n",
    "def create_tree(dataset,feat_labels):\n",
    "    # 判断的终止条件\n",
    "    class_label = [x[i] for x in datast]\n",
    "    if class_labels.count(class_label[0])==len(class_labels):\n",
    "        return class_labels[0]\n",
    "    if len(dataset[0])==1:\n",
    "    class_count = {}\n",
    "    for c in class_labels:\n",
    "        class_count[c]=class_count.get(c,0)+1\n",
    "    sorted_class=sorted(class_labels.items(),operator.itemgetter(1),reverse=True)\n",
    "    return sorted_class[0][0]\n",
    "    \n",
    "    \n",
    "## 选择最优特征\n",
    "best_feat_index = choose_best_feat(dataset)\n",
    "best_feat_label = feat_labels.index(best_feat_index)\n",
    "my_tree = [best_feat_label:{}]\n",
    "# 选取最优特征\n",
    "feat_labels_a = feat_labels[:best_feat_index]\n",
    "feat_labels_a.extend(feat_labels[best_feat_index+1,:])\n",
    "# 遍历最有特征的每个特征值,拿到子集，并递归创建树\n",
    "value_list = [x[best_feat_index] for x in dataset]\n",
    "unique_vals = set(value_list)\n",
    "for value in unique_vals:\n",
    "    sub_dataset = split_dataset(dataset,best_feat_index,value)\n",
    "    my_tree[best_feat_label][value]=create_tree(sub_dataset,feat_labels_a)\n"
   ]
  },
  {
   "cell_type": "code",
   "execution_count": null,
   "metadata": {},
   "outputs": [],
   "source": [
    "def classify(my_tree,x,feat_labels):\n",
    "    root_feat = next(iter(my_tree))\n",
    "    branch = my_tree[root_feat]\n",
    "    feat_index = feat_labels.index(root_feat)\n",
    "    for key in branch.keys():\n",
    "        if x[feat_index]==key:\n",
    "            if(type(branch[key])).__name__=='dict':\n",
    "                class_label = classify(branch[key],x,feat_labels)\n",
    "            else:\n",
    "                "
   ]
  },
  {
   "cell_type": "code",
   "execution_count": null,
   "metadata": {},
   "outputs": [],
   "source": []
  },
  {
   "cell_type": "code",
   "execution_count": null,
   "metadata": {},
   "outputs": [],
   "source": []
  },
  {
   "cell_type": "code",
   "execution_count": null,
   "metadata": {},
   "outputs": [],
   "source": []
  },
  {
   "cell_type": "code",
   "execution_count": null,
   "metadata": {},
   "outputs": [],
   "source": []
  },
  {
   "cell_type": "code",
   "execution_count": null,
   "metadata": {},
   "outputs": [],
   "source": []
  }
 ],
 "metadata": {
  "kernelspec": {
   "display_name": "Python 3",
   "language": "python",
   "name": "python3"
  },
  "language_info": {
   "codemirror_mode": {
    "name": "ipython",
    "version": 3
   },
   "file_extension": ".py",
   "mimetype": "text/x-python",
   "name": "python",
   "nbconvert_exporter": "python",
   "pygments_lexer": "ipython3",
   "version": "3.7.4"
  },
  "toc": {
   "base_numbering": 1,
   "nav_menu": {},
   "number_sections": true,
   "sideBar": true,
   "skip_h1_title": false,
   "title_cell": "Table of Contents",
   "title_sidebar": "Contents",
   "toc_cell": false,
   "toc_position": {},
   "toc_section_display": true,
   "toc_window_display": false
  }
 },
 "nbformat": 4,
 "nbformat_minor": 2
}
